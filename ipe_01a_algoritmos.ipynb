{
 "cells": [
  {
   "cell_type": "markdown",
   "metadata": {
    "slideshow": {
     "slide_type": "slide"
    }
   },
   "source": [
    "<span style=\"color:green\">Introdução à Programação para Engenharias - scc0124</span>\n",
    "\n",
    "<span style=\"color:blue\">*Algoritmos e Computação*</span><br>\n",
    "\n",
    "*Moacir A. Ponti*<br>\n",
    "*ICMC/USP São Carlos*"
   ]
  },
  {
   "cell_type": "markdown",
   "metadata": {
    "slideshow": {
     "slide_type": "subslide"
    }
   },
   "source": [
    "**Conteúdo:**\n",
    "- Programação de Computadores\n",
    "- Algoritmo e Linguagem de Programação\n",
    "- Estruturas de controle\n",
    "- Características de um algoritmo\n",
    "- Exemplo\n",
    "- Projetando um algoritmo"
   ]
  },
  {
   "cell_type": "markdown",
   "metadata": {
    "slideshow": {
     "slide_type": "slide"
    }
   },
   "source": [
    "# Programação de Computadores\n",
    "\n",
    "O objetivo de se programar um computador é resolver um determinado problema por meio de **instruções**\n",
    "\n",
    "A construção de um programa tem dois passos principais:\n",
    "\n",
    "1. Definição (o que)\n",
    "2. Desenvolvimento (como)"
   ]
  },
  {
   "cell_type": "markdown",
   "metadata": {
    "slideshow": {
     "slide_type": "slide"
    }
   },
   "source": [
    "# Algoritmo e Linguagem de Programação\n",
    "\n",
    "É uma solução para um problema dada por uma sequência de passos que visam atingir um objetivo bem definido.\n",
    "\n",
    "Não é um programa de computador, mas define instruções explícitas e precisas para posteriormente serem descritas em qualquer linguagem de programação.\n",
    "\n",
    "Um *código* em linguagem de programação pode ser interpretado e executado por um computador, em contraste com o *algoritmo* que pode ser descrito até mesmo em linguagem coloquial."
   ]
  },
  {
   "cell_type": "markdown",
   "metadata": {
    "slideshow": {
     "slide_type": "slide"
    }
   },
   "source": [
    "# Características de um algoritmo\n",
    "\n",
    "1. Cada passo é uma instrução que possa ser realizada\n",
    "2. A ordem dos passos deve ser precisa\n",
    "3. Deve ser finito"
   ]
  },
  {
   "cell_type": "markdown",
   "metadata": {
    "slideshow": {
     "slide_type": "fragment"
    }
   },
   "source": [
    "# Exemplo de algoritmo\n",
    "\n",
    "<img src=\"imagens/instrucoes_xampu.png\"></img>\n",
    "\n",
    "Podemos considerar que tem todas as características que definimos?"
   ]
  },
  {
   "cell_type": "markdown",
   "metadata": {
    "slideshow": {
     "slide_type": "slide"
    }
   },
   "source": [
    "# Projetando o primeiro algoritmo para o problema\n",
    "\n",
    "**Problema:** \"trocar uma lâmpada no teto\""
   ]
  },
  {
   "cell_type": "markdown",
   "metadata": {
    "slideshow": {
     "slide_type": "-"
    }
   },
   "source": [
    "\n",
    "<img src=\"imagens/lampada.jpg\"></img>"
   ]
  },
  {
   "cell_type": "markdown",
   "metadata": {
    "slideshow": {
     "slide_type": "slide"
    }
   },
   "source": [
    "## Primeira especificação\n",
    "\n",
    "<u>Início</u>\n",
    "1. Remova a lâmpada queimada\n",
    "2. Coloque a nova lâmpada\n",
    "\n",
    "<u>Fim</u>"
   ]
  },
  {
   "cell_type": "markdown",
   "metadata": {
    "slideshow": {
     "slide_type": "fragment"
    }
   },
   "source": [
    "Mas o que é necessário para acessar e remover a lâmpada?\n",
    "\n",
    "---"
   ]
  },
  {
   "cell_type": "markdown",
   "metadata": {
    "slideshow": {
     "slide_type": "slide"
    }
   },
   "source": [
    "## Segunda especificação\n",
    "\n",
    "<u>Início</u>\n",
    "1. Posicione uma escada debaixo da lâmpada queimada\n",
    "2. Suba na escada até que a lâmpada possa ser alcançada\n",
    "3. Gire a lâmpada queimada no sentido anti-horário até que se solte\n",
    "4. *Coloque a nova lâmpada*\n",
    "\n",
    "<u>Fim</u>\n"
   ]
  },
  {
   "cell_type": "markdown",
   "metadata": {
    "slideshow": {
     "slide_type": "fragment"
    }
   },
   "source": [
    "\n",
    "Mas o que é necessário para colocar a nova lâmpada?\n",
    "\n",
    "---"
   ]
  },
  {
   "cell_type": "markdown",
   "metadata": {
    "slideshow": {
     "slide_type": "slide"
    }
   },
   "source": [
    "## Terceira especificação\n",
    "\n",
    "<u>Início</u>\n",
    "1. Posicione uma escada debaixo da lâmpada queimada\n",
    "2. Suba na escada até que a lâmpada possa ser alcançada\n",
    "3. Gire a lâmpada queimada no sentido anti-horário até que se solte\n",
    "4. Escolha uma lâmpada da mesma voltagem da removida\n",
    "5. Posicione a nova lâmpada no soquete\n",
    "6. Gire a lâmpada no sentido horário até que ela se firme\n",
    "7. Desça da escada\n",
    "\n",
    "<u>Fim</u>\n"
   ]
  },
  {
   "cell_type": "markdown",
   "metadata": {
    "slideshow": {
     "slide_type": "fragment"
    }
   },
   "source": [
    "\n",
    "Note que há uma sequência bem definida!\n",
    "\n",
    "Mas como verificar se a lâmpada está mesmo queimada?\n",
    "\n",
    "Precisamos de uma forma de **selecionar** ou **condicionar** os passos\n",
    "\n",
    "---"
   ]
  },
  {
   "cell_type": "markdown",
   "metadata": {
    "slideshow": {
     "slide_type": "slide"
    }
   },
   "source": [
    "## Quarta especificação\n",
    "\n",
    "Assumindo que a lâmpada está apagada\n",
    "\n",
    "<u>Início</u>\n",
    "1. Acione o interruptor\n",
    "2. Se a lâmpada não acender então:\n",
    "    1. Posicione uma escada debaixo da lâmpada queimada\n",
    "    2. Suba na escada até que a lâmpada possa ser alcançada\n",
    "    3. Gire a lâmpada queimada no sentido anti-horário até que se solte\n",
    "    4. Escolha uma lâmpada da mesma voltagem da removida\n",
    "    5. Posicione a nova lâmpada no soquete\n",
    "    6. Gire a lâmpada no sentido horário até que ela se firme\n",
    "    7. Desça da escada\n",
    "\n",
    "<u>Fim</u>"
   ]
  },
  {
   "cell_type": "markdown",
   "metadata": {
    "slideshow": {
     "slide_type": "fragment"
    }
   },
   "source": [
    "A condicional no passo 2 permite executar um bloco de ações apenas se um determinado resultado for *verdadeiro*"
   ]
  },
  {
   "cell_type": "markdown",
   "metadata": {
    "slideshow": {
     "slide_type": "slide"
    }
   },
   "source": [
    "Mas ainda temos uma melhoria possível:\n",
    "- como ter certeza que a lâmpada nova funciona? Podemos substituir e a nova também estar com defeito."
   ]
  },
  {
   "cell_type": "markdown",
   "metadata": {
    "slideshow": {
     "slide_type": "slide"
    }
   },
   "source": [
    "## Quinta especificação\n",
    "\n",
    "<u>Início</u>\n",
    "1. Acione o interruptor\n",
    "2. Se a lâmpada não acender, então:\n",
    "    1. Posicione uma escada debaixo da lâmpada\n",
    "    2. Suba na escada até que a lâmpada possa ser alcançada\n",
    "3. Gire a lâmpada que não funcione no sentido anti-horário até que se solte\n",
    "4. Escolha uma nova lâmpada da mesma voltagem da removida\n",
    "5. Posicione a nova lâmpada no soquete\n",
    "6. Gire a lâmpada no sentido horário até que ela se firme\n",
    "7. Se a lâmpada não acender, então:\n",
    "    1. Gire a lâmpada que não funcione no sentido anti-horário até que se solte\n",
    "    2. Escolha uma nova lâmpada da mesma voltagem da removida\n",
    "    3. Posicione a nova lâmpada no soquete\n",
    "    4. Gire a lâmpada no sentido horário até que ela se firme\n",
    "9. Desça da escada\n",
    "\n",
    "<u>Fim</u>\n"
   ]
  },
  {
   "cell_type": "markdown",
   "metadata": {
    "slideshow": {
     "slide_type": "slide"
    }
   },
   "source": [
    "\n",
    "Agora temos uma nova tentativa usando condicional, mas e se mesmo essa segunda lâmpada tambem for defeituosa?\n",
    "\n",
    "---"
   ]
  },
  {
   "cell_type": "markdown",
   "metadata": {
    "slideshow": {
     "slide_type": "slide"
    }
   },
   "source": [
    "## Sexta especificação\n",
    "\n",
    "<u>Início</u>\n",
    "1. Acione o interruptor\n",
    "2. Se a lâmpada não acender, então:\n",
    "    1. Posicione uma escada debaixo da lâmpada\n",
    "    2. Suba na escada até que a lâmpada possa ser alcançada\n",
    "3. Enquanto a lâmpada não acender, faça:\n",
    "    1. Gire a lâmpada que não funcione no sentido anti-horário até que se solte\n",
    "    2. Escolha uma nova lâmpada da mesma voltagem da removida\n",
    "    3. Posicione a nova lâmpada no soquete\n",
    "    4. Gire a lâmpada no sentido horário até que ela se firme\n",
    "4. Desça da escada\n",
    "\n",
    "<u>Fim</u>"
   ]
  },
  {
   "cell_type": "markdown",
   "metadata": {
    "slideshow": {
     "slide_type": "fragment"
    }
   },
   "source": [
    "A repetição no passo 3 faz com que o trecho seja executado enquanto a condição for verdadeira/positiva.\n",
    "\n",
    "Quando a *condição de parada* é alcançada, segue para o passo 4.\n",
    "\n",
    "Note que agora o número de passos será indefinido, porém finito."
   ]
  },
  {
   "cell_type": "markdown",
   "metadata": {
    "slideshow": {
     "slide_type": "slide"
    }
   },
   "source": [
    "# Aspectos importantes\n",
    "\n",
    "1. Até quando refinar o algoritmo?\n",
    "2. Como especificar os passos da forma menos ambígua possível?\n",
    "3. Quais mecanismos temos para deixar o algoritmo o mais compacto possível? \n",
    "4. Como garantir que os passos eventualmente finalizarão?"
   ]
  }
 ],
 "metadata": {
  "kernelspec": {
   "display_name": "Python 3",
   "language": "python",
   "name": "python3"
  },
  "language_info": {
   "codemirror_mode": {
    "name": "ipython",
    "version": 3
   },
   "file_extension": ".py",
   "mimetype": "text/x-python",
   "name": "python",
   "nbconvert_exporter": "python",
   "pygments_lexer": "ipython3",
   "version": "3.9.2"
  },
  "toc": {
   "base_numbering": 1,
   "nav_menu": {},
   "number_sections": true,
   "sideBar": true,
   "skip_h1_title": false,
   "title_cell": "Table of Contents",
   "title_sidebar": "Contents",
   "toc_cell": false,
   "toc_position": {},
   "toc_section_display": true,
   "toc_window_display": false
  }
 },
 "nbformat": 4,
 "nbformat_minor": 2
}
