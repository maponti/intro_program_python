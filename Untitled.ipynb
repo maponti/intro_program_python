{
 "cells": [
  {
   "cell_type": "markdown",
   "id": "strong-travel",
   "metadata": {},
   "source": [
    "# Aula 2\n",
    "## Introdução a Programação para Engenharias\n",
    "\n",
    "Nesse notebook vamos explicar que as células podem ser tanto código quanto exibição no estilo HTML\n",
    "\n",
    "<font color=\"red\">Moacir Antonelli Ponti</font>\n"
   ]
  },
  {
   "cell_type": "code",
   "execution_count": 12,
   "id": "confused-perth",
   "metadata": {},
   "outputs": [
    {
     "name": "stdout",
     "output_type": "stream",
     "text": [
      "9.1\n"
     ]
    }
   ],
   "source": [
    "# código em Python\n",
    "x = 10\n",
    "z = 3\n",
    "print(x-z**2/10)"
   ]
  }
 ],
 "metadata": {
  "kernelspec": {
   "display_name": "Python 3",
   "language": "python",
   "name": "python3"
  },
  "language_info": {
   "codemirror_mode": {
    "name": "ipython",
    "version": 3
   },
   "file_extension": ".py",
   "mimetype": "text/x-python",
   "name": "python",
   "nbconvert_exporter": "python",
   "pygments_lexer": "ipython3",
   "version": "3.9.2"
  }
 },
 "nbformat": 4,
 "nbformat_minor": 5
}
