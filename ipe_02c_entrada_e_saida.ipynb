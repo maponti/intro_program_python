{
 "cells": [
  {
   "cell_type": "markdown",
   "metadata": {},
   "source": [
    "<span style=\"color:green\">Introdução à Programação para Engenharias - scc0124</span>\n",
    "\n",
    "<span style=\"color:blue\">*Entrada e Saída*</span><br>\n",
    "\n",
    "*Moacir A. Ponti*<br>\n",
    "*ICMC/USP São Carlos*"
   ]
  },
  {
   "cell_type": "markdown",
   "metadata": {},
   "source": [
    "**Conteúdo:**\n",
    "- Arquitetura do computador\n",
    "- Entrada e saída\n",
    "- Input\n",
    "- Print"
   ]
  },
  {
   "cell_type": "markdown",
   "metadata": {},
   "source": [
    "# Arquitetura do computador\n",
    "\n",
    "O computador que usamos segue a arquitetura \"de von Neumann\"\n",
    "\n",
    "<img src=\"imagens/von_neumann.jpg\" width=320></img>"
   ]
  },
  {
   "cell_type": "markdown",
   "metadata": {},
   "source": [
    "# Entrada e Saída\n",
    "\n",
    "É parte fundamental da programação de computadores pois inclui os dispositivos que permitem fornecer dados para o computador (entrada) e depois visualizar os resultados (saída) ou do inglês\n",
    "\n",
    "*input* / *output*\n",
    "\n",
    "Historicamente a entrada era feita com cabos e interruptores, passando aos atuais **teclado** e **mouse**\n",
    "\n",
    "A saída necessitava de luzes piscantes ou de impressores, passando aos atuais **monitores**"
   ]
  },
  {
   "cell_type": "markdown",
   "metadata": {},
   "source": [
    "# Input"
   ]
  },
  {
   "cell_type": "code",
   "execution_count": 1,
   "metadata": {},
   "outputs": [
    {
     "name": "stdout",
     "output_type": "stream",
     "text": [
      "abc\n"
     ]
    },
    {
     "data": {
      "text/plain": [
       "'abc'"
      ]
     },
     "execution_count": 1,
     "metadata": {},
     "output_type": "execute_result"
    }
   ],
   "source": [
    "input()"
   ]
  },
  {
   "cell_type": "code",
   "execution_count": 3,
   "metadata": {},
   "outputs": [
    {
     "name": "stdout",
     "output_type": "stream",
     "text": [
      "1\n"
     ]
    }
   ],
   "source": [
    "variavel = input()"
   ]
  },
  {
   "cell_type": "code",
   "execution_count": 4,
   "metadata": {},
   "outputs": [
    {
     "data": {
      "text/plain": [
       "'1'"
      ]
     },
     "execution_count": 4,
     "metadata": {},
     "output_type": "execute_result"
    }
   ],
   "source": [
    "variavel"
   ]
  },
  {
   "cell_type": "markdown",
   "metadata": {},
   "source": [
    "---\n",
    "As entradas são assumidas como cadeias de caracteres (*strings*) então é preciso **converter**"
   ]
  },
  {
   "cell_type": "code",
   "execution_count": 5,
   "metadata": {},
   "outputs": [
    {
     "name": "stdout",
     "output_type": "stream",
     "text": [
      "42\n"
     ]
    }
   ],
   "source": [
    "num = int(input())"
   ]
  },
  {
   "cell_type": "code",
   "execution_count": 6,
   "metadata": {},
   "outputs": [
    {
     "name": "stdout",
     "output_type": "stream",
     "text": [
      "14.22\n"
     ]
    }
   ],
   "source": [
    "valor = float(input())"
   ]
  },
  {
   "cell_type": "markdown",
   "metadata": {},
   "source": [
    "Mesmo quando desejamos palavras/strings é desejável usar a função `rstrip()` para garantir que não haverá caracteres terminadores (veremos isso em aulas futuras)"
   ]
  },
  {
   "cell_type": "code",
   "execution_count": 7,
   "metadata": {},
   "outputs": [
    {
     "name": "stdout",
     "output_type": "stream",
     "text": [
      "Mimi pegou a bolinha\n"
     ]
    }
   ],
   "source": [
    "palavra = str(input()).rstrip()"
   ]
  },
  {
   "cell_type": "markdown",
   "metadata": {},
   "source": [
    "# Print\n",
    "\n",
    "Essa palavra vem do histórico da computação quando as primeiras linguagens de programação foram desenvolvidas e não haviam monitores de vídeo.\n",
    "\n",
    "A função `print()` é usada para saída em Python"
   ]
  },
  {
   "cell_type": "code",
   "execution_count": 8,
   "metadata": {},
   "outputs": [
    {
     "name": "stdout",
     "output_type": "stream",
     "text": [
      "Essa frase será impressa\n"
     ]
    }
   ],
   "source": [
    "print(\"Essa frase será impressa\")"
   ]
  },
  {
   "cell_type": "code",
   "execution_count": 9,
   "metadata": {},
   "outputs": [
    {
     "name": "stdout",
     "output_type": "stream",
     "text": [
      "3333\n"
     ]
    }
   ],
   "source": [
    "print(3333)"
   ]
  },
  {
   "cell_type": "markdown",
   "metadata": {},
   "source": [
    "Para exibir valores de variáveis podemos usar concatenação ou formatação\n",
    "\n",
    "Há várias formas de fazer isso, vamos mostrar a opção mais simples"
   ]
  },
  {
   "cell_type": "code",
   "execution_count": 10,
   "metadata": {},
   "outputs": [],
   "source": [
    "a = 100"
   ]
  },
  {
   "cell_type": "code",
   "execution_count": 12,
   "metadata": {},
   "outputs": [],
   "source": [
    "b = 123.99"
   ]
  },
  {
   "cell_type": "markdown",
   "metadata": {},
   "source": [
    "Usando vírgula"
   ]
  },
  {
   "cell_type": "code",
   "execution_count": 19,
   "metadata": {},
   "outputs": [
    {
     "name": "stdout",
     "output_type": "stream",
     "text": [
      "Um valor é 100 e o outro é 123.99\n"
     ]
    }
   ],
   "source": [
    "print(\"Um valor é\", a, \"e o outro é\", b)"
   ]
  },
  {
   "cell_type": "markdown",
   "metadata": {},
   "source": [
    "Há ainda uma opção baseada em formatação, que exige o uso de caracteres especiais para posicionar a lista de valores que virá separada"
   ]
  },
  {
   "cell_type": "code",
   "execution_count": 20,
   "metadata": {},
   "outputs": [
    {
     "name": "stdout",
     "output_type": "stream",
     "text": [
      "Um valor é 100 e o outro é 123.990000\n"
     ]
    }
   ],
   "source": [
    "print(\"Um valor é %d e o outro é %f\" % (a,b))"
   ]
  },
  {
   "cell_type": "markdown",
   "metadata": {},
   "source": [
    "Note que:\n",
    "- o caracter `%d` será substituído pela variável `a` que é inteira\n",
    "- o caracter `%f` será substituído pela variável `b` que é float\n",
    "\n",
    "Mas para isso é preciso saber quais \"coringas\" são adequados a quais **tipos de dados**. Os principais são:\n",
    "- Int: `%d` ou `%i`\n",
    "- Float: `%f`\n",
    "- Char: `%c`\n",
    "- String: `%s`"
   ]
  },
  {
   "cell_type": "code",
   "execution_count": 26,
   "metadata": {
    "scrolled": true
   },
   "outputs": [
    {
     "name": "stdout",
     "output_type": "stream",
     "text": [
      "Caracter: X\n",
      "String: Xodó\n",
      "Inteiro: 1\n",
      "Float: 1.000000\n",
      "Float com casas decimais: 1.00\n"
     ]
    }
   ],
   "source": [
    "var_c = 'X'\n",
    "var_s = \"Xodó\"\n",
    "var_i = 1\n",
    "var_f = 1.0\n",
    "\n",
    "print(\"Caracter: %c\" % (var_c))\n",
    "print(\"String: %s\" % (var_s))\n",
    "print(\"Inteiro: %i\" % (var_i))\n",
    "print(\"Float: %f\" % (var_f))\n",
    "print(\"Float com casas decimais: %.2f\" % (var_f))"
   ]
  },
  {
   "cell_type": "markdown",
   "metadata": {},
   "source": [
    "# Exemplo\n",
    "\n",
    "Programa que calcule a equação:\n",
    "$a^2 + b/c + 1.45b$\n",
    "\n",
    "Deve:\n",
    "1. mostrar na tela o resultado desse cálculo,\n",
    "1. valores de $a$, $b$ e $c$ devem ser dados como entrada,\n",
    "1. sendo $a$ um número inteiro,\n",
    "1. sendo $b,c$ números \"ponto flutuante\".\n",
    "\n",
    "Vamos usar o ponto e vírgula para colocar entrada e saída na mesma linha como exemplo"
   ]
  },
  {
   "cell_type": "code",
   "execution_count": 33,
   "metadata": {},
   "outputs": [
    {
     "name": "stdout",
     "output_type": "stream",
     "text": [
      "Valor de a:\n",
      "5\n",
      "Valor de b:\n",
      "1.1\n",
      "Valor de c:\n",
      "99.9\n"
     ]
    }
   ],
   "source": [
    "print(\"Valor de a:\"); a = int(input())\n",
    "\n",
    "print(\"Valor de b:\"); b = float(input())\n",
    "\n",
    "print(\"Valor de c:\"); c = float(input())"
   ]
  },
  {
   "cell_type": "code",
   "execution_count": 34,
   "metadata": {},
   "outputs": [
    {
     "name": "stdout",
     "output_type": "stream",
     "text": [
      "Resultado 26.60601101101101\n"
     ]
    }
   ],
   "source": [
    "equacao = a**2 + b/c + 1.45*b\n",
    "print(\"Resultado\", equacao)"
   ]
  }
 ],
 "metadata": {
  "kernelspec": {
   "display_name": "Python 3",
   "language": "python",
   "name": "python3"
  },
  "language_info": {
   "codemirror_mode": {
    "name": "ipython",
    "version": 3
   },
   "file_extension": ".py",
   "mimetype": "text/x-python",
   "name": "python",
   "nbconvert_exporter": "python",
   "pygments_lexer": "ipython3",
   "version": "3.9.2"
  },
  "toc": {
   "base_numbering": 1,
   "nav_menu": {},
   "number_sections": true,
   "sideBar": true,
   "skip_h1_title": false,
   "title_cell": "Table of Contents",
   "title_sidebar": "Contents",
   "toc_cell": false,
   "toc_position": {},
   "toc_section_display": true,
   "toc_window_display": false
  }
 },
 "nbformat": 4,
 "nbformat_minor": 2
}
