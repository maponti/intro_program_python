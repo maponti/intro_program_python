{
 "cells": [
  {
   "cell_type": "markdown",
   "metadata": {},
   "source": [
    "<span style=\"color:green\">Introdução à Programação para Engenharias - scc0124</span>\n",
    "\n",
    "<span style=\"color:blue\">*Funções em Python*</span><br>\n",
    "\n",
    "*Moacir A. Ponti*<br>\n",
    "*ICMC/USP São Carlos*"
   ]
  },
  {
   "cell_type": "markdown",
   "metadata": {},
   "source": [
    "## Funções?\n",
    "\n",
    "Já usamos diversas funções nativas do Python, que foram implementadas para facilitar nossa vida:\n",
    "\n",
    "* `len()`\n",
    "* `sum()`\n",
    "* `type()`\n",
    "* `input()`\n",
    "\n",
    "Funções são úteis quando temos que repetir uma tarefa várias vezes.\n",
    "\n",
    "Podemos programar nossa própria função, usando a seguinte sintaxe:\n",
    "\n",
    "```\n",
    "def <identificador_da_funcao>(<uma ou mais variaveis parametros da funcao):\n",
    "    <codigo indentado parte da funcao>\n",
    "    <return : caso essa funcao retorne algo>\n",
    "```\n",
    "\n",
    "É a palavra `def` que indica a definição da função, que passará a ficar disponível para uso.\n",
    "\n",
    "Vamos criar uma função que receba um número e verifique se esse número é `int` ou `float` o que pode ser útil para controle de entrada"
   ]
  },
  {
   "cell_type": "code",
   "execution_count": 12,
   "metadata": {},
   "outputs": [],
   "source": [
    "def is_intfloat(x):\n",
    "    if type(x) in [int, float, complex]:\n",
    "        print(\"é numérico (int,float,complex)\")\n",
    "    else:\n",
    "        print(\"não é numérico\")"
   ]
  },
  {
   "cell_type": "code",
   "execution_count": 11,
   "metadata": {},
   "outputs": [
    {
     "name": "stdout",
     "output_type": "stream",
     "text": [
      "é numérico (int,float,complex)\n",
      "não é inteiro nem float\n",
      "é numérico (int,float,complex)\n"
     ]
    }
   ],
   "source": [
    "valA = 3.0\n",
    "if type(valA) in [int, float, complex]:\n",
    "    print(\"é numérico (int,float,complex)\")\n",
    "else:\n",
    "    print(\"não é inteiro nem float\")\n",
    "    \n",
    "if type('3.0') in [int, float, complex]:\n",
    "    print(\"é numérico (int,float,complex)\")\n",
    "else:\n",
    "    print(\"não é inteiro nem float\")\n",
    "    \n",
    "if type(1555) in [int, float, complex]:\n",
    "    print(\"é numérico (int,float,complex)\")\n",
    "else:\n",
    "    print(\"não é inteiro nem float\")"
   ]
  },
  {
   "cell_type": "code",
   "execution_count": 13,
   "metadata": {},
   "outputs": [
    {
     "name": "stdout",
     "output_type": "stream",
     "text": [
      "é numérico (int,float,complex)\n",
      "é numérico (int,float,complex)\n",
      "é numérico (int,float,complex)\n",
      "não é numérico\n"
     ]
    }
   ],
   "source": [
    "is_intfloat(3.0)\n",
    "\n",
    "val1 = 3.0\n",
    "is_intfloat(val1) ## 3.0 -> equivale a is_intfloat(3.0)\n",
    "\n",
    "val2 = 3\n",
    "is_intfloat(val2)\n",
    "\n",
    "val3 = '3'\n",
    "is_intfloat(val3)"
   ]
  },
  {
   "cell_type": "markdown",
   "metadata": {},
   "source": [
    "A nossa função *imprime* o resultado na tela, mas **não é recomendado** que funções possuam operações de *entrada e saída*.\n",
    "\n",
    "É muito mais útil que a função devolva o resultado de alguma forma. Isso é feito pelo comando `return`\n",
    "\n",
    "> Esse é um erro comum: usar `print()` ao invés de return."
   ]
  },
  {
   "cell_type": "code",
   "execution_count": 18,
   "metadata": {},
   "outputs": [
    {
     "name": "stdout",
     "output_type": "stream",
     "text": [
      "é numérico (int,float,complex)\n",
      "não é numérico\n",
      "é numérico (int,float,complex)\n",
      "é numérico (int,float,complex)\n",
      "0\n"
     ]
    }
   ],
   "source": [
    "lista = [3, '1', 3, 4]\n",
    "\n",
    "soma = 0\n",
    "for l in lista:\n",
    "    if is_intfloat(l):\n",
    "        soma += l\n",
    "\n",
    "print(soma)"
   ]
  },
  {
   "cell_type": "code",
   "execution_count": 19,
   "metadata": {},
   "outputs": [
    {
     "name": "stdout",
     "output_type": "stream",
     "text": [
      "é numérico (int,float,complex)\n",
      "None\n"
     ]
    }
   ],
   "source": [
    "resultado = is_intfloat(l)\n",
    "print(resultado)"
   ]
  },
  {
   "cell_type": "code",
   "execution_count": 20,
   "metadata": {},
   "outputs": [],
   "source": [
    "def is_intfloat(x):\n",
    "    if type(x) in [int, float]:\n",
    "        return True\n",
    "    else:\n",
    "        return False"
   ]
  },
  {
   "cell_type": "code",
   "execution_count": 25,
   "metadata": {},
   "outputs": [
    {
     "name": "stdout",
     "output_type": "stream",
     "text": [
      "False\n"
     ]
    }
   ],
   "source": [
    "resultado = is_intfloat('d')\n",
    "print(resultado)"
   ]
  },
  {
   "cell_type": "code",
   "execution_count": 26,
   "metadata": {},
   "outputs": [
    {
     "data": {
      "text/plain": [
       "True"
      ]
     },
     "execution_count": 26,
     "metadata": {},
     "output_type": "execute_result"
    }
   ],
   "source": [
    "val1 = 3.0\n",
    "is_intfloat(val1)"
   ]
  },
  {
   "cell_type": "code",
   "execution_count": 27,
   "metadata": {},
   "outputs": [
    {
     "data": {
      "text/plain": [
       "False"
      ]
     },
     "execution_count": 27,
     "metadata": {},
     "output_type": "execute_result"
    }
   ],
   "source": [
    "val3 = '5.5'\n",
    "is_intfloat(val3)"
   ]
  },
  {
   "cell_type": "markdown",
   "metadata": {},
   "source": [
    "Assim, conseguimos usar essa função como parte das nossas soluções."
   ]
  },
  {
   "cell_type": "code",
   "execution_count": 30,
   "metadata": {},
   "outputs": [
    {
     "name": "stdout",
     "output_type": "stream",
     "text": [
      "2.5\n"
     ]
    }
   ],
   "source": [
    "val = 5\n",
    "if is_intfloat(val):\n",
    "    val = val/2\n",
    "    print(val)\n",
    "else:\n",
    "    print('valor não é numérico e não pode ser dividido')"
   ]
  },
  {
   "cell_type": "markdown",
   "metadata": {},
   "source": [
    "---\n",
    "\n",
    "Exemplo:  desejamos somar os valores de uma lista, mas considerando apenas os elementos `int` e `float` nessa soma.\n",
    "\n",
    "Já existe uma função `sum()`"
   ]
  },
  {
   "cell_type": "code",
   "execution_count": 31,
   "metadata": {},
   "outputs": [
    {
     "data": {
      "text/plain": [
       "45.260000000000005"
      ]
     },
     "execution_count": 31,
     "metadata": {},
     "output_type": "execute_result"
    }
   ],
   "source": [
    "vals = [45, 1.45, -1.19]\n",
    "sum(vals)"
   ]
  },
  {
   "cell_type": "markdown",
   "metadata": {},
   "source": [
    "A função que já existe funciona bem para listas de números, mas vamos complicar:"
   ]
  },
  {
   "cell_type": "code",
   "execution_count": 32,
   "metadata": {},
   "outputs": [],
   "source": [
    "vals = [45, 1.45, -1.19, 'cinco', 0.5e2, 42.99, 'fim']"
   ]
  },
  {
   "cell_type": "code",
   "execution_count": 33,
   "metadata": {},
   "outputs": [
    {
     "ename": "TypeError",
     "evalue": "unsupported operand type(s) for +: 'float' and 'str'",
     "output_type": "error",
     "traceback": [
      "\u001b[0;31m---------------------------------------------------------------------------\u001b[0m",
      "\u001b[0;31mTypeError\u001b[0m                                 Traceback (most recent call last)",
      "\u001b[0;32m<ipython-input-33-b122e6c65bf7>\u001b[0m in \u001b[0;36m<module>\u001b[0;34m\u001b[0m\n\u001b[0;32m----> 1\u001b[0;31m \u001b[0msoma\u001b[0m \u001b[0;34m=\u001b[0m \u001b[0msum\u001b[0m\u001b[0;34m(\u001b[0m\u001b[0mvals\u001b[0m\u001b[0;34m)\u001b[0m\u001b[0;34m\u001b[0m\u001b[0;34m\u001b[0m\u001b[0m\n\u001b[0m",
      "\u001b[0;31mTypeError\u001b[0m: unsupported operand type(s) for +: 'float' and 'str'"
     ]
    }
   ],
   "source": [
    "soma = sum(vals)"
   ]
  },
  {
   "cell_type": "markdown",
   "metadata": {},
   "source": [
    "Vamos agora fazer nossa função de soma numérica"
   ]
  },
  {
   "cell_type": "code",
   "execution_count": 34,
   "metadata": {},
   "outputs": [],
   "source": [
    "def sum_numeric(seq):\n",
    "    # lista de tipos permitidos para soma\n",
    "    num_types = [int, float]\n",
    "\n",
    "    # inicializa total como 0\n",
    "    tot = 0\n",
    "\n",
    "    # percorre elementos somando apenas se o tipo for permitido\n",
    "    for i in seq:\n",
    "        if type(i) in num_types:\n",
    "            tot += i"
   ]
  },
  {
   "cell_type": "code",
   "execution_count": 35,
   "metadata": {},
   "outputs": [],
   "source": [
    "vals = [1, 1, 1, 'um', 1, 1, 'dois']"
   ]
  },
  {
   "cell_type": "code",
   "execution_count": 36,
   "metadata": {},
   "outputs": [],
   "source": [
    "soma = sum_numeric(vals)"
   ]
  },
  {
   "cell_type": "code",
   "execution_count": 37,
   "metadata": {},
   "outputs": [
    {
     "name": "stdout",
     "output_type": "stream",
     "text": [
      "Soma =  None\n"
     ]
    }
   ],
   "source": [
    "print('Soma = ', soma)"
   ]
  },
  {
   "cell_type": "code",
   "execution_count": 38,
   "metadata": {},
   "outputs": [
    {
     "ename": "NameError",
     "evalue": "name 'tot' is not defined",
     "output_type": "error",
     "traceback": [
      "\u001b[0;31m---------------------------------------------------------------------------\u001b[0m",
      "\u001b[0;31mNameError\u001b[0m                                 Traceback (most recent call last)",
      "\u001b[0;32m<ipython-input-38-271bc17df104>\u001b[0m in \u001b[0;36m<module>\u001b[0;34m\u001b[0m\n\u001b[0;32m----> 1\u001b[0;31m \u001b[0mprint\u001b[0m\u001b[0;34m(\u001b[0m\u001b[0mtot\u001b[0m\u001b[0;34m)\u001b[0m\u001b[0;34m\u001b[0m\u001b[0;34m\u001b[0m\u001b[0m\n\u001b[0m",
      "\u001b[0;31mNameError\u001b[0m: name 'tot' is not defined"
     ]
    }
   ],
   "source": [
    "print(tot)"
   ]
  },
  {
   "cell_type": "markdown",
   "metadata": {},
   "source": [
    "**O que aconteceu de errado aqui?**\n",
    "\n",
    "Não é o resultado que esperamos, nem recebemos um erro\n",
    "\n",
    "Esse tipo de problema é difícil pois ao não ter um erro podemos achar que está tudo certo."
   ]
  },
  {
   "cell_type": "code",
   "execution_count": 39,
   "metadata": {},
   "outputs": [],
   "source": [
    "def sum_numeric(seq):\n",
    "    tot = 0\n",
    "    \n",
    "    # lista de tipos permitidos para soma\n",
    "    num_types = [int, float]\n",
    "    \n",
    "    # percorre elementos somando apenas se o tipo for permitido\n",
    "    for i in seq:\n",
    "        if (type(i) in num_types):\n",
    "            tot += i\n",
    "\n",
    "    # precisamos retornar explicitamente para que a funcao devolva o resultado\n",
    "    return tot"
   ]
  },
  {
   "cell_type": "code",
   "execution_count": 40,
   "metadata": {},
   "outputs": [
    {
     "data": {
      "text/plain": [
       "5"
      ]
     },
     "execution_count": 40,
     "metadata": {},
     "output_type": "execute_result"
    }
   ],
   "source": [
    "sum_numeric(vals)"
   ]
  },
  {
   "cell_type": "code",
   "execution_count": 42,
   "metadata": {},
   "outputs": [
    {
     "name": "stdout",
     "output_type": "stream",
     "text": [
      "5\n"
     ]
    }
   ],
   "source": [
    "soma = sum_numeric(vals)\n",
    "print(soma)"
   ]
  },
  {
   "cell_type": "markdown",
   "metadata": {},
   "source": [
    "Ainda melhor, porque não usamos a função 'is_intfloat()' que criamos anteriormente?"
   ]
  },
  {
   "cell_type": "code",
   "execution_count": 46,
   "metadata": {},
   "outputs": [],
   "source": [
    "## redefinir a funcao sum_numeric\n",
    "def sum_numeric(seq):\n",
    "    tot = 0\n",
    "    # para cada elemento da sequencia\n",
    "    # se for inteiro ou float, soma\n",
    "    for num in seq:\n",
    "        if is_intfloat(num):\n",
    "            tot += num\n",
    "            \n",
    "    return tot"
   ]
  },
  {
   "cell_type": "code",
   "execution_count": 47,
   "metadata": {},
   "outputs": [
    {
     "name": "stdout",
     "output_type": "stream",
     "text": [
      "11\n"
     ]
    }
   ],
   "source": [
    "soma = sum_numeric(['aaa', 1, 3, 4, 'aaa', 3])\n",
    "print(soma)"
   ]
  },
  {
   "cell_type": "markdown",
   "metadata": {},
   "source": [
    "---\n",
    "\n",
    "#### <font color=\"blue\">Exercício 6a.1 </font>\n",
    "\n",
    "Defina uma função que receba como parâmetro uma lista contendo números inteiros e que retorne `True` se todos os inteiros na lista são pares, retornando `False` caso contrário.\n",
    "\n",
    "---\n"
   ]
  },
  {
   "cell_type": "markdown",
   "metadata": {},
   "source": [
    "## Parâmetros de funções\n",
    "\n",
    "Funções podem ter múltiplos parâmetros, cada parâmetro é uma **variável local** e que tem seu próprio espaço na memória referente ao escopo da função."
   ]
  },
  {
   "cell_type": "code",
   "execution_count": 48,
   "metadata": {},
   "outputs": [],
   "source": [
    "def funcao(a):\n",
    "    a = -1\n",
    "    return a"
   ]
  },
  {
   "cell_type": "code",
   "execution_count": 49,
   "metadata": {},
   "outputs": [
    {
     "name": "stdout",
     "output_type": "stream",
     "text": [
      "antes de chamar a funcao\n",
      "a = 10\n"
     ]
    }
   ],
   "source": [
    "a = 10  ## escopo global possui um endereco de memória específico e diferente da \n",
    "        ## variavel de mesmo nome dentro da funcao\n",
    "print('antes de chamar a funcao')\n",
    "print('a =',a)"
   ]
  },
  {
   "cell_type": "code",
   "execution_count": 50,
   "metadata": {},
   "outputs": [
    {
     "name": "stdout",
     "output_type": "stream",
     "text": [
      "\n",
      "depois de chamar a funcao\n",
      "a = 10\n",
      "novo_a = -1\n"
     ]
    }
   ],
   "source": [
    "novo_a = funcao(a) ## 'a' é apenas um nome, ele vai substituir por 10\n",
    "\n",
    "print('\\ndepois de chamar a funcao')\n",
    "print('a =',a)\n",
    "print('novo_a =',novo_a)"
   ]
  },
  {
   "cell_type": "markdown",
   "metadata": {},
   "source": [
    "Note que a variável `a` não sofreu modificação\n",
    "\n",
    "> Identificadores possuem **escopo** sendo possível ter o mesmo identificador em diferentes escopos\n",
    "\n",
    "Dentro da função, a variável sendo modificada  possui tempo de vida *específico da função*, não está relacionada à mesma região de memória da que foi definida fora da função.\n"
   ]
  },
  {
   "cell_type": "markdown",
   "metadata": {},
   "source": [
    "---\n",
    "\n",
    "**Um exemplo de função que recebe múltiplos múltiplos argumentos**. Uma função que retorne a média aritmética de dois elementos de uma lista, os quais são obtidos das posições `i` e `j`.\n",
    "\n",
    "Exemplo com i = 0 e j = 2:\n",
    "\n",
    "```\n",
    "lista = [10, 20, 30, 40]\n",
    "md = media_2_lista(lista, 0, 2)\n",
    "print(md)\n",
    "-\n",
    "20.0\n",
    "```"
   ]
  },
  {
   "cell_type": "code",
   "execution_count": 69,
   "metadata": {},
   "outputs": [],
   "source": [
    "# funcao que retorna a media de 2 elementos\n",
    "def media_2_lista(lista, i, j):\n",
    "    if (i >= len(lista) or j >= len(lista)):\n",
    "        print(\"Erro: uma das posicoes está fora dos limites da lista\")\n",
    "        print(\"      será retornado valor -1\")\n",
    "        return -1\n",
    "    else:\n",
    "        return (lista[i] + lista[j])/2"
   ]
  },
  {
   "cell_type": "code",
   "execution_count": 61,
   "metadata": {},
   "outputs": [
    {
     "name": "stdout",
     "output_type": "stream",
     "text": [
      "35.0\n"
     ]
    }
   ],
   "source": [
    "lista = [10, 20, 30, 40]\n",
    "md = media_2_lista(lista, 2, 3)\n",
    "print(md)"
   ]
  },
  {
   "cell_type": "markdown",
   "metadata": {},
   "source": [
    "Ao chamar, passamos 3 argumentos: a lista, e as posições i e j, que devem ser passados nessa ordem:"
   ]
  },
  {
   "cell_type": "code",
   "execution_count": 63,
   "metadata": {},
   "outputs": [
    {
     "name": "stdout",
     "output_type": "stream",
     "text": [
      "3.0\n"
     ]
    }
   ],
   "source": [
    "ls = [1, 2, 3, 4, 5, 6]\n",
    "print(media_2_lista(ls, 3, 1))"
   ]
  },
  {
   "cell_type": "markdown",
   "metadata": {},
   "source": [
    "Também podemos especificar fora de ordem, desde que informemos qual o nome exato daquele argumento na função.\n",
    "\n",
    "Exemplo:"
   ]
  },
  {
   "cell_type": "code",
   "execution_count": 65,
   "metadata": {},
   "outputs": [
    {
     "name": "stdout",
     "output_type": "stream",
     "text": [
      "1.5\n"
     ]
    }
   ],
   "source": [
    "print(media_2_lista(i=0, j=1, lista=ls))"
   ]
  },
  {
   "cell_type": "markdown",
   "metadata": {},
   "source": [
    "## Documentando funções\n",
    "\n",
    "As funções possuem \"documentação\" sobre seu uso e funcionamento. Ao digitar no terminal `help(funcao)` deve ser exibida uma mensagem"
   ]
  },
  {
   "cell_type": "code",
   "execution_count": 67,
   "metadata": {},
   "outputs": [
    {
     "name": "stdout",
     "output_type": "stream",
     "text": [
      "Help on built-in function len in module builtins:\n",
      "\n",
      "len(obj, /)\n",
      "    Return the number of items in a container.\n",
      "\n"
     ]
    }
   ],
   "source": [
    "help(len)"
   ]
  },
  {
   "cell_type": "markdown",
   "metadata": {},
   "source": [
    "Podemos criar ajuda para nossas funções"
   ]
  },
  {
   "cell_type": "code",
   "execution_count": 70,
   "metadata": {},
   "outputs": [
    {
     "name": "stdout",
     "output_type": "stream",
     "text": [
      "Help on function media_2_lista in module __main__:\n",
      "\n",
      "media_2_lista(lista, i, j)\n",
      "    # funcao que retorna a media de 2 elementos\n",
      "\n"
     ]
    }
   ],
   "source": [
    "help(media_2_lista)"
   ]
  },
  {
   "cell_type": "code",
   "execution_count": 71,
   "metadata": {},
   "outputs": [],
   "source": [
    "def media_2_lista(lista, i,j):\n",
    "    \"\"\"Média de 2 elementos nas posições i e j de uma lista.\n",
    "    \n",
    "    Parâmetros:\n",
    "        lista: lista contendo valores numéricos\n",
    "        i: primeira posicao\n",
    "        j: segunda posicao\n",
    "        \n",
    "    Retorno:\n",
    "        float: média entre lista[i] e lista[j]\n",
    "               -1 se uma das posições for inválida\n",
    "    \"\"\"\n",
    "    if (i >= len(lista) or j >= len(lista)):\n",
    "        print(\"Erro: uma das posicoes está fora dos limites da lista\")\n",
    "        print(\"      será retornado valor -1\")\n",
    "        return -1\n",
    "    else:\n",
    "        return (lista[i] + lista[j])/2"
   ]
  },
  {
   "cell_type": "code",
   "execution_count": 72,
   "metadata": {},
   "outputs": [
    {
     "name": "stdout",
     "output_type": "stream",
     "text": [
      "Help on function media_2_lista in module __main__:\n",
      "\n",
      "media_2_lista(lista, i, j)\n",
      "    Média de 2 elementos nas posições i e j de uma lista.\n",
      "    \n",
      "    Parâmetros:\n",
      "        lista: lista contendo valores numéricos\n",
      "        i: primeira posicao\n",
      "        j: segunda posicao\n",
      "        \n",
      "    Retorno:\n",
      "        float: média entre lista[i] e lista[j]\n",
      "               -1 se uma das posições for inválida\n",
      "\n"
     ]
    }
   ],
   "source": [
    "help(media_2_lista)"
   ]
  },
  {
   "cell_type": "markdown",
   "metadata": {},
   "source": [
    "---\n",
    "\n",
    "#### <font color=\"blue\">Exercício 6a.2 </font>\n",
    "\n",
    "Crie uma a função `sum_numeric()` baseada na `sum_intfloat()`, que também dê a opção de converter strings em valores inteiros, caso seja possível essa coversão. Ao chamar a função passe o argumento `True` para converter strings ou `False` para considerar apenas os tipos numéricos.\n",
    "\n",
    "Documente sua função\n",
    "\n",
    "Dica: use o método para strings `str.isnumeric()` para verificar se a string contem apenas dígitos e converta-o\n",
    "\n",
    "Exemplo 1:\n",
    "```\n",
    "soma = sum_numeric([1, 1, '2', 1, 'um'], convert_to_int=True)\n",
    "print(soma)\n",
    "```\n",
    "Deve gerar:\n",
    "```\n",
    "5\n",
    "```\n",
    "Exemplo 2:\n",
    "```\n",
    "soma = sum_numeric([1, 1, '2', 1, 'um'], convert_to_int=False)\n",
    "print(soma)\n",
    "```\n",
    "Deve gerar:\n",
    "```\n",
    "3\n",
    "```\n",
    "\n",
    "---\n",
    "\n",
    "\n",
    "---\n"
   ]
  }
 ],
 "metadata": {
  "kernelspec": {
   "display_name": "Python 3",
   "language": "python",
   "name": "python3"
  },
  "language_info": {
   "codemirror_mode": {
    "name": "ipython",
    "version": 3
   },
   "file_extension": ".py",
   "mimetype": "text/x-python",
   "name": "python",
   "nbconvert_exporter": "python",
   "pygments_lexer": "ipython3",
   "version": "3.9.5"
  },
  "toc": {
   "base_numbering": 1,
   "nav_menu": {},
   "number_sections": true,
   "sideBar": true,
   "skip_h1_title": false,
   "title_cell": "Table of Contents",
   "title_sidebar": "Contents",
   "toc_cell": false,
   "toc_position": {},
   "toc_section_display": true,
   "toc_window_display": false
  }
 },
 "nbformat": 4,
 "nbformat_minor": 2
}
