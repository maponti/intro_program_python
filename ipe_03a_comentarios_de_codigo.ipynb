{
 "cells": [
  {
   "cell_type": "markdown",
   "metadata": {},
   "source": [
    "<span style=\"color:green\">Introdução à Programação para Engenharias - scc0124</span>\n",
    "\n",
    "<span style=\"color:blue\">*Comentários de código*</span><br>\n",
    "\n",
    "*Moacir A. Ponti*<br>\n",
    "*ICMC/USP São Carlos*"
   ]
  },
  {
   "cell_type": "markdown",
   "metadata": {},
   "source": [
    "**Conteúdo:**\n",
    "- Arquitetura do computador\n",
    "- Entrada e saída\n",
    "- Input\n",
    "- Print"
   ]
  },
  {
   "cell_type": "markdown",
   "metadata": {},
   "source": [
    "# Código vs comentários\n",
    "\n",
    "Toda linha de código é executada pelo interpretador Python.\n",
    "\n",
    "No entanto, é útil ter linhas que são ignoradas, permitindo que comentemos o código.\n",
    "\n",
    "Em Python é possível comentar uma linha com `#`"
   ]
  },
  {
   "cell_type": "code",
   "execution_count": 1,
   "metadata": {},
   "outputs": [
    {
     "data": {
      "text/plain": [
       "11"
      ]
     },
     "execution_count": 1,
     "metadata": {},
     "output_type": "execute_result"
    }
   ],
   "source": [
    "# essa linha é um comentário\n",
    "5 + 6"
   ]
  },
  {
   "cell_type": "markdown",
   "metadata": {},
   "source": [
    "Num código maior é muito importante ter comentários para explicar o que está acontecendo"
   ]
  },
  {
   "cell_type": "code",
   "execution_count": 3,
   "metadata": {},
   "outputs": [
    {
     "name": "stdout",
     "output_type": "stream",
     "text": [
      "6\n",
      "7\n",
      "Diferença entre 6 e 7 = 1\n"
     ]
    }
   ],
   "source": [
    "# leitura de dois valores inteiros pelo usuário\n",
    "a = int(input())\n",
    "b = int(input())\n",
    "\n",
    "# calculo da diferença absoluta\n",
    "dif = abs(a-b)\n",
    "print(\"Diferença entre %d e %d = %d\" % (a,b,dif))"
   ]
  },
  {
   "cell_type": "markdown",
   "metadata": {},
   "source": [
    "O que escrevemos no comentário é livre, e nunca será executado mesmo que correto, portanto também é usado para depuração e testes"
   ]
  },
  {
   "cell_type": "code",
   "execution_count": 5,
   "metadata": {},
   "outputs": [
    {
     "name": "stdout",
     "output_type": "stream",
     "text": [
      "3\n",
      "1\n",
      "Diferença entre 3 e 1 = 2\n"
     ]
    }
   ],
   "source": [
    "# leitura de dois valores inteiros pelo usuário\n",
    "a = int(input())\n",
    "b = int(input())\n",
    "\n",
    "# calculo da diferença absoluta\n",
    "dif = abs(a-b)\n",
    "# duas opcoes de exibicao, apenas uma será executada\n",
    "#print(\"Diferença entre %d e %d = %d\" % (a,b,dif))\n",
    "print(\"Diferença entre\",a,\"e\",b,\"=\",dif)"
   ]
  }
 ],
 "metadata": {
  "kernelspec": {
   "display_name": "Python 3",
   "language": "python",
   "name": "python3"
  },
  "language_info": {
   "codemirror_mode": {
    "name": "ipython",
    "version": 3
   },
   "file_extension": ".py",
   "mimetype": "text/x-python",
   "name": "python",
   "nbconvert_exporter": "python",
   "pygments_lexer": "ipython3",
   "version": "3.9.2"
  },
  "toc": {
   "base_numbering": 1,
   "nav_menu": {},
   "number_sections": true,
   "sideBar": true,
   "skip_h1_title": false,
   "title_cell": "Table of Contents",
   "title_sidebar": "Contents",
   "toc_cell": false,
   "toc_position": {},
   "toc_section_display": true,
   "toc_window_display": false
  }
 },
 "nbformat": 4,
 "nbformat_minor": 2
}
