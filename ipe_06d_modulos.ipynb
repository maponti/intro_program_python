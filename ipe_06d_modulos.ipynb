{
 "cells": [
  {
   "cell_type": "markdown",
   "metadata": {},
   "source": [
    "<span style=\"color:green\">Introdução à Programação para Engenharias - scc0124</span>\n",
    "\n",
    "<span style=\"color:blue\">*Módulos Python*</span><br>\n",
    "\n",
    "*Moacir A. Ponti*<br>\n",
    "*ICMC/USP São Carlos*"
   ]
  },
  {
   "cell_type": "markdown",
   "metadata": {},
   "source": [
    "# Módulos Python\n",
    "\n",
    "A linguagem Python vem com funções nativas em sua biblioteca padrão (*standard library*)\n",
    "\n",
    "Porém é possível carregar outros módulos e usar suas funções.\n",
    "\n",
    "Há centenas de módulos que incluem:\n",
    "* Funções matemáticas\n",
    "* Desenvolvimento de interfaces gráficas (GUI)\n",
    "* Geração de números pseudo-aleatórios\n",
    "* Geração de gráficos\n",
    "* Programação de bases de dados e tabelas\n",
    "\n",
    "Aqui vamos dar exemplo de três módulos, e nas próximas aulas incluiremos outros"
   ]
  },
  {
   "cell_type": "markdown",
   "metadata": {},
   "source": [
    "---\n",
    "\n",
    "Usamos `import` e `from` para carregar funcionalidades de módulos\n",
    "\n",
    "A forma mais simples é usar apenas:\n",
    "\n",
    "`import <modulo>`\n",
    "* Na sequência podemos usar o nome do módulo como *prefixo* para acessar suas funções e constantes"
   ]
  },
  {
   "cell_type": "markdown",
   "metadata": {},
   "source": [
    "Como alternativa ainda podemos usar\n",
    "\n",
    "`import <modulo> as <apelido>`\n",
    "\n",
    "* Torna o nome do módulo mais fácil de digitar"
   ]
  },
  {
   "cell_type": "markdown",
   "metadata": {},
   "source": [
    "E ainda usar `from` para importar apenas parte do módulo\n",
    "\n",
    "`from <modulo> import <parte>`\n",
    "\n",
    "* Essa é uma boa opção pois assim poupamos memória"
   ]
  },
  {
   "cell_type": "markdown",
   "metadata": {},
   "source": [
    "## `math`\n",
    "\n",
    "https://docs.python.org/3/library/math.html"
   ]
  },
  {
   "cell_type": "code",
   "execution_count": 1,
   "metadata": {},
   "outputs": [],
   "source": [
    "import math"
   ]
  },
  {
   "cell_type": "markdown",
   "metadata": {},
   "source": [
    "### Funções"
   ]
  },
  {
   "cell_type": "code",
   "execution_count": 2,
   "metadata": {},
   "outputs": [
    {
     "data": {
      "text/plain": [
       "3.4339872044851463"
      ]
     },
     "execution_count": 2,
     "metadata": {},
     "output_type": "execute_result"
    }
   ],
   "source": [
    "# logaritmo natural\n",
    "math.log(31)"
   ]
  },
  {
   "cell_type": "code",
   "execution_count": 3,
   "metadata": {},
   "outputs": [
    {
     "data": {
      "text/plain": [
       "4.954196310386876"
      ]
     },
     "execution_count": 3,
     "metadata": {},
     "output_type": "execute_result"
    }
   ],
   "source": [
    "# especificando a base\n",
    "math.log(31, 2)"
   ]
  },
  {
   "cell_type": "code",
   "execution_count": 4,
   "metadata": {},
   "outputs": [
    {
     "data": {
      "text/plain": [
       "36.51027252705737"
      ]
     },
     "execution_count": 4,
     "metadata": {},
     "output_type": "execute_result"
    }
   ],
   "source": [
    "# raiz quadrada\n",
    "math.sqrt(1333)"
   ]
  },
  {
   "cell_type": "code",
   "execution_count": 5,
   "metadata": {},
   "outputs": [
    {
     "data": {
      "text/plain": [
       "0.9999999999999999"
      ]
     },
     "execution_count": 5,
     "metadata": {},
     "output_type": "execute_result"
    }
   ],
   "source": [
    "# soma de floats que evita erros de precisão\n",
    "num_floats = [0.1, 0.1, 0.1, 0.1, 0.1, 0.1, 0.1, 0.1, 0.1, 0.1]\n",
    "# usando função padrão\n",
    "sum(num_floats)"
   ]
  },
  {
   "cell_type": "code",
   "execution_count": 6,
   "metadata": {},
   "outputs": [
    {
     "data": {
      "text/plain": [
       "1.0"
      ]
     },
     "execution_count": 6,
     "metadata": {},
     "output_type": "execute_result"
    }
   ],
   "source": [
    "math.fsum(num_floats)"
   ]
  },
  {
   "cell_type": "code",
   "execution_count": 7,
   "metadata": {},
   "outputs": [
    {
     "name": "stdout",
     "output_type": "stream",
     "text": [
      "0.8414709848078965\n",
      "0.5403023058681398\n",
      "1.5574077246549023\n"
     ]
    }
   ],
   "source": [
    "# funções trigonométricas\n",
    "x = 1\n",
    "print(math.sin(x))\n",
    "print(math.cos(x))\n",
    "print(math.tan(x))"
   ]
  },
  {
   "cell_type": "markdown",
   "metadata": {},
   "source": [
    "#### Constantes\n"
   ]
  },
  {
   "cell_type": "code",
   "execution_count": 8,
   "metadata": {},
   "outputs": [
    {
     "data": {
      "text/plain": [
       "3.141592653589793"
      ]
     },
     "execution_count": 8,
     "metadata": {},
     "output_type": "execute_result"
    }
   ],
   "source": [
    "math.pi"
   ]
  },
  {
   "cell_type": "code",
   "execution_count": 9,
   "metadata": {},
   "outputs": [
    {
     "data": {
      "text/plain": [
       "2.718281828459045"
      ]
     },
     "execution_count": 9,
     "metadata": {},
     "output_type": "execute_result"
    }
   ],
   "source": [
    "math.e"
   ]
  },
  {
   "cell_type": "code",
   "execution_count": 10,
   "metadata": {},
   "outputs": [
    {
     "data": {
      "text/plain": [
       "inf"
      ]
     },
     "execution_count": 10,
     "metadata": {},
     "output_type": "execute_result"
    }
   ],
   "source": [
    "math.inf"
   ]
  },
  {
   "cell_type": "code",
   "execution_count": 11,
   "metadata": {},
   "outputs": [
    {
     "name": "stdout",
     "output_type": "stream",
     "text": [
      "-2.4492935982947064e-16\n"
     ]
    }
   ],
   "source": [
    "print(math.sin(2*math.pi))"
   ]
  },
  {
   "cell_type": "markdown",
   "metadata": {},
   "source": [
    "#### Exemplo de uso de `from <modulo> import <parte>`"
   ]
  },
  {
   "cell_type": "code",
   "execution_count": 12,
   "metadata": {},
   "outputs": [],
   "source": [
    "from math import pi"
   ]
  },
  {
   "cell_type": "code",
   "execution_count": 13,
   "metadata": {},
   "outputs": [
    {
     "data": {
      "text/plain": [
       "3.141592653589793"
      ]
     },
     "execution_count": 13,
     "metadata": {},
     "output_type": "execute_result"
    }
   ],
   "source": [
    "pi"
   ]
  },
  {
   "cell_type": "code",
   "execution_count": 14,
   "metadata": {},
   "outputs": [],
   "source": [
    "from math import log, sqrt"
   ]
  },
  {
   "cell_type": "code",
   "execution_count": 15,
   "metadata": {},
   "outputs": [
    {
     "data": {
      "text/plain": [
       "6.288619607278353"
      ]
     },
     "execution_count": 15,
     "metadata": {},
     "output_type": "execute_result"
    }
   ],
   "source": [
    "log(1001, 3)"
   ]
  },
  {
   "cell_type": "code",
   "execution_count": 16,
   "metadata": {},
   "outputs": [
    {
     "data": {
      "text/plain": [
       "12.206555615733702"
      ]
     },
     "execution_count": 16,
     "metadata": {},
     "output_type": "execute_result"
    }
   ],
   "source": [
    "sqrt(149)"
   ]
  },
  {
   "cell_type": "markdown",
   "metadata": {},
   "source": [
    "---\n",
    "## `sys`\n",
    "\n",
    "https://docs.python.org/3/library/sys.html"
   ]
  },
  {
   "cell_type": "code",
   "execution_count": 17,
   "metadata": {},
   "outputs": [],
   "source": [
    "import sys"
   ]
  },
  {
   "cell_type": "code",
   "execution_count": 18,
   "metadata": {
    "scrolled": true
   },
   "outputs": [
    {
     "name": "stdout",
     "output_type": "stream",
     "text": [
      "3.9.5 (default, May 24 2021, 12:50:35) \n",
      "[GCC 11.1.0]\n"
     ]
    }
   ],
   "source": [
    "# constante com versão do Python\n",
    "print(sys.version)"
   ]
  },
  {
   "cell_type": "code",
   "execution_count": 19,
   "metadata": {},
   "outputs": [
    {
     "name": "stdout",
     "output_type": "stream",
     "text": [
      "linux\n"
     ]
    }
   ],
   "source": [
    "print(sys.platform)"
   ]
  },
  {
   "cell_type": "code",
   "execution_count": 20,
   "metadata": {},
   "outputs": [
    {
     "name": "stdout",
     "output_type": "stream",
     "text": [
      "['/home/maponti/Repos/intro_program_python', '/usr/lib/python39.zip', '/usr/lib/python3.9', '/usr/lib/python3.9/lib-dynload', '', '/home/maponti/.virtualenvs/ipe/lib/python3.9/site-packages', '/home/maponti/.virtualenvs/ipe/lib/python3.9/site-packages/IPython/extensions', '/home/maponti/.ipython']\n"
     ]
    }
   ],
   "source": [
    "# constante tem uma lista de pastas às quais esse programa tem acesso\n",
    "print(sys.path)"
   ]
  },
  {
   "cell_type": "code",
   "execution_count": 21,
   "metadata": {},
   "outputs": [
    {
     "data": {
      "text/plain": [
       "24"
      ]
     },
     "execution_count": 21,
     "metadata": {},
     "output_type": "execute_result"
    }
   ],
   "source": [
    "# retorna o número de bytes de um objeto\n",
    "sys.getsizeof(100.50)"
   ]
  },
  {
   "cell_type": "code",
   "execution_count": 22,
   "metadata": {},
   "outputs": [
    {
     "name": "stdout",
     "output_type": "stream",
     "text": [
      "Tamanho em bytes da variável x: 92\n"
     ]
    }
   ],
   "source": [
    "x = 'O pacote sys é útil'\n",
    "print('Tamanho em bytes da variável x:',sys.getsizeof(x))"
   ]
  },
  {
   "cell_type": "code",
   "execution_count": 23,
   "metadata": {
    "scrolled": true
   },
   "outputs": [
    {
     "name": "stderr",
     "output_type": "stream",
     "text": [
      "Erro!\n"
     ]
    }
   ],
   "source": [
    "# permite gerar uma saída de erro ao usar o print()\n",
    "print('Erro!', file=sys.stderr)"
   ]
  },
  {
   "cell_type": "markdown",
   "metadata": {},
   "source": [
    "#### Argumentos na linha de comando\n",
    "\n",
    "No notebook não faz sentido, mas ao executar um script Python no terminal podemos querer passar algum argumento para o programa.\n",
    "\n",
    "`sys.argv` permite acessar a lista dos argumentos digitados\n",
    "\n",
    "Vamos ver um exemplo no terminal posteriormente!"
   ]
  },
  {
   "cell_type": "code",
   "execution_count": 24,
   "metadata": {},
   "outputs": [
    {
     "data": {
      "text/plain": [
       "['/home/maponti/.virtualenvs/ipe/lib/python3.9/site-packages/ipykernel_launcher.py',\n",
       " '-f',\n",
       " '/home/maponti/.local/share/jupyter/runtime/kernel-0b91fe12-d452-4928-8425-78b7e2bb0fa5.json']"
      ]
     },
     "execution_count": 24,
     "metadata": {},
     "output_type": "execute_result"
    }
   ],
   "source": [
    "sys.argv"
   ]
  },
  {
   "cell_type": "markdown",
   "metadata": {},
   "source": [
    "Acima foram usados 3 argumentos ao abrir o Jupyter Notebook, os quais são acessíveis pela lista"
   ]
  },
  {
   "cell_type": "markdown",
   "metadata": {},
   "source": [
    "---\n",
    "\n",
    "#### <font color=\"blue\">Exercício 6d.1 </font>\n",
    "\n",
    "Codifique um programa que peça ao usuário para entrar com 5 números (`float`), calcule o logaritmo na base 2 desses números e armazene o resultado numa lista.\n",
    "* faça controle da entrada: para cada número digitado pelo usuário, caso seja digitado 0 (zero), exiba um erro \"0 é um valor inválido, entre com outro número\" e realize nova entrada para aquele valor"
   ]
  },
  {
   "cell_type": "markdown",
   "metadata": {},
   "source": [
    "---\n",
    "\n",
    "## `random`\n",
    "\n",
    "Gera números pseudo-aleatórios para simulações. Há muitas funções, alguns exemplos:\n",
    "\n",
    "* `random()`: número aleatório entre 0 e 1\n",
    "* `uniform(a,b)`: número aleatório float entre a e b, sendo que os valores são equiprováveis\n",
    "* `randint(a,b)`: número aleatório inteiro entre a e b, sendo que os valores são equiprováveis\n",
    "* `shuffle(list)`: embaralha uma lista\n",
    "* `sample(list, k)`: sorteia k elementos de uma lista e retorna essa amostra aleatória\n",
    "* `seed(s)`: define a semente da sequência aleatória, permitindo reproduzir uma mesma simulação"
   ]
  },
  {
   "cell_type": "code",
   "execution_count": 25,
   "metadata": {},
   "outputs": [],
   "source": [
    "import random"
   ]
  },
  {
   "cell_type": "code",
   "execution_count": 26,
   "metadata": {},
   "outputs": [
    {
     "name": "stdout",
     "output_type": "stream",
     "text": [
      "0.18874557251578472\n",
      "[0.805733646965203, 0.7668760368203151, 0.19319588532100052, 0.9662691043223388, 0.508081831880905]\n"
     ]
    }
   ],
   "source": [
    "# sorteia um número aleatório\n",
    "print(random.random())\n",
    "\n",
    "# exemplo: criando uma lista de números aleatórios\n",
    "num_aleat = []\n",
    "for i in range(5):\n",
    "    num_aleat.append(random.random())\n",
    "    \n",
    "print(num_aleat)"
   ]
  },
  {
   "cell_type": "code",
   "execution_count": 27,
   "metadata": {},
   "outputs": [
    {
     "name": "stdout",
     "output_type": "stream",
     "text": [
      "3.449313417796998\n",
      "[1.726712139700907, 3.354174608660669, 1.1174756443764795, 1.0967221270201262, 4.549514647205152]\n"
     ]
    }
   ],
   "source": [
    "# sorteia um numero aleatorio uniforme entre \"a\" e \"b\"\n",
    "print(random.uniform(1,10))\n",
    "\n",
    "# exemplo: criando uma lista de números aleatórios\n",
    "num_1_10 = []\n",
    "for i in range(5):\n",
    "    num_1_10.append(random.uniform(1,10))\n",
    "    \n",
    "print(num_1_10)"
   ]
  },
  {
   "cell_type": "code",
   "execution_count": 28,
   "metadata": {},
   "outputs": [
    {
     "name": "stdout",
     "output_type": "stream",
     "text": [
      "2\n",
      "[5, 10, 1, 1, 6, 3, 9, 6, 6, 9]\n"
     ]
    }
   ],
   "source": [
    "# sorteia um numero aleatorio inteiro uniforme entre \"a\" e \"b\"\n",
    "print(random.randint(1,10))\n",
    "\n",
    "# exemplo: criando uma lista de números aleatórios\n",
    "numint_1_10 = []\n",
    "for i in range(10):\n",
    "    numint_1_10.append(random.randint(1,10))\n",
    "    \n",
    "print(numint_1_10)"
   ]
  },
  {
   "cell_type": "markdown",
   "metadata": {},
   "source": [
    "#### Funções com listas"
   ]
  },
  {
   "cell_type": "code",
   "execution_count": 29,
   "metadata": {},
   "outputs": [],
   "source": [
    "numeros = [111, 222, 333, 444, 555, 666, 777, 888, 999]"
   ]
  },
  {
   "cell_type": "code",
   "execution_count": 30,
   "metadata": {},
   "outputs": [
    {
     "data": {
      "text/plain": [
       "[444, 888, 111, 333]"
      ]
     },
     "execution_count": 30,
     "metadata": {},
     "output_type": "execute_result"
    }
   ],
   "source": [
    "random.sample(numeros,4)"
   ]
  },
  {
   "cell_type": "code",
   "execution_count": 31,
   "metadata": {},
   "outputs": [
    {
     "name": "stdout",
     "output_type": "stream",
     "text": [
      "[111, 222, 333, 444, 555, 666, 777, 888, 999]\n"
     ]
    }
   ],
   "source": [
    "print(numeros)"
   ]
  },
  {
   "cell_type": "code",
   "execution_count": 32,
   "metadata": {},
   "outputs": [
    {
     "name": "stdout",
     "output_type": "stream",
     "text": [
      "[333, 222, 111, 555, 666, 444, 777, 888, 999]\n"
     ]
    }
   ],
   "source": [
    "random.shuffle(numeros)\n",
    "print(numeros)"
   ]
  },
  {
   "cell_type": "markdown",
   "metadata": {},
   "source": [
    "#### Controlando a geração pseudo-aleatória com `seed()`\n",
    "\n",
    "Os números gerados não são realmente aleatórios, mas pseudo-aleatórios\n",
    "\n",
    "Assim, é possível obter a sequência gerada se definirmos a \"semente\""
   ]
  },
  {
   "cell_type": "code",
   "execution_count": 33,
   "metadata": {},
   "outputs": [
    {
     "name": "stdout",
     "output_type": "stream",
     "text": [
      "[3, 10, 2, 5, 2, 8, 8, 8, 7, 4]\n"
     ]
    }
   ],
   "source": [
    "random.seed(1)\n",
    "\n",
    "# criando uma lista de números aleatórios\n",
    "numint_1_10 = []\n",
    "for i in range(10):\n",
    "    numint_1_10.append(random.randint(1,10))\n",
    "    \n",
    "print(numint_1_10)"
   ]
  },
  {
   "cell_type": "code",
   "execution_count": 34,
   "metadata": {},
   "outputs": [
    {
     "name": "stdout",
     "output_type": "stream",
     "text": [
      "[5, 9, 2, 10, 10, 9, 3, 10, 2, 9]\n"
     ]
    }
   ],
   "source": [
    "random.seed('a')\n",
    "\n",
    "# exemplo: criando uma lista de números aleatórios\n",
    "numint_1_10 = []\n",
    "for i in range(10):\n",
    "    numint_1_10.append(random.randint(1,10))\n",
    "    \n",
    "print(numint_1_10)"
   ]
  },
  {
   "cell_type": "markdown",
   "metadata": {},
   "source": [
    "### Exemplo de uso de `import as`"
   ]
  },
  {
   "cell_type": "code",
   "execution_count": 1,
   "metadata": {},
   "outputs": [
    {
     "data": {
      "text/plain": [
       "61"
      ]
     },
     "execution_count": 1,
     "metadata": {},
     "output_type": "execute_result"
    }
   ],
   "source": [
    "import random as rnd\n",
    "\n",
    "# agora podemos usar rnd ao invés de random para acessar o módulo\n",
    "rnd.randint(1,100)"
   ]
  },
  {
   "cell_type": "markdown",
   "metadata": {},
   "source": [
    "---\n",
    "\n",
    "#### <font color=\"blue\">Exercício 6d.2 </font>\n",
    "\n",
    "Codifique um programa para sortear prêmios para pessoas inscrita em um concurso. Comece pedindo ao usuário quantas pessoas serão cadastradas. A seguir, peça a usuário que entre com os nomes, armazenando numa lista.\n",
    "\n",
    "Defina como semente de geração de números os dois primeiros caracteres do primeiro nome digitado.\n",
    "\n",
    "A seguir, codifique uma *função* que utilize o módulo `random` para sortear 2 pessoas dentre as cadastradas, e exiba o nome dessas pessoas na tela. A função recebe como argumento apenas a lista das pessoas. Verifique se a lista possui ao menos 2 pessoas cadastradas, caso não possua imprima na tela uma mensagem de erro."
   ]
  },
  {
   "cell_type": "markdown",
   "metadata": {},
   "source": [
    "# Seu módulo\n",
    "\n",
    "Vimos como usar módulos pronto, mas agora vamos aprender a criar nossos módulos!\n",
    "\n",
    "Para isso criamos um *arquivo .py* contendo aquilo que gostaríamos de incluir na nossa biblioteca\n",
    "\n",
    "O nome do arquivo é usado para importar"
   ]
  },
  {
   "cell_type": "code",
   "execution_count": 36,
   "metadata": {},
   "outputs": [],
   "source": [
    "import ipe_06_modulo as ipe"
   ]
  },
  {
   "cell_type": "markdown",
   "metadata": {},
   "source": [
    "Esse módulo possui uma função e uma variável"
   ]
  },
  {
   "cell_type": "code",
   "execution_count": 37,
   "metadata": {},
   "outputs": [
    {
     "name": "stdout",
     "output_type": "stream",
     "text": [
      "Esse é um módulo para exemplificar a criação de módulos Python\n",
      "====================\n",
      "scc0124 - 2021\n",
      "USP São Carlos\n",
      "Prof. Moacir A. Ponti\n"
     ]
    }
   ],
   "source": [
    "ipe.about()"
   ]
  },
  {
   "cell_type": "code",
   "execution_count": 38,
   "metadata": {},
   "outputs": [
    {
     "data": {
      "text/plain": [
       "2021"
      ]
     },
     "execution_count": 38,
     "metadata": {},
     "output_type": "execute_result"
    }
   ],
   "source": [
    "ipe.year"
   ]
  },
  {
   "cell_type": "markdown",
   "metadata": {},
   "source": [
    "---\n",
    "\n",
    "#### <font color=\"blue\">Exercício 6d.3 </font>\n",
    "\n",
    "Crie um módulo contendo todas as funções criadas nessa parte 6 da disciplina\n",
    "\n",
    "Importe esse módulo dentro de um notebook e use suas funções"
   ]
  },
  {
   "cell_type": "code",
   "execution_count": null,
   "metadata": {},
   "outputs": [],
   "source": []
  }
 ],
 "metadata": {
  "kernelspec": {
   "display_name": "Python 3",
   "language": "python",
   "name": "python3"
  },
  "language_info": {
   "codemirror_mode": {
    "name": "ipython",
    "version": 3
   },
   "file_extension": ".py",
   "mimetype": "text/x-python",
   "name": "python",
   "nbconvert_exporter": "python",
   "pygments_lexer": "ipython3",
   "version": "3.9.5"
  },
  "toc": {
   "base_numbering": 1,
   "nav_menu": {},
   "number_sections": true,
   "sideBar": true,
   "skip_h1_title": false,
   "title_cell": "Table of Contents",
   "title_sidebar": "Contents",
   "toc_cell": false,
   "toc_position": {},
   "toc_section_display": true,
   "toc_window_display": false
  }
 },
 "nbformat": 4,
 "nbformat_minor": 2
}
