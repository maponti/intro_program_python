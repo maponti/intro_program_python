{
 "cells": [
  {
   "cell_type": "markdown",
   "metadata": {
    "slideshow": {
     "slide_type": "slide"
    }
   },
   "source": [
    "<span style=\"color:green\">Introdução à Programação para Engenharias - scc0124</span>\n",
    "\n",
    "<span style=\"color:blue\">*Python*</span><br>\n",
    "\n",
    "*Moacir A. Ponti*<br>\n",
    "*ICMC/USP São Carlos*"
   ]
  },
  {
   "cell_type": "markdown",
   "metadata": {
    "slideshow": {
     "slide_type": "fragment"
    }
   },
   "source": [
    "**Conteúdo:**\n",
    "- O que é Python\n",
    "- Interpretador\n",
    "- IDE\n",
    "- Arquivos Python\n",
    "- Jupyter Notebook\n",
    "- Primeiros testes"
   ]
  },
  {
   "cell_type": "markdown",
   "metadata": {
    "slideshow": {
     "slide_type": "slide"
    }
   },
   "source": [
    "\n",
    "## O que é Python?\n",
    "\n",
    "Python é uma linguagem dinâmica e interpretada. Em outras palavras, muitas tarefas são realizadas em *tempo de execução* e o código é **executado diretamente ao invés de ser compilado**.\n",
    "\n",
    "> Compilação: significa que a linguagem é processada antes por um programa e transformada em um arquivo binário executável"
   ]
  },
  {
   "cell_type": "markdown",
   "metadata": {
    "slideshow": {
     "slide_type": "fragment"
    }
   },
   "source": [
    "De fato, essa interface que estamos usando, chamada de **Jupyter Notebook** funciona como interpretador Python! Vamos ver isso funcionando:"
   ]
  },
  {
   "cell_type": "code",
   "execution_count": null,
   "metadata": {
    "slideshow": {
     "slide_type": "fragment"
    }
   },
   "outputs": [],
   "source": [
    "5 + 10 / 1.5 - 100"
   ]
  },
  {
   "cell_type": "markdown",
   "metadata": {
    "slideshow": {
     "slide_type": "slide"
    }
   },
   "source": [
    "\n",
    "Python também é:\n",
    "- _Imperativo_: programas compreendem uma sequência de declarações\n",
    "- _Orientada a objetos_: permite modelos de classes para manipular objetos\n",
    "- _Procedural_: código pode ser agrupado em unidades chamadas funções\n",
    "- _Funcional_: nativamente permite funções, lambdas anônimos, comprehensions e geradores.\n"
   ]
  },
  {
   "cell_type": "markdown",
   "metadata": {
    "slideshow": {
     "slide_type": "slide"
    }
   },
   "source": [
    "Apesar de criado no início dos anos 1990, obteve maior uso nos anos 2000 com o esforço de uma comunidade que disponibilizou inúmeras bibliotecas que facilitam seu uso\n",
    "\n",
    "A linguagem segue uma filosofia que vem de um poema chamado \"Zen of Python\".\n",
    "\n",
    "Começa assim:\n",
    "\n",
    "    Bonito é melhor do que feio\n",
    "    Explícito é melhor do que implícito\n",
    "    Simples é melhor do que complexo\n",
    "    Complexo é melhor do que complicado.\n",
    "\n",
    "Você pode ver ele completo \"importanto this\""
   ]
  },
  {
   "cell_type": "code",
   "execution_count": null,
   "metadata": {
    "slideshow": {
     "slide_type": "fragment"
    }
   },
   "outputs": [],
   "source": [
    "import this"
   ]
  },
  {
   "cell_type": "markdown",
   "metadata": {
    "slideshow": {
     "slide_type": "slide"
    }
   },
   "source": [
    "# Interpretador Python\n",
    "\n",
    "É basicamente um \"console\" ou \"terminal\" em que digitamos comandos em sequência\n",
    "\n",
    "Para configurar o Python no computador, é necessário fazer o download e instalar o kit de desenvolvimento em Python - https://www.python.org/downloads/\n",
    "\n",
    "Instalar a versão de acordo com Sistema Operacional, ex. Mac OSX, Linux, etc.\n",
    "\n",
    "Distribuições Linux geralmente possuem Python nativamente."
   ]
  },
  {
   "cell_type": "markdown",
   "metadata": {
    "slideshow": {
     "slide_type": "slide"
    }
   },
   "source": [
    "# IDE\n",
    "\n",
    "**Integrated Development Environment** é um aplicativo que fornece mais funcionalidades do que simplesmente digitarmos os comandos em sequência.\n",
    "\n",
    "Um dos mais famosos é o PyCharm https://www.jetbrains.com/pycharm/\n",
    "\n",
    "Você pode usar a IDE que achar mais adequada porém nas aulas utilizaremos **Jupyter Notebook**\n",
    "\n",
    "Há ainda a possibilidade de se utilizar um serviço Google na nuvem disponível em http://colab.research.google.com/"
   ]
  },
  {
   "cell_type": "markdown",
   "metadata": {
    "slideshow": {
     "slide_type": "slide"
    }
   },
   "source": [
    "# Arquivos fonte Python\n",
    "\n",
    "Um arquivo contendo um código em python possui extensão **.py**\n",
    "\n",
    "Geralmente esse arquivo contém funções e programas prontos para serem carregados e utilizados num interpretador ou IDE. \n",
    "\n",
    "O programador reúne seus principais programas no arquivo *.py* e depois abre e utiliza esses programas no interpretador."
   ]
  },
  {
   "cell_type": "markdown",
   "metadata": {
    "slideshow": {
     "slide_type": "slide"
    }
   },
   "source": [
    "# Jupyter Notebook\n",
    "\n",
    "Permite misturar código com conteúdo de texto, salvando resultados inclusive gráficos.\n",
    "\n",
    "O arquivo de um notebook possui extensão **.ipynb**, geralmente utilizado apenas para visualização e não para codificar programas a serem executados em *produção*\n",
    "\n",
    "> Na computação separamos programas em *desenvolvimento* daqueles efetivamente funcionando na prática **em produção**\n",
    "\n",
    "Em produção temos tolerância baixa a erros!"
   ]
  },
  {
   "cell_type": "markdown",
   "metadata": {
    "slideshow": {
     "slide_type": "slide"
    }
   },
   "source": [
    "# Primeiros testes"
   ]
  },
  {
   "cell_type": "code",
   "execution_count": 1,
   "metadata": {},
   "outputs": [
    {
     "data": {
      "text/plain": [
       "4"
      ]
     },
     "execution_count": 1,
     "metadata": {},
     "output_type": "execute_result"
    }
   ],
   "source": [
    "2 + 2"
   ]
  },
  {
   "cell_type": "code",
   "execution_count": 2,
   "metadata": {},
   "outputs": [
    {
     "data": {
      "text/plain": [
       "6.5"
      ]
     },
     "execution_count": 2,
     "metadata": {},
     "output_type": "execute_result"
    }
   ],
   "source": [
    "11 / 2 + 1"
   ]
  },
  {
   "cell_type": "code",
   "execution_count": 3,
   "metadata": {},
   "outputs": [
    {
     "data": {
      "text/plain": [
       "'AB'"
      ]
     },
     "execution_count": 3,
     "metadata": {},
     "output_type": "execute_result"
    }
   ],
   "source": [
    "'A' + 'B'"
   ]
  },
  {
   "cell_type": "code",
   "execution_count": 4,
   "metadata": {},
   "outputs": [
    {
     "ename": "NameError",
     "evalue": "name 'A' is not defined",
     "output_type": "error",
     "traceback": [
      "\u001b[0;31m---------------------------------------------------------------------------\u001b[0m",
      "\u001b[0;31mNameError\u001b[0m                                 Traceback (most recent call last)",
      "\u001b[0;32m<ipython-input-4-151064de832d>\u001b[0m in \u001b[0;36m<module>\u001b[0;34m\u001b[0m\n\u001b[0;32m----> 1\u001b[0;31m \u001b[0mA\u001b[0m \u001b[0;34m+\u001b[0m \u001b[0mB\u001b[0m\u001b[0;34m\u001b[0m\u001b[0;34m\u001b[0m\u001b[0m\n\u001b[0m",
      "\u001b[0;31mNameError\u001b[0m: name 'A' is not defined"
     ]
    }
   ],
   "source": [
    "A + B"
   ]
  },
  {
   "cell_type": "markdown",
   "metadata": {},
   "source": [
    "Nosso primeiro (de muitos) erros. Vamos tentar traduzir:\n",
    "\n",
    "> Erro de Nome: nome 'A' não foi definido\n",
    "\n",
    "Isso significa que A não é interpretado como um valor mas como um **símbolo**, e como eu não defini antes o que é `A`, o Python não consegue dar uma resposta"
   ]
  },
  {
   "cell_type": "code",
   "execution_count": 5,
   "metadata": {},
   "outputs": [
    {
     "data": {
      "text/plain": [
       "'EngenhariadeProdução'"
      ]
     },
     "execution_count": 5,
     "metadata": {},
     "output_type": "execute_result"
    }
   ],
   "source": [
    "'Engenharia' + 'de' + 'Produção'"
   ]
  },
  {
   "cell_type": "code",
   "execution_count": 6,
   "metadata": {},
   "outputs": [
    {
     "data": {
      "text/plain": [
       "'Engenharia de Produção'"
      ]
     },
     "execution_count": 6,
     "metadata": {},
     "output_type": "execute_result"
    }
   ],
   "source": [
    "\"Engenharia\" + \" de\" + \" Produção\""
   ]
  },
  {
   "cell_type": "code",
   "execution_count": 7,
   "metadata": {},
   "outputs": [
    {
     "ename": "TypeError",
     "evalue": "can only concatenate str (not \"int\") to str",
     "output_type": "error",
     "traceback": [
      "\u001b[0;31m---------------------------------------------------------------------------\u001b[0m",
      "\u001b[0;31mTypeError\u001b[0m                                 Traceback (most recent call last)",
      "\u001b[0;32m<ipython-input-7-1634bdf84b0f>\u001b[0m in \u001b[0;36m<module>\u001b[0;34m\u001b[0m\n\u001b[0;32m----> 1\u001b[0;31m \u001b[0;34m'A'\u001b[0m \u001b[0;34m+\u001b[0m \u001b[0;36m1\u001b[0m\u001b[0;34m\u001b[0m\u001b[0;34m\u001b[0m\u001b[0m\n\u001b[0m",
      "\u001b[0;31mTypeError\u001b[0m: can only concatenate str (not \"int\") to str"
     ]
    }
   ],
   "source": [
    "'A' + 1"
   ]
  },
  {
   "cell_type": "markdown",
   "metadata": {},
   "source": [
    "esse é nosso segundo erro. Vamos tentar traduzir:\n",
    "\n",
    "> TypeError: can only concatenate str (not \"int\") to str\n",
    "\n",
    "> Erro de tipo : é possível apenas concatenar str (e não \"int\") a str\n",
    "\n",
    "OBS: *spoiler* \n",
    "- str == *string* ou cadeia de caracteres\n",
    "- int == número inteiro\n",
    "\n",
    "Significa que estamos tentando concatenar dados de *tipos* diferentes.\n",
    "\n",
    "Além de lidar com valores podemos montar listas de valores em Python"
   ]
  },
  {
   "cell_type": "code",
   "execution_count": 8,
   "metadata": {},
   "outputs": [
    {
     "data": {
      "text/plain": [
       "['Jaci', 'Tupã', 'Yara']"
      ]
     },
     "execution_count": 8,
     "metadata": {},
     "output_type": "execute_result"
    }
   ],
   "source": [
    "[\"Jaci\", \"Tupã\", \"Yara\"]"
   ]
  },
  {
   "cell_type": "code",
   "execution_count": 9,
   "metadata": {},
   "outputs": [
    {
     "data": {
      "text/plain": [
       "[1, 2, 3, 4, 5]"
      ]
     },
     "execution_count": 9,
     "metadata": {},
     "output_type": "execute_result"
    }
   ],
   "source": [
    "[1, 2, 3, 4, 5]"
   ]
  },
  {
   "cell_type": "code",
   "execution_count": 10,
   "metadata": {},
   "outputs": [
    {
     "data": {
      "text/plain": [
       "5"
      ]
     },
     "execution_count": 10,
     "metadata": {},
     "output_type": "execute_result"
    }
   ],
   "source": [
    "max([1, 2, 3, 4, 5])"
   ]
  },
  {
   "cell_type": "code",
   "execution_count": 11,
   "metadata": {},
   "outputs": [
    {
     "data": {
      "text/plain": [
       "15"
      ]
     },
     "execution_count": 11,
     "metadata": {},
     "output_type": "execute_result"
    }
   ],
   "source": [
    "sum([1, 2, 3, 4, 5])"
   ]
  },
  {
   "cell_type": "code",
   "execution_count": 12,
   "metadata": {},
   "outputs": [
    {
     "data": {
      "text/plain": [
       "[1, 2, 3, 4, 5, 1, 2, 3, 4, 5]"
      ]
     },
     "execution_count": 12,
     "metadata": {},
     "output_type": "execute_result"
    }
   ],
   "source": [
    "[1, 2, 3, 4, 5] + [1, 2, 3, 4, 5]"
   ]
  },
  {
   "cell_type": "code",
   "execution_count": 13,
   "metadata": {},
   "outputs": [
    {
     "data": {
      "text/plain": [
       "[1, 2, 3, 1, 2, 3, 1, 2, 3, 1, 2, 3, 1, 2, 3]"
      ]
     },
     "execution_count": 13,
     "metadata": {},
     "output_type": "execute_result"
    }
   ],
   "source": [
    "[1, 2, 3] * 5"
   ]
  },
  {
   "cell_type": "markdown",
   "metadata": {},
   "source": [
    "---\n",
    "\n",
    "Desses testes vemos que há várias possibilidades de computar números e também outros tipos de dados como palavras em Python.\n",
    "\n",
    "O que nos falta para ter mais poder de programação é saber lidar melhor com a **memória**, armazenando dados de forma a permitir recuperá-los e computar de forma mais otimizada e eficiente."
   ]
  }
 ],
 "metadata": {
  "kernelspec": {
   "display_name": "Python 3",
   "language": "python",
   "name": "python3"
  },
  "language_info": {
   "codemirror_mode": {
    "name": "ipython",
    "version": 3
   },
   "file_extension": ".py",
   "mimetype": "text/x-python",
   "name": "python",
   "nbconvert_exporter": "python",
   "pygments_lexer": "ipython3",
   "version": "3.9.5"
  },
  "toc": {
   "base_numbering": 1,
   "nav_menu": {},
   "number_sections": true,
   "sideBar": true,
   "skip_h1_title": false,
   "title_cell": "Table of Contents",
   "title_sidebar": "Contents",
   "toc_cell": false,
   "toc_position": {},
   "toc_section_display": true,
   "toc_window_display": false
  }
 },
 "nbformat": 4,
 "nbformat_minor": 2
}
