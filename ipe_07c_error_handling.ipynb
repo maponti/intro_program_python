{
 "cells": [
  {
   "cell_type": "markdown",
   "metadata": {},
   "source": [
    "<span style=\"color:green\">Introdução à Programação para Engenharias - scc0124</span>\n",
    "\n",
    "<span style=\"color:blue\">*Controle de fluxo em erros*</span><br>\n",
    "\n",
    "*Moacir A. Ponti*<br>\n",
    "*ICMC/USP São Carlos*"
   ]
  },
  {
   "cell_type": "markdown",
   "metadata": {},
   "source": [
    "# Controle de fluxo em erros\n",
    " \n",
    "Em vários cenários gostaríamos de tratar erros sem encerrar o programa.\n",
    "\n",
    "Podemos alterar o controle de fluxo em erros especificando um **comportamento alternativo** quando ocorre uma **exceção**\n",
    "\n",
    "Alguns exemplos.\n",
    "\n",
    "##### 1. Divisão por zero"
   ]
  },
  {
   "cell_type": "code",
   "execution_count": 1,
   "metadata": {},
   "outputs": [
    {
     "ename": "ZeroDivisionError",
     "evalue": "division by zero",
     "output_type": "error",
     "traceback": [
      "\u001b[0;31m---------------------------------------------------------------------------\u001b[0m",
      "\u001b[0;31mZeroDivisionError\u001b[0m                         Traceback (most recent call last)",
      "\u001b[0;32m<ipython-input-1-0afd5bae8e38>\u001b[0m in \u001b[0;36m<module>\u001b[0;34m\u001b[0m\n\u001b[1;32m      2\u001b[0m \u001b[0my\u001b[0m \u001b[0;34m=\u001b[0m \u001b[0;36m0\u001b[0m\u001b[0;34m\u001b[0m\u001b[0;34m\u001b[0m\u001b[0m\n\u001b[1;32m      3\u001b[0m \u001b[0;34m\u001b[0m\u001b[0m\n\u001b[0;32m----> 4\u001b[0;31m \u001b[0mx\u001b[0m\u001b[0;34m/\u001b[0m\u001b[0my\u001b[0m\u001b[0;34m\u001b[0m\u001b[0;34m\u001b[0m\u001b[0m\n\u001b[0m",
      "\u001b[0;31mZeroDivisionError\u001b[0m: division by zero"
     ]
    }
   ],
   "source": [
    "x = 18\n",
    "y = 0\n",
    "\n",
    "x/y"
   ]
  },
  {
   "cell_type": "markdown",
   "metadata": {},
   "source": [
    "##### 2. Erro de conversão"
   ]
  },
  {
   "cell_type": "code",
   "execution_count": 2,
   "metadata": {},
   "outputs": [
    {
     "name": "stdout",
     "output_type": "stream",
     "text": [
      "Entre com a idade:dfg\n"
     ]
    },
    {
     "ename": "ValueError",
     "evalue": "invalid literal for int() with base 10: 'dfg'",
     "output_type": "error",
     "traceback": [
      "\u001b[0;31m---------------------------------------------------------------------------\u001b[0m",
      "\u001b[0;31mValueError\u001b[0m                                Traceback (most recent call last)",
      "\u001b[0;32m<ipython-input-2-ac474ddc9d99>\u001b[0m in \u001b[0;36m<module>\u001b[0;34m\u001b[0m\n\u001b[0;32m----> 1\u001b[0;31m \u001b[0midade\u001b[0m \u001b[0;34m=\u001b[0m \u001b[0mint\u001b[0m\u001b[0;34m(\u001b[0m\u001b[0minput\u001b[0m\u001b[0;34m(\u001b[0m\u001b[0;34m\"Entre com a idade:\"\u001b[0m\u001b[0;34m)\u001b[0m\u001b[0;34m)\u001b[0m\u001b[0;34m\u001b[0m\u001b[0;34m\u001b[0m\u001b[0m\n\u001b[0m",
      "\u001b[0;31mValueError\u001b[0m: invalid literal for int() with base 10: 'dfg'"
     ]
    }
   ],
   "source": [
    "idade = int(input(\"Entre com a idade:\"))"
   ]
  },
  {
   "cell_type": "markdown",
   "metadata": {},
   "source": [
    "---\n",
    "\n",
    "## `try`-`except`\n",
    "\n",
    "Ao invés de interromper o programa com um erro e finalizá-lo (*crash*) poderíamos absorver o erro e executar nosso próprio código de tratamento.\n",
    "\n",
    "Para isso usamos um bloco `try` e `except`. Sintaxe:\n",
    "\n",
    "```python\n",
    "try:\n",
    "    <bloco indentado com o código a executar e monitorar exceções>\n",
    "except:\n",
    "    <bloco indentado executado apenas se no bloco try ocorreu uma exceção>\n",
    "```    "
   ]
  },
  {
   "cell_type": "code",
   "execution_count": 3,
   "metadata": {},
   "outputs": [
    {
     "name": "stdout",
     "output_type": "stream",
     "text": [
      "Divisão por zero, será atribuído zero ao resultado, tente novamente.\n"
     ]
    }
   ],
   "source": [
    "y = 0\n",
    "\n",
    "try:\n",
    "    divisao = x/y\n",
    "except:\n",
    "    print(\"Divisão por zero, será atribuído zero ao resultado, tente novamente.\")\n",
    "    divisao = 0"
   ]
  },
  {
   "cell_type": "code",
   "execution_count": 4,
   "metadata": {},
   "outputs": [
    {
     "name": "stdout",
     "output_type": "stream",
     "text": [
      "Entre com a idade:vinte anos\n",
      "Idade deve ser um número inteiro, tente novamente\n",
      "Entre com a idade:vinte\n",
      "Idade deve ser um número inteiro, tente novamente\n",
      "Entre com a idade:20\n",
      "Idade= 20\n"
     ]
    }
   ],
   "source": [
    "idade = -1\n",
    "while (idade < 0):\n",
    "    try:\n",
    "        idade = int(input(\"Entre com a idade:\"))\n",
    "    except:\n",
    "        print(\"Idade deve ser um número inteiro, tente novamente\")\n",
    "\n",
    "print(\"Idade=\", idade)"
   ]
  },
  {
   "cell_type": "markdown",
   "metadata": {},
   "source": [
    "### Tratando exceções de um tipo específico\n",
    "\n",
    "https://docs.python.org/3/library/exceptions.html\n",
    "\n",
    "* `TypeError`: quando uma operação ou função é aplicada a um objeto de tipo não apropriado, por exemplo passar argumentos de um tipo incorreto ou usar um índice não inteiro,\n",
    "* `IndexError`: quando um índice inteiro está fora do intervalo,\n",
    "* `ValueError`: quando um operador ou função recebe um argumento que tem o tipo certo mas o valor inapropriado, e que não seja tratado por exceções específicas como `IndexError`, por exemplo um valor para o qual uma função é indefinida ou que não consiga executar, como uma tentativa de converter para inteiro uma string que não é um inteiro,\n",
    "* `ZeroDivisionError`: erro de divisão por zero"
   ]
  },
  {
   "cell_type": "code",
   "execution_count": 8,
   "metadata": {},
   "outputs": [
    {
     "name": "stdout",
     "output_type": "stream",
     "text": [
      "Entre com o denominador:sdfgsdf\n"
     ]
    },
    {
     "name": "stderr",
     "output_type": "stream",
     "text": [
      "Um erro desconhecido ocorreu\n"
     ]
    }
   ],
   "source": [
    "import sys\n",
    "\n",
    "x = 100\n",
    "lista = [10, 20, 30, 40, 50]\n",
    "\n",
    "try:\n",
    "    denom = int(input(\"Entre com o denominador:\"))\n",
    "    res = x//denom\n",
    "    print('Posição ', res, '=', lista[res])\n",
    "    #print(lista['a']) #\n",
    "    \n",
    "except ZeroDivisionError:\n",
    "    print(\"Denominador digitado é zero, digite um valor diferente de zero.\")\n",
    "    \n",
    "except IndexError:\n",
    "    print(\"Resultado gerou um índice fora do intervalo\")\n",
    "    \n",
    "except:\n",
    "    print(\"Um erro desconhecido ocorreu\", file=sys.stderr)"
   ]
  },
  {
   "cell_type": "markdown",
   "metadata": {},
   "source": [
    "---\n",
    "\n",
    "#### <font color=\"blue\">Exercício 7c.1 </font>\n",
    "\n",
    "Escreva um programa que peça um número do tipo float para ser calculado o logaritmo na base 10 usando a função `math.log()`, e trate erros relacionados a:\n",
    "* Valor digitado não é convertível para um número\n",
    "* Logaritmo de zero não pode ser computado"
   ]
  },
  {
   "cell_type": "code",
   "execution_count": null,
   "metadata": {},
   "outputs": [],
   "source": []
  }
 ],
 "metadata": {
  "kernelspec": {
   "display_name": "Python 3",
   "language": "python",
   "name": "python3"
  },
  "language_info": {
   "codemirror_mode": {
    "name": "ipython",
    "version": 3
   },
   "file_extension": ".py",
   "mimetype": "text/x-python",
   "name": "python",
   "nbconvert_exporter": "python",
   "pygments_lexer": "ipython3",
   "version": "3.9.5"
  },
  "toc": {
   "base_numbering": 1,
   "nav_menu": {},
   "number_sections": true,
   "sideBar": true,
   "skip_h1_title": false,
   "title_cell": "Table of Contents",
   "title_sidebar": "Contents",
   "toc_cell": false,
   "toc_position": {},
   "toc_section_display": true,
   "toc_window_display": false
  }
 },
 "nbformat": 4,
 "nbformat_minor": 2
}
