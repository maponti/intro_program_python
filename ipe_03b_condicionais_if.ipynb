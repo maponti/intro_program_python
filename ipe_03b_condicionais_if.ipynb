{
 "cells": [
  {
   "cell_type": "markdown",
   "metadata": {},
   "source": [
    "<span style=\"color:green\">Introdução à Programação para Engenharias - scc0124</span>\n",
    "\n",
    "<span style=\"color:blue\">*Condicionais*</span><br>\n",
    "\n",
    "*Moacir A. Ponti*<br>\n",
    "*ICMC/USP São Carlos*"
   ]
  },
  {
   "cell_type": "markdown",
   "metadata": {},
   "source": [
    "**Conteúdo:**\n",
    "- Arquitetura do computador\n",
    "- Entrada e saída\n",
    "- Input\n",
    "- Print"
   ]
  },
  {
   "cell_type": "markdown",
   "metadata": {},
   "source": [
    "# Condicionais\n",
    "\n",
    "Até agora o código que fizemos sempre é executado de forma linear: todas as linhas, uma após a outra"
   ]
  },
  {
   "cell_type": "code",
   "execution_count": 1,
   "metadata": {},
   "outputs": [
    {
     "name": "stdout",
     "output_type": "stream",
     "text": [
      "5\n",
      "10\n",
      "Resultado = 0.50\n"
     ]
    }
   ],
   "source": [
    "# entrada de dados - valores a,b\n",
    "a = float(input())\n",
    "b = float(input())\n",
    "\n",
    "# cálculo de divisão\n",
    "divs = a/b\n",
    "print(\"Resultado = %.2f\" % (divs))"
   ]
  },
  {
   "cell_type": "markdown",
   "metadata": {
    "scrolled": true
   },
   "source": [
    "O problema é que, em alguns casos desejamos **condicionar** a execução de certos blocos.\n",
    "\n",
    "Por exemplo o código acima dá erro se `b` for igual a zero.\n",
    "\n",
    "Como fazer para que o programa em Python não compute a divisão no caso em que `b == 0` ?"
   ]
  },
  {
   "cell_type": "markdown",
   "metadata": {},
   "source": [
    "--- \n",
    "# IF\n",
    "\n",
    "`if` é uma estrutura condicional ou de decisão que permite testar uma condição e redirecionar o fluxo do código"
   ]
  },
  {
   "cell_type": "code",
   "execution_count": 3,
   "metadata": {},
   "outputs": [
    {
     "name": "stdout",
     "output_type": "stream",
     "text": [
      "Código será executado se condicao for VERDADEIRA (True)\n"
     ]
    }
   ],
   "source": [
    "condicao = True\n",
    "\n",
    "if (condicao):\n",
    "    print(\"Código será executado se condicao for VERDADEIRA (True)\")"
   ]
  },
  {
   "cell_type": "code",
   "execution_count": 4,
   "metadata": {},
   "outputs": [],
   "source": [
    "condicao = False\n",
    "\n",
    "if (condicao):\n",
    "    print(\"Código será executado se condicao for VERDADEIRA (True)\")"
   ]
  },
  {
   "cell_type": "markdown",
   "metadata": {},
   "source": [
    "Vamos modificar o código com a divisão para evitar o erro de divisão por zero"
   ]
  },
  {
   "cell_type": "code",
   "execution_count": 9,
   "metadata": {},
   "outputs": [
    {
     "name": "stdout",
     "output_type": "stream",
     "text": [
      "3\n",
      "3\n",
      "Resultado = 1.00\n"
     ]
    }
   ],
   "source": [
    "# entrada de dados - valores a,b\n",
    "a = float(input())\n",
    "b = float(input())\n",
    "\n",
    "# cálculo de divisão apenas quando b é diferente de 0\n",
    "if b != 0:\n",
    "    divs = a/b\n",
    "    print(\"Resultado = %.2f\" % (divs))"
   ]
  },
  {
   "cell_type": "markdown",
   "metadata": {},
   "source": [
    "Note que o trecho que envolve a divisão e a exibição dos resultados só é executada se a expressão `b != 0` retorna com resultado verdadeiro"
   ]
  },
  {
   "cell_type": "code",
   "execution_count": 10,
   "metadata": {},
   "outputs": [
    {
     "data": {
      "text/plain": [
       "True"
      ]
     },
     "execution_count": 10,
     "metadata": {},
     "output_type": "execute_result"
    }
   ],
   "source": [
    "b != 0"
   ]
  },
  {
   "cell_type": "markdown",
   "metadata": {},
   "source": [
    "Quando falamos em **retorno** isso significa o que a expressão gera como resultado, o qual pode ser manipulado."
   ]
  },
  {
   "cell_type": "code",
   "execution_count": 14,
   "metadata": {},
   "outputs": [],
   "source": [
    "# abaixo atribuímos uma comparacao a uma variavel\n",
    "# o resultado só pode ser Verdadeiro ou Falso (True / False)\n",
    "expressao = (b != 0)"
   ]
  },
  {
   "cell_type": "code",
   "execution_count": 15,
   "metadata": {},
   "outputs": [
    {
     "name": "stdout",
     "output_type": "stream",
     "text": [
      "True\n",
      "<class 'bool'>\n"
     ]
    }
   ],
   "source": [
    "print(expressao)\n",
    "print(type(expressao))"
   ]
  },
  {
   "cell_type": "markdown",
   "metadata": {},
   "source": [
    "# Else\n",
    "\n",
    "É uma estrutura opcional sempre seguida de um `if` que permite executar um trecho de código quando a condição for *Falsa* (`False`)"
   ]
  },
  {
   "cell_type": "code",
   "execution_count": 18,
   "metadata": {},
   "outputs": [
    {
     "name": "stdout",
     "output_type": "stream",
     "text": [
      "Será executado se condição for FALSA (False)\n"
     ]
    }
   ],
   "source": [
    "condicao = False\n",
    "\n",
    "if condicao:\n",
    "    print(\"Será executado se condicao for VERDADEIRA (True)\")\n",
    "else:\n",
    "    print(\"Será executado se condição for FALSA (False)\")"
   ]
  },
  {
   "cell_type": "markdown",
   "metadata": {},
   "source": [
    "Para exibir valores de variáveis podemos usar concatenação ou formatação\n",
    "\n",
    "Há várias formas de fazer isso, vamos mostrar a opção mais simples"
   ]
  },
  {
   "cell_type": "code",
   "execution_count": 19,
   "metadata": {},
   "outputs": [
    {
     "name": "stdout",
     "output_type": "stream",
     "text": [
      "4\n",
      "0\n",
      "Operação não realizada pois divisor é zero\n"
     ]
    }
   ],
   "source": [
    "# entrada de dados - valores a,b\n",
    "a = float(input())\n",
    "b = float(input())\n",
    "\n",
    "# cálculo de divisão apenas quando b é diferente de 0\n",
    "if b != 0:\n",
    "    divs = a/b\n",
    "    print(\"Resultado = %.2f\" % (divs))\n",
    "else:\n",
    "    print(\"Operação não realizada pois divisor é zero\")"
   ]
  },
  {
   "cell_type": "markdown",
   "metadata": {},
   "source": [
    "# elif\n",
    "\n",
    "Para encadear múltiplos testes, podemos usar `elif`, sempre após um `if`\n",
    "\n",
    "Cada `elif` é testado *se e somente se* o teste anterior for `False`"
   ]
  },
  {
   "cell_type": "code",
   "execution_count": 26,
   "metadata": {},
   "outputs": [
    {
     "name": "stdout",
     "output_type": "stream",
     "text": [
      "Primeiro if verdadeiro\n"
     ]
    }
   ],
   "source": [
    "valor = 3\n",
    "\n",
    "if (valor > 1):\n",
    "    print(\"Primeiro if verdadeiro\")\n",
    "elif (valor > 0):\n",
    "    print(\"elif verdadeiro\")\n",
    "else:\n",
    "    print(\"else\")"
   ]
  },
  {
   "cell_type": "markdown",
   "metadata": {},
   "source": [
    "Note que se o valor é maior do que 1 o primeiro bloco é acionado, independente da condicao do elif (valor > 0) também ser verdadeira."
   ]
  },
  {
   "cell_type": "markdown",
   "metadata": {},
   "source": [
    "# Exemplo: calculadora\n",
    "\n",
    "O usuário entra com dois valores, e a seguir uma operação:\n",
    "* \"som\" para soma\n",
    "* \"sub\" para subtração\n",
    "* \"mul\" para multiplicação\n",
    "* \"div\" para divisão\n",
    "\n",
    "Exibir na tela o resultado da operação com os dois valores.\n",
    "\n",
    "Caso o usuário digite outra operação, o resultado deve ser zero."
   ]
  },
  {
   "cell_type": "code",
   "execution_count": 20,
   "metadata": {},
   "outputs": [
    {
     "name": "stdout",
     "output_type": "stream",
     "text": [
      "4\n",
      "5\n",
      "som\n",
      "som = 9.00\n"
     ]
    }
   ],
   "source": [
    "# entrada dos dois valores\n",
    "a = float(input())\n",
    "b = float(input())\n",
    "# operacao\n",
    "operacao = str(input()).rstrip()\n",
    "\n",
    "# executar operacao selecionada\n",
    "if operacao == \"som\":\n",
    "    res = a+b\n",
    "elif operacao == \"sub\":\n",
    "    res = a-b\n",
    "elif operacao == \"mul\":\n",
    "    res = a*b\n",
    "elif operacao == \"div\":\n",
    "    res = a/b\n",
    "else:\n",
    "    print(\"Operação inválida\")\n",
    "    res = 0\n",
    "\n",
    "print(\"%s = %.2f\" % (operacao, res))"
   ]
  }
 ],
 "metadata": {
  "kernelspec": {
   "display_name": "Python 3",
   "language": "python",
   "name": "python3"
  },
  "language_info": {
   "codemirror_mode": {
    "name": "ipython",
    "version": 3
   },
   "file_extension": ".py",
   "mimetype": "text/x-python",
   "name": "python",
   "nbconvert_exporter": "python",
   "pygments_lexer": "ipython3",
   "version": "3.9.2"
  },
  "toc": {
   "base_numbering": 1,
   "nav_menu": {},
   "number_sections": true,
   "sideBar": true,
   "skip_h1_title": false,
   "title_cell": "Table of Contents",
   "title_sidebar": "Contents",
   "toc_cell": false,
   "toc_position": {},
   "toc_section_display": true,
   "toc_window_display": false
  }
 },
 "nbformat": 4,
 "nbformat_minor": 2
}
