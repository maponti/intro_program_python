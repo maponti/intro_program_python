{
 "cells": [
  {
   "cell_type": "markdown",
   "metadata": {},
   "source": [
    "<span style=\"color:green\">Introdução à Programação para Engenharias - scc0124</span>\n",
    "\n",
    "<span style=\"color:blue\">*Condicionais*</span><br>\n",
    "\n",
    "*Moacir A. Ponti*<br>\n",
    "*ICMC/USP São Carlos*"
   ]
  },
  {
   "cell_type": "markdown",
   "metadata": {},
   "source": [
    "**Conteúdo:**\n",
    "- Condicionais\n",
    "- IF\n",
    "- ELSE\n",
    "- ELIF"
   ]
  },
  {
   "cell_type": "markdown",
   "metadata": {},
   "source": [
    "# Condicionais\n",
    "\n",
    "Até agora o código que fizemos sempre é executado de forma linear: todas as linhas, uma após a outra"
   ]
  },
  {
   "cell_type": "code",
   "execution_count": null,
   "metadata": {},
   "outputs": [],
   "source": [
    "# entrada de dados - valores a,b\n",
    "a = float(input())\n",
    "b = float(input())\n",
    "\n",
    "# cálculo de divisão\n",
    "divs = a/b\n",
    "print(\"Resultado = %.2f\" % (divs))"
   ]
  },
  {
   "cell_type": "markdown",
   "metadata": {
    "scrolled": true
   },
   "source": [
    "O problema é que, em alguns casos desejamos **condicionar** a execução de certos blocos.\n",
    "\n",
    "Por exemplo o código acima dá erro se `b` for igual a zero.\n",
    "\n",
    "Como fazer para que o programa em Python não compute a divisão no caso em que `b == 0` ?"
   ]
  },
  {
   "cell_type": "markdown",
   "metadata": {},
   "source": [
    "--- \n",
    "# IF\n",
    "\n",
    "`if` é uma estrutura condicional ou de decisão que permite testar uma condição e redirecionar o fluxo do código\n",
    "\n",
    "Sintaxe:\n",
    "\n",
    "```\n",
    "if <condicao>:\n",
    "    <codigo a ser executado se condicao for True>\n",
    "```\n",
    "\n",
    "Importante: \n",
    "1. não esquecer dos \"dois pontos\"\n",
    "1. não esquecer que o código a ser executado se o IF for verdadeiro tem que estar indentado no mesmo nível abaixo do IF\n",
    "\n"
   ]
  },
  {
   "cell_type": "code",
   "execution_count": 1,
   "metadata": {},
   "outputs": [
    {
     "name": "stdout",
     "output_type": "stream",
     "text": [
      "Código será executado se condicao for VERDADEIRA (True)\n"
     ]
    }
   ],
   "source": [
    "condicao = True\n",
    "\n",
    "if condicao:\n",
    "    print(\"Código será executado se condicao for VERDADEIRA (True)\")"
   ]
  },
  {
   "cell_type": "code",
   "execution_count": 2,
   "metadata": {},
   "outputs": [],
   "source": [
    "condicao = False\n",
    "\n",
    "if condicao:\n",
    "    print(\"Código será executado se condicao for VERDADEIRA (True)\")"
   ]
  },
  {
   "cell_type": "markdown",
   "metadata": {},
   "source": [
    "Para especificar o escopo da estrutura de decisão IF utilizamos endentação / indentação\n",
    "* no início da linha utilizamos espaços ou uma tabulação `TAB`\n",
    "\n",
    "Em Python tenho que manter o padrão de endentação: um tab, 3 espaços, 5 espaços em branco, mas sempre tem que ser igual"
   ]
  },
  {
   "cell_type": "code",
   "execution_count": null,
   "metadata": {},
   "outputs": [],
   "source": [
    "condicao = False\n",
    "\n",
    "t = 1\n",
    "\n",
    "if condicao:\n",
    "    print(\"Essa condicao foi verdadeira\")\n",
    "    print(\"do contrario esses prints nao executariam\")\n",
    "    t = 1000\n",
    "\n",
    "# essa linha já está fora do IF\n",
    "print(\"fora do IF, valor de t=\", t)"
   ]
  },
  {
   "cell_type": "markdown",
   "metadata": {},
   "source": [
    "Vamos modificar o código com a divisão para evitar o erro de divisão por zero"
   ]
  },
  {
   "cell_type": "code",
   "execution_count": null,
   "metadata": {},
   "outputs": [],
   "source": [
    "# entrada de dados - valores a,b\n",
    "a = float(input())\n",
    "b = float(input())\n",
    "\n",
    "# cálculo de divisão apenas quando b é diferente de 0\n",
    "if b != 0:\n",
    "    divs = a/b\n",
    "    print(\"Resultado = %.2f\" % (divs))"
   ]
  },
  {
   "cell_type": "code",
   "execution_count": null,
   "metadata": {},
   "outputs": [],
   "source": [
    "resultado_condicao = (b != 0)\n",
    "print(resultado_condicao)"
   ]
  },
  {
   "cell_type": "code",
   "execution_count": null,
   "metadata": {},
   "outputs": [],
   "source": [
    "if (b - a):\n",
    "    print(\"É verdadeira a expressao a - b\")"
   ]
  },
  {
   "cell_type": "code",
   "execution_count": null,
   "metadata": {},
   "outputs": [],
   "source": [
    "bool(0)"
   ]
  },
  {
   "cell_type": "markdown",
   "metadata": {},
   "source": [
    "Note que o trecho que envolve a divisão e a exibição dos resultados só é executada se a expressão `b != 0` retorna com resultado verdadeiro"
   ]
  },
  {
   "cell_type": "code",
   "execution_count": null,
   "metadata": {},
   "outputs": [],
   "source": [
    "b != 0"
   ]
  },
  {
   "cell_type": "markdown",
   "metadata": {},
   "source": [
    "Quando falamos em **retorno** isso significa o que a expressão gera como resultado, o qual pode ser manipulado."
   ]
  },
  {
   "cell_type": "code",
   "execution_count": null,
   "metadata": {},
   "outputs": [],
   "source": [
    "# abaixo atribuímos uma comparacao a uma variavel\n",
    "# o resultado só pode ser Verdadeiro ou Falso (True / False)\n",
    "expressao = (b != 0)"
   ]
  },
  {
   "cell_type": "code",
   "execution_count": null,
   "metadata": {},
   "outputs": [],
   "source": [
    "print(expressao)\n",
    "print(type(expressao))"
   ]
  },
  {
   "cell_type": "markdown",
   "metadata": {},
   "source": [
    "# Else\n",
    "\n",
    "É uma estrutura opcional sempre seguida de um `if` que permite executar um trecho de código quando a condição for *Falsa* (`False`)"
   ]
  },
  {
   "cell_type": "code",
   "execution_count": null,
   "metadata": {},
   "outputs": [],
   "source": [
    "condicao = False\n",
    "\n",
    "t = 0\n",
    "if condicao:\n",
    "    print(\"Será executado se condicao for VERDADEIRA (True)\")\n",
    "    t = 100\n",
    "else:\n",
    "    print(\"Será executado se condição for FALSA (False)\")\n",
    "    \n",
    "# depois do if/else\n",
    "print(\"valor de t=\", t)"
   ]
  },
  {
   "cell_type": "markdown",
   "metadata": {},
   "source": [
    "Podemos usar o else para exibir diferentes mensagens no caso de uma divisão"
   ]
  },
  {
   "cell_type": "code",
   "execution_count": null,
   "metadata": {},
   "outputs": [],
   "source": [
    "# entrada de dados - valores a,b\n",
    "a = float(input())\n",
    "b = float(input())\n",
    "\n",
    "# cálculo de divisão apenas quando b é diferente de 0\n",
    "if b != 0:\n",
    "    divs = a/b\n",
    "    print(\"Resultado = %.2f\" % (divs))\n",
    "else:\n",
    "    print(\"Operação não realizada pois divisor é zero\")"
   ]
  },
  {
   "cell_type": "markdown",
   "metadata": {},
   "source": [
    "# elif\n",
    "\n",
    "else if\n",
    "elseif\n",
    "\n",
    "Para encadear múltiplos testes, podemos usar `elif`, sempre após um `if`\n",
    "\n",
    "Cada `elif` é testado *se e somente se* o teste anterior for `False`"
   ]
  },
  {
   "cell_type": "code",
   "execution_count": null,
   "metadata": {},
   "outputs": [],
   "source": [
    "valor = 1\n",
    "\n",
    "if (valor > 1):\n",
    "    print(\"Primeiro if verdadeiro\")\n",
    "# só vai testar esse elif se o if anterior tiver sido FALSO\n",
    "elif (valor > 0):\n",
    "    print(\"elif (valor > 0) verdadeiro\")\n",
    "# só vai testar esse elif se todos os testes anteriores forem FALSOS\n",
    "elif (valor >= 0):\n",
    "    print(\"elif (valor >= 0) verdadeiro\")\n",
    "else:\n",
    "    print(\"else\")\n",
    "    \n",
    "# após o if\n",
    "print(\"Executou apenas um dos blocos acima\")"
   ]
  },
  {
   "cell_type": "markdown",
   "metadata": {},
   "source": [
    "Note que se o valor é maior do que 1 o primeiro bloco é acionado, independente da condicao do elif (valor > 0) também ser verdadeira."
   ]
  },
  {
   "cell_type": "markdown",
   "metadata": {},
   "source": [
    "# Exemplo: calculadora\n",
    "\n",
    "O usuário entra com dois valores, e a seguir uma operação:\n",
    "* \"som\" para soma\n",
    "* \"sub\" para subtração\n",
    "* \"mul\" para multiplicação\n",
    "* \"div\" para divisão\n",
    "\n",
    "Exibir na tela o resultado da operação com os dois valores.\n",
    "\n",
    "Caso o usuário digite outra operação, o resultado deve ser zero."
   ]
  },
  {
   "cell_type": "code",
   "execution_count": 6,
   "metadata": {},
   "outputs": [
    {
     "name": "stdout",
     "output_type": "stream",
     "text": [
      "40\n",
      "3\n",
      "bla\n",
      "Operacao escolhida: bla\n",
      "Resultado =  0\n"
     ]
    }
   ],
   "source": [
    "# usuario digita 2 valores\n",
    "val1 = float(input())\n",
    "val2 = float(input())\n",
    "\n",
    "oper = str(input()).rstrip()\n",
    "\n",
    "print(\"Operacao escolhida:\", oper)\n",
    "\n",
    "if oper == \"som\":\n",
    "    res = val1+val2\n",
    "elif oper == \"sub\":\n",
    "    res = val1-val2\n",
    "elif oper == \"mul\":\n",
    "    res = val1*val2\n",
    "elif oper == \"div\":\n",
    "    if val2 != 0:\n",
    "        res = val1/val2\n",
    "    else:\n",
    "        print(\"Erro de divisão por zero\")\n",
    "else:\n",
    "    res = 0\n",
    "\n",
    "print(\"Resultado = \", res)"
   ]
  },
  {
   "cell_type": "code",
   "execution_count": null,
   "metadata": {},
   "outputs": [],
   "source": []
  }
 ],
 "metadata": {
  "kernelspec": {
   "display_name": "Python 3",
   "language": "python",
   "name": "python3"
  },
  "language_info": {
   "codemirror_mode": {
    "name": "ipython",
    "version": 3
   },
   "file_extension": ".py",
   "mimetype": "text/x-python",
   "name": "python",
   "nbconvert_exporter": "python",
   "pygments_lexer": "ipython3",
   "version": "3.9.5"
  },
  "toc": {
   "base_numbering": 1,
   "nav_menu": {},
   "number_sections": true,
   "sideBar": true,
   "skip_h1_title": false,
   "title_cell": "Table of Contents",
   "title_sidebar": "Contents",
   "toc_cell": false,
   "toc_position": {},
   "toc_section_display": true,
   "toc_window_display": false
  }
 },
 "nbformat": 4,
 "nbformat_minor": 2
}
