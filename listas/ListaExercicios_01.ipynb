{
 "cells": [
  {
   "cell_type": "markdown",
   "id": "hydraulic-labor",
   "metadata": {},
   "source": [
    "<span style=\"color:green\">Introdução à Programação para Engenharias - scc0124</span>\n",
    "\n",
    "<span style=\"color:blue\">*Lista de Exercícios (1)*</span><br>\n",
    "\n",
    "*Moacir A. Ponti*<br>\n",
    "*ICMC/USP São Carlos*"
   ]
  },
  {
   "cell_type": "markdown",
   "id": "later-legislation",
   "metadata": {},
   "source": [
    "## Variáveis, tipos de dados, memória, entrada e saída de dados"
   ]
  },
  {
   "cell_type": "markdown",
   "id": "separate-enlargement",
   "metadata": {},
   "source": [
    "### 1) Escreva expressões aritméticas/algébricas que correspondam às seguintes declarações\n",
    "\n",
    "a) A soma dos 7 primeiros números inteiros<br>\n",
    "b) 3 elevado a 8a (oitava) potencia<br>\n",
    "c) a diferença absoluta entre a altura de Maíra (168 centímetros) e a altura de Janaína (173 centímetros)<br>\n",
    "d) o menor preço dentre os seguintes preços: 20.50, 2.10, 1.95 e 1.99 <br>"
   ]
  },
  {
   "cell_type": "code",
   "execution_count": null,
   "id": "first-grade",
   "metadata": {},
   "outputs": [],
   "source": []
  },
  {
   "cell_type": "markdown",
   "id": "fitting-yahoo",
   "metadata": {},
   "source": [
    "### 2) Traduza as seguintes frases em expressões booleanas (lógicas), e avalie-as\n",
    "\n",
    "a) A soma de 2 e 2 é menor do que 4<br>\n",
    "b) 1387 é divisível por 19<br>\n",
    "c) A soma de 2, 4 e 16 é maior do que 20<br>\n",
    "d) 31 é par<br>\n",
    "e) O menor preço entre 20.50, 2.10, 1.95 e 1.99 é menor do que 2<br>"
   ]
  },
  {
   "cell_type": "code",
   "execution_count": null,
   "id": "unlimited-reservoir",
   "metadata": {},
   "outputs": [],
   "source": []
  },
  {
   "cell_type": "markdown",
   "id": "respective-somalia",
   "metadata": {},
   "source": [
    "### 3) Escreva códigos que correspondam às seguintes ações, e execute-as\n",
    "\n",
    "a) Atribua o valor inteiro 51 à uma variável x<br>\n",
    "b) Atribua o valor 3 a uma variável y<br>\n",
    "c) Atribua à variável c o valor da expressão ((x  + 1) / 2 / 2)"
   ]
  },
  {
   "cell_type": "code",
   "execution_count": null,
   "id": "strong-sheffield",
   "metadata": {},
   "outputs": [],
   "source": []
  },
  {
   "cell_type": "markdown",
   "id": "prescription-begin",
   "metadata": {},
   "source": [
    "### 4) Em qual ordem os operadores são executados nas expressões abaixo?\n",
    "\n",
    "a) `7 + 10 == 4 or x <= 7`<br>\n",
    "b) `lista[3] * -a < 10 == 0`<br>\n",
    "c) `2 * 3**2`<br>\n",
    "d) `10 / 2 in [2, 4, 6]`<br>\n"
   ]
  },
  {
   "cell_type": "code",
   "execution_count": null,
   "id": "visible-determination",
   "metadata": {},
   "outputs": [],
   "source": []
  },
  {
   "cell_type": "markdown",
   "id": "graduate-morrison",
   "metadata": {},
   "source": [
    "### 5) Qual o tipo do valor resultante das operações abaixo?\n",
    "\n",
    "a) `False + True`<br>\n",
    "b) `2 * 1**2`<br>\n",
    "c) `6/2`<br>\n",
    "d) `6//2 + 6%2`<br>\n",
    "e) `2 + 4 == 4 or 0 <= 1`<br>"
   ]
  },
  {
   "cell_type": "code",
   "execution_count": null,
   "id": "realistic-charles",
   "metadata": {},
   "outputs": [],
   "source": []
  },
  {
   "cell_type": "markdown",
   "id": "romance-residence",
   "metadata": {},
   "source": [
    "### 6) Impressão de 3 valores\n",
    "\n",
    "Permita que o usuário entre com 3 valores, convertendo-os para: inteiro, float e string, nessa ordem. A seguir, imprima na tela o resultado no seguinte formato:\n",
    "`<string>: <valor inteiro>, <valor float com 2 casas decimais>`\n",
    "\n",
    "Exemplo: se forem digitados os valores 10, 2.052 e parafuso, deve ser exibido<br>\n",
    "`parafuso: 10, 2.05`"
   ]
  },
  {
   "cell_type": "code",
   "execution_count": null,
   "id": "designing-offer",
   "metadata": {},
   "outputs": [],
   "source": []
  },
  {
   "cell_type": "markdown",
   "id": "floral-collapse",
   "metadata": {},
   "source": [
    "### 7) Expressões iguais a zero\n",
    "\n",
    "Altere a ordem dos operadores e/ou force a precedência das operações para que o resultado das expressões abaixo sejam sempre iguais a zero:\n",
    "\n",
    "* `3 % 5 + 5 % 3`\n",
    "* `1 + 2 / 2 % 1`\n",
    "* `8 % 4 ** 2 / 2`\n",
    "* `3 * 2 % 2 / 3`\n",
    "* `int(1 + 0 % 22 / 11 + 2)`\n"
   ]
  },
  {
   "cell_type": "code",
   "execution_count": null,
   "id": "secondary-daniel",
   "metadata": {},
   "outputs": [],
   "source": []
  },
  {
   "cell_type": "markdown",
   "id": "color-aerospace",
   "metadata": {},
   "source": [
    "### 8) Expressões verdadeiras\n",
    "Faça o mesmo para as expressões abaixo para resultar em valores **True**\n",
    "\n",
    "* `5 >= 7 and 6 <= 7 or 2 == 4`\n",
    "* `10e02 == 10 and 10000 <= 10e02 or 10 >= 10e02 * 1`\n",
    "* `1 + 100 and 100 / 2 + 50 * 4 or 400`\n"
   ]
  },
  {
   "cell_type": "code",
   "execution_count": null,
   "id": "reduced-disposal",
   "metadata": {},
   "outputs": [],
   "source": []
  },
  {
   "cell_type": "markdown",
   "id": "spiritual-literacy",
   "metadata": {},
   "source": [
    "---\n",
    "\n",
    "## Condicionais\n",
    "\n",
    "### 9) Escreva as seguintes expressões condicionais usando `if`\n",
    "\n",
    "a) Se `gasolina` for menor do que 1/6, exibir 'Combustível na reserva'<br>\n",
    "b) Se `dano` for maior do que 10 e `armadura` for igual a 0, exibir 'Game Over'<br>\n",
    "c) Se ao menos uma das variáveis (do tipo `bool`) a seguir: `norte`, `sul`, `leste`, `oeste` for verdadeira, exibir 'É possível escapar'<br>\n",
    "d) Se `disciplina` estiver na lista `['Programação', 'Projeto', 'Geometria']` exibir 'Uma das 3 melhores disciplinas da graduação'<br>\n"
   ]
  },
  {
   "cell_type": "code",
   "execution_count": null,
   "id": "christian-interaction",
   "metadata": {},
   "outputs": [],
   "source": []
  },
  {
   "cell_type": "markdown",
   "id": "tough-strength",
   "metadata": {},
   "source": [
    "### 10) Implemente um programa que peça ao usuário para digitar um ano.\n",
    "\n",
    "A seguir, se o ano for divisível por 4, exiba na tela 'Pode ser um ano bissexto'; caso contrário exiba 'Definitivamente não é um ano bissexto'\n",
    "\n"
   ]
  },
  {
   "cell_type": "code",
   "execution_count": null,
   "id": "fifty-poverty",
   "metadata": {},
   "outputs": [],
   "source": []
  },
  {
   "cell_type": "markdown",
   "id": "sticky-syndication",
   "metadata": {},
   "source": [
    "### 11) Mínimo e máximo entre 3 números\n",
    "\n",
    "Implemente um programa que receba como entrada do usuário 3 valores e utilize condicionais `if`,  `elif` e `else` para exibir na tela qual dos números é o máximo e qual é o mínimo (não use `min()` e `max()`)"
   ]
  },
  {
   "cell_type": "code",
   "execution_count": null,
   "id": "funny-disco",
   "metadata": {},
   "outputs": [],
   "source": []
  },
  {
   "cell_type": "markdown",
   "id": "pediatric-oklahoma",
   "metadata": {},
   "source": [
    "### 12) IMC\n",
    "\n",
    "Faça um programa que pegue o nome, a idade, o peso (em kg) e a altura do usuário (em metros); calcule o IMC (Índice de Massa Corporal) utilizando a fórmula:\n",
    "<center> $ IMC = \\frac{Peso}{Altura^2} $ </center>\n",
    "\n",
    "E por fim, exiba uma mensagem no seguinte formato:\n",
    "```\n",
    "Nome: %s\n",
    "Idade: %d\n",
    "IMC: %.4f\n",
    "Resutado: %s\n",
    "```\n",
    "\n",
    "Onde, na ordem: `%s` é a string que representa o nome, `%d` o inteiro que representa a idade, `%f` o float que representa o IMC da pessoa em questão arredondado para 2 casas decimais. Finalmente o último `%s` depende do valor do ICMC. Exibir:\n",
    "* *'Magreza'*, quando o ICMC é menor que 18,5;\n",
    "* *'Normal'*, quando o ICMC é maior ou igual 18,5 e menor que 25,0;\n",
    "* *'Sobrepeso'*, quando o ICMC é maior ou igual a 25,0 e menor do que 30;\n",
    "* *'Obesidade'*, quando o ICMC é maior ou igual a 30."
   ]
  },
  {
   "cell_type": "code",
   "execution_count": null,
   "id": "cooperative-reservation",
   "metadata": {},
   "outputs": [],
   "source": []
  },
  {
   "cell_type": "markdown",
   "id": "confident-librarian",
   "metadata": {},
   "source": [
    "---\n",
    "\n",
    "## Strings\n",
    "\n",
    "### 13) Crie variáveis contendo as 3 strings a seguir: \n",
    "```\n",
    "s1='aaa'\n",
    "s2='uuu'\n",
    "s3='kkl'\n",
    "```\n",
    "\n",
    "Escreva exprssões usando as variáveis acima, e apenas os operadores `+` e `*` de forma a obter os seguintes resultados:\n",
    "\n",
    "a) `aaa uuukkl`<br>\n",
    "b) `kklkklkklkklkklaaa`<br>\n",
    "c) `aaa aaa aaa aaa aaa aaa uuuuuu`<br>\n",
    "d) `kkluuu!kkluuu!kkluuu!kkluuu!kkluuu!`<br>"
   ]
  },
  {
   "cell_type": "code",
   "execution_count": null,
   "id": "duplicate-italy",
   "metadata": {},
   "outputs": [],
   "source": []
  },
  {
   "cell_type": "markdown",
   "id": "premier-thursday",
   "metadata": {},
   "source": [
    "### 14) A partir da string abaixo\n",
    "```\n",
    "st='123456789'\n",
    "```\n",
    "\n",
    "Escreva expressões com base em `st` de forma a retornar:\n",
    "\n",
    "a) `1`<br>\n",
    "b) `5`<br>\n",
    "c) `6`<br>\n",
    "d) `9`<br>"
   ]
  },
  {
   "cell_type": "code",
   "execution_count": null,
   "id": "invalid-million",
   "metadata": {},
   "outputs": [],
   "source": []
  },
  {
   "cell_type": "markdown",
   "id": "hourly-discovery",
   "metadata": {},
   "source": [
    "### 15) A partir da string abaixo\n",
    "```\n",
    "st='123456789'\n",
    "```\n",
    "\n",
    "Escreva uma única expressão que retorne:\n",
    "\n",
    "a) `89`<br>\n",
    "b) `345`<br>\n",
    "c) `12`<br>\n",
    "d) `456789`<br>"
   ]
  },
  {
   "cell_type": "code",
   "execution_count": null,
   "id": "classified-ethiopia",
   "metadata": {},
   "outputs": [],
   "source": []
  },
  {
   "cell_type": "markdown",
   "id": "posted-philip",
   "metadata": {},
   "source": [
    "---\n",
    "\n",
    "## Listas"
   ]
  },
  {
   "cell_type": "markdown",
   "id": "failing-longer",
   "metadata": {},
   "source": [
    "### 16) Lista numérica\n",
    "\n",
    "Seja a lista\n",
    "`lst1 = [50.1, '0.1', 5, 'abc']`\n",
    "\n",
    "Converta todos os valores do tipo string para numérico. Caso não seja possível, exclua o valor."
   ]
  },
  {
   "cell_type": "code",
   "execution_count": 1,
   "id": "neither-trade",
   "metadata": {},
   "outputs": [
    {
     "name": "stdout",
     "output_type": "stream",
     "text": [
      "[50.1, 0.1, 5]\n"
     ]
    }
   ],
   "source": [
    "lst1 = [50.1, '0.1', 5, 'abc']\n",
    "lst1[1] = float(lst1[1])\n",
    "lst1.remove('abc')\n",
    "print(lst1)"
   ]
  },
  {
   "cell_type": "markdown",
   "id": "engaging-findings",
   "metadata": {},
   "source": [
    "### 17) Escreva uma expressão que seja capaz de retornar, em ordem alfabética, as duas primeiras e a última palavra da lista a seguir:\n",
    "```\n",
    "paises = ['Peru', 'Brasil', 'Uruguai', 'Chile', 'Colômbia', 'Argentina']\n",
    "```"
   ]
  },
  {
   "cell_type": "code",
   "execution_count": null,
   "id": "derived-vulnerability",
   "metadata": {},
   "outputs": [],
   "source": []
  },
  {
   "cell_type": "markdown",
   "id": "antique-pepper",
   "metadata": {},
   "source": [
    "### 18) Retornando o valor da lista:\n",
    "\n",
    "Seja a mesma lista com países:\n",
    "\n",
    "```\n",
    "paises = ['Peru', 'Brasil', 'Uruguai', 'Chile', 'Colômbia', 'Argentina']\n",
    "```\n",
    "\n",
    "Peça ao usuário um número e use esse número para retornar o país da respectiva posição na lista. Caso o usuário digite um índice fora dos limites da lista, exibir na tela 'índice do país não existe'\n"
   ]
  },
  {
   "cell_type": "code",
   "execution_count": null,
   "id": "subjective-manner",
   "metadata": {},
   "outputs": [],
   "source": []
  },
  {
   "cell_type": "markdown",
   "id": "complex-leadership",
   "metadata": {},
   "source": [
    "### 19) Dada uma lista de preços de produtos, abaixo:\n",
    "```\n",
    "precos = [10.90, 1.99, 1.99, 5.99, 9.99, 30.0, 29.50, 1.99]\n",
    "```\n",
    "Escreva expressões que:\n",
    "\n",
    "a) Avalie e retorne o número de preços iguais a 1.99<br>\n",
    "b) Uma expressão que avalie o maior preço na lista<br>\n",
    "c) Uma expressão que retorne os preços do maior para o menor<br>\n",
    "d) Uma expressão que altere o último preço para 2.49<br>\n",
    "\n"
   ]
  },
  {
   "cell_type": "code",
   "execution_count": null,
   "id": "experimental-sound",
   "metadata": {},
   "outputs": [],
   "source": []
  },
  {
   "cell_type": "markdown",
   "id": "interior-beast",
   "metadata": {},
   "source": [
    "\n",
    "### 20) Dada uma lista de preços de produtos, abaixo:\n",
    "```\n",
    "precos = [10.90, 1.99, 1.99, 5.99, 9.99, 30.0, 29.50, 1.99]\n",
    "```\n",
    "Verifique se um determinado preço, informado pelo usuário, está contido na lista."
   ]
  },
  {
   "cell_type": "code",
   "execution_count": null,
   "id": "acute-painting",
   "metadata": {},
   "outputs": [],
   "source": []
  }
 ],
 "metadata": {
  "kernelspec": {
   "display_name": "Python 3",
   "language": "python",
   "name": "python3"
  },
  "language_info": {
   "codemirror_mode": {
    "name": "ipython",
    "version": 3
   },
   "file_extension": ".py",
   "mimetype": "text/x-python",
   "name": "python",
   "nbconvert_exporter": "python",
   "pygments_lexer": "ipython3",
   "version": "3.9.5"
  }
 },
 "nbformat": 4,
 "nbformat_minor": 5
}
