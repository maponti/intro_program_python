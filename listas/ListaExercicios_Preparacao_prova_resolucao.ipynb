{
 "cells": [
  {
   "cell_type": "markdown",
   "id": "hydraulic-labor",
   "metadata": {
    "id": "hydraulic-labor"
   },
   "source": [
    "<span style=\"color:green\">Introdução à Programação para Engenharias - scc0124</span>\n",
    "\n",
    "<span style=\"color:blue\">*Lista de Exercícios (1)*</span><br>\n",
    "\n",
    "*Moacir A. Ponti*<br>\n",
    "*ICMC/USP São Carlos*\n",
    "\n",
    "### <span style=\"color:darkred\">Resolução por Marina e Moacir</span>"
   ]
  },
  {
   "cell_type": "markdown",
   "id": "later-legislation",
   "metadata": {
    "id": "later-legislation"
   },
   "source": [
    "## Variáveis, tipos de dados, memória, entrada e saída de dados"
   ]
  },
  {
   "cell_type": "markdown",
   "id": "separate-enlargement",
   "metadata": {
    "id": "separate-enlargement"
   },
   "source": [
    "### 1) Escreva expressões aritméticas/algébricas que correspondam às seguintes declarações\n",
    "\n",
    "a) A soma dos 7 primeiros números inteiros<br>\n",
    "b) 3 elevado a 8a (oitava) potencia<br>\n",
    "c) a diferença absoluta entre a altura de Maíra (168 centímetros) e a altura de Janaína (173 centímetros)<br>\n",
    "d) o menor preço dentre os seguintes preços: 20.50, 2.10, 1.95 e 1.99 <br>"
   ]
  },
  {
   "cell_type": "code",
   "execution_count": 1,
   "id": "first-grade",
   "metadata": {
    "colab": {
     "base_uri": "https://localhost:8080/"
    },
    "id": "first-grade",
    "outputId": "c51ca9f1-9da1-41f8-f7ff-496e4e1d13be"
   },
   "outputs": [
    {
     "name": "stdout",
     "output_type": "stream",
     "text": [
      "a)\n",
      "Digite um número: 3 \n",
      "42.0\n",
      "\n",
      "b) 6561\n",
      "\n",
      "c) A diferença entre elas é de 5cm.\n",
      "\n",
      "d) 1.95\n"
     ]
    }
   ],
   "source": [
    "#a)\n",
    "print('a)')\n",
    "a1 = int(input('Digite um número: '))\n",
    "an = a1 + 6\n",
    "Sn = (7*(a1 + an)) / 2\n",
    "print(Sn)\n",
    "\n",
    "#b)\n",
    "print()\n",
    "x = 3**8\n",
    "print(f'b) {x}')\n",
    "\n",
    "#c)\n",
    "print()\n",
    "diferença = 173 - 168\n",
    "print(f'c) A diferença entre elas é de {diferença}cm.')\n",
    "\n",
    "#d)\n",
    "print()\n",
    "preços = [20.50, 2.10, 1.95, 1.99]\n",
    "menor = min(preços)\n",
    "print(f'd) {menor}')"
   ]
  },
  {
   "cell_type": "markdown",
   "id": "fitting-yahoo",
   "metadata": {
    "id": "fitting-yahoo"
   },
   "source": [
    "### 2) Traduza as seguintes frases em expressões booleanas (lógicas), e avalie-as\n",
    "\n",
    "a) A soma de 2 e 2 é menor do que 4<br>\n",
    "b) 1387 é divisível por 19<br>\n",
    "c) A soma de 2, 4 e 16 é maior do que 20<br>\n",
    "d) 31 é par<br>\n",
    "e) O menor preço entre 20.50, 2.10, 1.95 e 1.99 é menor do que 2<br>"
   ]
  },
  {
   "cell_type": "code",
   "execution_count": null,
   "id": "unlimited-reservoir",
   "metadata": {
    "colab": {
     "base_uri": "https://localhost:8080/"
    },
    "id": "unlimited-reservoir",
    "outputId": "e585170a-68d8-422c-dd4d-ef10135c722c"
   },
   "outputs": [
    {
     "name": "stdout",
     "output_type": "stream",
     "text": [
      "a) A expressão gera False por não condizer com o resultado. Seria True se fosse (2+2)=4\n",
      "b) 1397 não é divisível por 19\n",
      "c) gera True pois condiz o resultado da soma ser maior que 20\n",
      "d) 31 é impar\n",
      "e) 1.95 é menor que 2\n"
     ]
    }
   ],
   "source": [
    "#a)\n",
    "a = (2+2)<4\n",
    "print(f'a) A expressão gera {a} por não condizer com o resultado. Seria True se fosse (2+2)=4')\n",
    "\n",
    "#b)\n",
    "x = 1397\n",
    "y = 19\n",
    "if x % y == 0:\n",
    "  print(f'b) {x} é divisível por {y}') \n",
    "else:\n",
    "  print(f'b) {x} não é divisível por {y}') \n",
    "\n",
    "#c)\n",
    "s = 2 + 4 + 16\n",
    "conf = s > 20\n",
    "print(f'c) gera {conf} pois condiz o resultado da soma ser maior que 20')\n",
    "\n",
    "#d)\n",
    "n = 31\n",
    "d = 31 % 2\n",
    "if d == 0:\n",
    "  print(f'd) {n} par') \n",
    "else:\n",
    "  print(f'd) {n} é impar')\n",
    "\n",
    "#e)\n",
    "preços = [20.50, 2.10, 1.95, 1.99]\n",
    "menor = min(preços)\n",
    "if menor < 2:\n",
    "  print(f'e) {menor} é menor que 2')\n",
    "else:\n",
    "  print(f'e) {menor} é maior que 2')\n"
   ]
  },
  {
   "cell_type": "markdown",
   "id": "respective-somalia",
   "metadata": {
    "id": "respective-somalia"
   },
   "source": [
    "### 3) Escreva códigos que correspondam às seguintes ações, e execute-as\n",
    "\n",
    "a) Atribua o valor inteiro 51 à uma variável x<br>\n",
    "b) Atribua o valor 3 a uma variável y<br>\n",
    "c) Atribua à variável c o valor da expressão ((x  + 1) / 2 / 2)"
   ]
  },
  {
   "cell_type": "code",
   "execution_count": null,
   "id": "strong-sheffield",
   "metadata": {
    "colab": {
     "base_uri": "https://localhost:8080/"
    },
    "id": "strong-sheffield",
    "outputId": "515a53ca-6b22-4b2d-bfa8-cb9898161c9f"
   },
   "outputs": [
    {
     "name": "stdout",
     "output_type": "stream",
     "text": [
      "a) x = 51\n",
      "b) y = 3\n",
      "c) c = 13\n"
     ]
    }
   ],
   "source": [
    "#a)\n",
    "x = 51\n",
    "print(f'a) x = {x}')\n",
    "\n",
    "#b)\n",
    "y = 3\n",
    "print(f'b) y = {y}')\n",
    "\n",
    "#c)\n",
    "c = int((x + 1) / 2 / 2)\n",
    "print(f'c) c = {c}')\n"
   ]
  },
  {
   "cell_type": "markdown",
   "id": "prescription-begin",
   "metadata": {
    "id": "prescription-begin"
   },
   "source": [
    "### 4) Em qual ordem os operadores são executados nas expressões abaixo?\n",
    "\n",
    "a) `7 + 10 == 4 or x <= 7`<br>\n",
    "b) `lista[3] * -a < 10 == 0`<br>\n",
    "c) `2 * 3**2`<br>\n",
    "d) `10 / 2 in [2, 4, 6]`<br>\n"
   ]
  },
  {
   "cell_type": "code",
   "execution_count": 2,
   "id": "visible-determination",
   "metadata": {
    "colab": {
     "base_uri": "https://localhost:8080/"
    },
    "id": "visible-determination",
    "outputId": "d2842203-2c0e-46cb-e2c6-8b7e1d9e8157"
   },
   "outputs": [
    {
     "name": "stdout",
     "output_type": "stream",
     "text": [
      "a) da esquerda para a direita\n",
      "b) da esquerda para a direita\n",
      "c) potência e multiplicação (direita para esquerda)\n",
      "d) da esquerda para a direita\n"
     ]
    }
   ],
   "source": [
    "#a)\n",
    "#7 + 10 == 4 or x <= 7\n",
    "print('a) da esquerda para a direita')\n",
    "\n",
    "#b)\n",
    "#lista[3] * -a < 10 == 0\n",
    "print('b) da esquerda para a direita')\n",
    "\n",
    "#c)\n",
    "#2 * 3**2\n",
    "print('c) potência e multiplicação (direita para esquerda)')\n",
    "\n",
    "#d)\n",
    "#10 / 2 in [2, 4, 6]\n",
    "print('d) da esquerda para a direita')"
   ]
  },
  {
   "cell_type": "markdown",
   "id": "graduate-morrison",
   "metadata": {
    "id": "graduate-morrison"
   },
   "source": [
    "### 5) Qual o tipo do valor resultante das operações abaixo?\n",
    "\n",
    "a) `False + True`<br>\n",
    "b) `2 * 1**2`<br>\n",
    "c) `6/2`<br>\n",
    "d) `6//2 + 6%2`<br>\n",
    "e) `2 + 4 == 4 or 0 <= 1`<br>"
   ]
  },
  {
   "cell_type": "code",
   "execution_count": 5,
   "id": "realistic-charles",
   "metadata": {
    "colab": {
     "base_uri": "https://localhost:8080/"
    },
    "id": "realistic-charles",
    "outputId": "6866dd18-c9c9-4729-ba61-302da51a1c7f"
   },
   "outputs": [
    {
     "name": "stdout",
     "output_type": "stream",
     "text": [
      "a) 1 é <class 'int'>\n",
      "b) 2 é <class 'int'>\n",
      "c) 3.0 é <class 'float'>\n",
      "d) 3 é <class 'int'>\n",
      "e) True é <class 'bool'>\n"
     ]
    }
   ],
   "source": [
    "#a) \n",
    "a = False + True\n",
    "x = type(a)\n",
    "print(f'a) {a} é {x}')\n",
    "\n",
    "#b) \n",
    "b = 2 * 1**2\n",
    "x = type(b)\n",
    "print(f'b) {b} é {x}')\n",
    "\n",
    "#c) \n",
    "c = 6/2\n",
    "x = type(c)\n",
    "print(f'c) {c} é {x}')\n",
    "\n",
    "#d) \n",
    "d = 6//2 + 6%2\n",
    "x = type(d)\n",
    "print(f'd) {d} é {x}')\n",
    "\n",
    "#e) \n",
    "e = 2 + 4 == 4 or 0 <= 1\n",
    "x = type(e)\n",
    "print(f'e) {e} é {x}')"
   ]
  },
  {
   "cell_type": "markdown",
   "id": "romance-residence",
   "metadata": {
    "id": "romance-residence"
   },
   "source": [
    "### 6) Impressão de 3 valores\n",
    "\n",
    "Permita que o usuário entre com 3 valores, convertendo-os para: inteiro, float e string, nessa ordem. A seguir, imprima na tela o resultado no seguinte formato:\n",
    "`<string>: <valor inteiro>, <valor float com 2 casas decimais>`\n",
    "\n",
    "Exemplo: se forem digitados os valores 10, 2.052 e parafuso, deve ser exibido<br>\n",
    "`parafuso: 10, 2.05`"
   ]
  },
  {
   "cell_type": "code",
   "execution_count": null,
   "id": "designing-offer",
   "metadata": {
    "colab": {
     "base_uri": "https://localhost:8080/"
    },
    "id": "designing-offer",
    "outputId": "946f2ac1-83f3-4f3f-cf70-23b7730a6129"
   },
   "outputs": [
    {
     "name": "stdout",
     "output_type": "stream",
     "text": [
      "Boa tarde!\n",
      "digite um número: 4\n",
      "digite outro número: 6.777\n",
      "Digite uma palavra: 09\n",
      "09: 4, 6.78\n",
      "09: 4, 6.78\n"
     ]
    }
   ],
   "source": [
    "print('Boa tarde!')\n",
    "a = int(input('digite um número: '))\n",
    "b = float(input('digite outro número: '))\n",
    "c = str(input('Digite uma palavra: '))\n",
    "print('%s: %i, %.2f'%(c, a, b))\n",
    "print(f'{c}: {a}, {b:.2f}')"
   ]
  },
  {
   "cell_type": "markdown",
   "id": "floral-collapse",
   "metadata": {
    "id": "floral-collapse"
   },
   "source": [
    "### 7) Expressões iguais a zero\n",
    "\n",
    "Altere a ordem dos operadores e/ou force a precedência das operações para que o resultado das expressões abaixo sejam sempre iguais a zero:\n",
    "\n",
    "* `3 % 5 + 5 % 3`\n",
    "* `1 + 2 / 2 % 1`\n",
    "* `8 % 4 ** 2 / 2`\n",
    "* `3 * 2 % 2 / 3`\n",
    "* `int(1 + 0 % 22 / 11 + 2)`\n"
   ]
  },
  {
   "cell_type": "code",
   "execution_count": null,
   "id": "g6Pos8oP-FWq",
   "metadata": {
    "colab": {
     "base_uri": "https://localhost:8080/"
    },
    "id": "g6Pos8oP-FWq",
    "outputId": "8e2008e9-14f7-4b62-9e22-88f53b3a1787"
   },
   "outputs": [
    {
     "name": "stdout",
     "output_type": "stream",
     "text": [
      "a) 3 % 5 + 5 % 3\n",
      "3 % (5 + 5) % 3 = 0\n",
      "\n",
      "b) 1 + 2 / 2 % 1\n",
      "(1 + 2 / 2) % 1 = 0.0\n",
      "\n",
      "c) 8 % 4 ** 2 / 2\n",
      "8 % 4 ** 2 / 2 = 0.0\n",
      "\n",
      "d) int(1 + 0 % 22 / 11 + 2)\n",
      "int((1 + 0) % 22 / (11 + 2)) = 0\n"
     ]
    }
   ],
   "source": [
    "print('a) 3 % 5 + 5 % 3')\n",
    "a = 3 % (5 + 5) % 3\n",
    "print(f'3 % (5 + 5) % 3 = {a}')\n",
    "\n",
    "print('\\nb) 1 + 2 / 2 % 1')\n",
    "b = (1 + 2 / 2) % 1\n",
    "print(f'(1 + 2 / 2) % 1 = {b}')\n",
    "\n",
    "print('\\nc) 8 % 4 ** 2 / 2')\n",
    "c = (8 % 4) ** 2 / 2\n",
    "print(f'8 % 4 ** 2 / 2 = {c}')\n",
    "\n",
    "print('\\nd) int(1 + 0 % 22 / 11 + 2)')\n",
    "d = int((1 + 0) % 22 / (11 + 2))\n",
    "print(f'int((1 + 0) % 22 / (11 + 2)) = {d}')"
   ]
  },
  {
   "cell_type": "markdown",
   "id": "color-aerospace",
   "metadata": {
    "id": "color-aerospace"
   },
   "source": [
    "### 8) Expressões verdadeiras\n",
    "Faça o mesmo para as expressões abaixo para resultar em valores **True**\n",
    "\n",
    "* `5 >= 7 and 6 <= 7 or 2 == 4`\n",
    "* `10e02 == 10 and 10000 <= 10e02 or 10 >= 10e02 * 1`\n",
    "* `1 + 100 and 100 / 2 + 50 * 4 or 400`\n"
   ]
  },
  {
   "cell_type": "markdown",
   "id": "standing-dutch",
   "metadata": {},
   "source": [
    "*OBS: essa questão pode ter diferentes respostas, então abaixo apenas alguma das possíveis*"
   ]
  },
  {
   "cell_type": "code",
   "execution_count": 10,
   "id": "ExA2NvK57cpy",
   "metadata": {
    "id": "ExA2NvK57cpy"
   },
   "outputs": [
    {
     "data": {
      "text/plain": [
       "True"
      ]
     },
     "execution_count": 10,
     "metadata": {},
     "output_type": "execute_result"
    }
   ],
   "source": [
    "5 <= 7 and 6 <= 7 or 2 != 4"
   ]
  },
  {
   "cell_type": "code",
   "execution_count": 11,
   "id": "parental-multimedia",
   "metadata": {},
   "outputs": [
    {
     "data": {
      "text/plain": [
       "True"
      ]
     },
     "execution_count": 11,
     "metadata": {},
     "output_type": "execute_result"
    }
   ],
   "source": [
    "10e01 == 10 and 10000 >= 10e02 or 10 <= 10e02 * 1"
   ]
  },
  {
   "cell_type": "code",
   "execution_count": 17,
   "id": "published-values",
   "metadata": {},
   "outputs": [
    {
     "data": {
      "text/plain": [
       "True"
      ]
     },
     "execution_count": 17,
     "metadata": {},
     "output_type": "execute_result"
    }
   ],
   "source": [
    "bool(1 + 100 and 100 / 2 + 50 * 4 or 400)"
   ]
  },
  {
   "cell_type": "markdown",
   "id": "spiritual-literacy",
   "metadata": {
    "id": "spiritual-literacy"
   },
   "source": [
    "---\n",
    "\n",
    "## Condicionais\n",
    "\n",
    "### 9) Escreva as seguintes expressões condicionais usando `if`\n",
    "\n",
    "a) Se `gasolina` for menor do que 1/6, exibir 'Combustível na reserva'<br>\n",
    "b) Se `dano` for maior do que 10 e `armadura` for igual a 0, exibir 'Game Over'<br>\n",
    "c) Se ao menos uma das variáveis (do tipo `bool`) a seguir: `norte`, `sul`, `leste`, `oeste` for verdadeira, exibir 'É possível escapar'<br>\n",
    "d) Se `disciplina` estiver na lista `['Programação', 'Projeto', 'Geometria']` exibir 'Uma das 3 melhores disciplinas da graduação'<br>\n"
   ]
  },
  {
   "cell_type": "code",
   "execution_count": 19,
   "id": "_YGwSx-JfaVe",
   "metadata": {
    "id": "_YGwSx-JfaVe"
   },
   "outputs": [
    {
     "name": "stdout",
     "output_type": "stream",
     "text": [
      "combustivel na reserva\n"
     ]
    }
   ],
   "source": [
    "# a)\n",
    "gasolina = 0.1\n",
    "if gasolina < 1/6:\n",
    "    print('combustivel na reserva')"
   ]
  },
  {
   "cell_type": "code",
   "execution_count": 20,
   "id": "moved-volume",
   "metadata": {},
   "outputs": [
    {
     "name": "stdout",
     "output_type": "stream",
     "text": [
      "game over\n"
     ]
    }
   ],
   "source": [
    "# b)\n",
    "dano = 11\n",
    "armadura = 0\n",
    "if (dano > 10 and armadura == 0):\n",
    "    print('game over')"
   ]
  },
  {
   "cell_type": "code",
   "execution_count": 21,
   "id": "christian-interaction",
   "metadata": {
    "colab": {
     "base_uri": "https://localhost:8080/"
    },
    "id": "christian-interaction",
    "outputId": "2fcce95a-2086-4e6b-bcae-8eeb24e80bff"
   },
   "outputs": [
    {
     "name": "stdout",
     "output_type": "stream",
     "text": [
      "É possível escapar\n"
     ]
    }
   ],
   "source": [
    "# c)\n",
    "if \"Norte\" or \"Sul\" or \"leste\" or \"Oeste\":\n",
    "    print(\"É possível escapar\")"
   ]
  },
  {
   "cell_type": "code",
   "execution_count": 22,
   "id": "quarterly-chapter",
   "metadata": {},
   "outputs": [
    {
     "name": "stdout",
     "output_type": "stream",
     "text": [
      "Uma das 3 melhores disciplinas da graduação\n"
     ]
    }
   ],
   "source": [
    "# d)\n",
    "disciplina = 'Programação'\n",
    "if disciplina in ['Programação', 'Projeto', 'Geometria']:\n",
    "    print('Uma das 3 melhores disciplinas da graduação')"
   ]
  },
  {
   "cell_type": "markdown",
   "id": "tough-strength",
   "metadata": {
    "id": "tough-strength"
   },
   "source": [
    "### 10) Implemente um programa que peça ao usuário para digitar um ano.\n",
    "\n",
    "A seguir, se o ano for divisível por 4, exiba na tela 'Pode ser um ano bissexto'; caso contrário exiba 'Definitivamente não é um ano bissexto'\n",
    "\n"
   ]
  },
  {
   "cell_type": "code",
   "execution_count": 24,
   "id": "fifty-poverty",
   "metadata": {
    "id": "fifty-poverty"
   },
   "outputs": [
    {
     "name": "stdout",
     "output_type": "stream",
     "text": [
      "2013\n",
      "Definitivamente não é um ano bissexto\n"
     ]
    }
   ],
   "source": [
    "ano = int(input())\n",
    "if (ano % 4 == 0):\n",
    "    print('Pode ser um ano bissexto')\n",
    "else:\n",
    "    print('Definitivamente não é um ano bissexto')    "
   ]
  },
  {
   "cell_type": "markdown",
   "id": "sticky-syndication",
   "metadata": {
    "id": "sticky-syndication"
   },
   "source": [
    "### 11) Mínimo e máximo entre 3 números\n",
    "\n",
    "Implemente um programa que receba como entrada do usuário 3 valores e utilize condicionais `if`,  `elif` e `else` para exibir na tela qual dos números é o máximo e qual é o mínimo (não use `min()` e `max()`)"
   ]
  },
  {
   "cell_type": "code",
   "execution_count": 31,
   "id": "funny-disco",
   "metadata": {
    "id": "funny-disco"
   },
   "outputs": [
    {
     "name": "stdout",
     "output_type": "stream",
     "text": [
      "7\n",
      "777\n",
      "-7\n",
      "Menor =  -7.0\n",
      "Maior =  777.0\n"
     ]
    }
   ],
   "source": [
    "# OBS1: nao especifiquei o tipo do valor entao usei float aqui, mas int também estaria correto\n",
    "a = float(input())\n",
    "b = float(input())\n",
    "c = float(input())\n",
    "\n",
    "if (a >= b and a >= c):\n",
    "    maior = a\n",
    "    if (b >= c):\n",
    "        menor = c\n",
    "    else:\n",
    "        menor = b\n",
    "elif (b >= a and b >= c):\n",
    "    maior = b\n",
    "    if (a >= c):\n",
    "        menor = c\n",
    "    else:\n",
    "        menor = a\n",
    "elif (c >= a and c >= b):\n",
    "    maior = c\n",
    "    if (a >= b):\n",
    "        menor = b\n",
    "    else:\n",
    "        menor = a\n",
    "        \n",
    "print('Menor = ', menor)\n",
    "print('Maior = ', maior)"
   ]
  },
  {
   "cell_type": "markdown",
   "id": "pediatric-oklahoma",
   "metadata": {
    "id": "pediatric-oklahoma"
   },
   "source": [
    "### 12) IMC\n",
    "\n",
    "Faça um programa que pegue o nome, a idade, o peso (em kg) e a altura do usuário (em metros); calcule o IMC (Índice de Massa Corporal) utilizando a fórmula:\n",
    "<center> $ IMC = \\frac{Peso}{Altura^2} $ </center>\n",
    "\n",
    "E por fim, exiba uma mensagem no seguinte formato:\n",
    "```\n",
    "Nome: %s\n",
    "Idade: %d\n",
    "IMC: %.4f\n",
    "Resutado: %s\n",
    "```\n",
    "\n",
    "Onde, na ordem: `%s` é a string que representa o nome, `%d` o inteiro que representa a idade, `%f` o float que representa o IMC da pessoa em questão arredondado para 2 casas decimais. Finalmente o último `%s` depende do valor do ICMC. Exibir:\n",
    "* *'Magreza'*, quando o ICMC é menor que 18,5;\n",
    "* *'Normal'*, quando o ICMC é maior ou igual 18,5 e menor que 25,0;\n",
    "* *'Sobrepeso'*, quando o ICMC é maior ou igual a 25,0 e menor do que 30;\n",
    "* *'Obesidade'*, quando o ICMC é maior ou igual a 30."
   ]
  },
  {
   "cell_type": "code",
   "execution_count": 33,
   "id": "cooperative-reservation",
   "metadata": {
    "id": "cooperative-reservation"
   },
   "outputs": [
    {
     "name": "stdout",
     "output_type": "stream",
     "text": [
      "João\n",
      "25\n",
      "84\n",
      "1.78\n",
      "Nome: João\n",
      "Idade: 25\n",
      "IMC: 26.5118\n",
      "Resultado: Sobrepeso\n"
     ]
    }
   ],
   "source": [
    "nome = str(input()).rstrip()\n",
    "idade = int(input())\n",
    "peso = float(input())\n",
    "altura = float(input())\n",
    "\n",
    "IMC = peso/(altura*altura)\n",
    "\n",
    "print(\"Nome: %s\" % (nome))\n",
    "print(\"Idade: %d\" % (idade))\n",
    "print(\"IMC: %.4f\" % (IMC))\n",
    "\n",
    "if (IMC < 18.5):\n",
    "    resultado = 'Magreza'\n",
    "elif (IMC < 25):\n",
    "    resultado = 'Normal'\n",
    "elif (IMC < 30):\n",
    "    resultado = 'Sobrepeso'\n",
    "else:\n",
    "    resultado = 'Obeso'\n",
    "    \n",
    "print(\"Resultado: %s\" % (resultado))"
   ]
  },
  {
   "cell_type": "markdown",
   "id": "confident-librarian",
   "metadata": {
    "id": "confident-librarian"
   },
   "source": [
    "---\n",
    "\n",
    "## Strings\n",
    "\n",
    "### 13) Crie variáveis contendo as 3 strings a seguir: \n",
    "```\n",
    "s1='aaa'\n",
    "s2='uuu'\n",
    "s3='kkl'\n",
    "```\n",
    "\n",
    "Escreva exprssões usando as variáveis acima, e apenas os operadores `+` e `*` de forma a obter os seguintes resultados:\n",
    "\n",
    "a) `aaa uuukkl`<br>\n",
    "b) `kklkklkklkklkklaaa`<br>\n",
    "c) `aaa aaa aaa aaa aaa aaa uuuuuu`<br>\n",
    "d) `kkluuu!kkluuu!kkluuu!kkluuu!kkluuu!`<br>"
   ]
  },
  {
   "cell_type": "code",
   "execution_count": 38,
   "id": "duplicate-italy",
   "metadata": {
    "colab": {
     "base_uri": "https://localhost:8080/"
    },
    "id": "duplicate-italy",
    "outputId": "331f37ae-13b4-421d-b55c-9b2aa60cc549"
   },
   "outputs": [
    {
     "name": "stdout",
     "output_type": "stream",
     "text": [
      "a) \n",
      "aaa uuukkl\n",
      "\n",
      "b) \n",
      "print(5*s3+s1), resulta:\n",
      "kklkklkklkklkklaaa\n",
      "\n",
      "c)\n",
      "aaa aaa aaa aaa aaa aaa uuuuuu\n",
      "\n",
      "d)\n",
      "kkluuu!kkluuu!kkluuu!kkluuu!kkluuu!\n"
     ]
    }
   ],
   "source": [
    "#a) \n",
    "s1='aaa'\n",
    "s2='uuu'\n",
    "s3='kkl'\n",
    "print('a) ')\n",
    "print(s1+' '+s2+s3)\n",
    "\n",
    "#b) \n",
    "print('\\nb) \\nprint(5*s3+s1), resulta:')\n",
    "print(5*s3+s1)\n",
    "\n",
    "#c) \n",
    "print('\\nc)')\n",
    "print(6*(s1+' ') + 2*s2)\n",
    "\n",
    "#d) \n",
    "print('\\nd)')\n",
    "print(5*(s3+s2+'!'))"
   ]
  },
  {
   "cell_type": "markdown",
   "id": "premier-thursday",
   "metadata": {
    "id": "premier-thursday"
   },
   "source": [
    "### 14) A partir da string abaixo\n",
    "```\n",
    "st='123456789'\n",
    "```\n",
    "\n",
    "Escreva expressões com base em `st` de forma a retornar:\n",
    "\n",
    "a) `1`<br>\n",
    "b) `5`<br>\n",
    "c) `6`<br>\n",
    "d) `9`<br>"
   ]
  },
  {
   "cell_type": "code",
   "execution_count": 39,
   "id": "invalid-million",
   "metadata": {
    "id": "invalid-million"
   },
   "outputs": [
    {
     "data": {
      "text/plain": [
       "'1'"
      ]
     },
     "execution_count": 39,
     "metadata": {},
     "output_type": "execute_result"
    }
   ],
   "source": [
    "st='123456789'\n",
    "st[0]"
   ]
  },
  {
   "cell_type": "code",
   "execution_count": 41,
   "id": "needed-denial",
   "metadata": {},
   "outputs": [
    {
     "data": {
      "text/plain": [
       "'5'"
      ]
     },
     "execution_count": 41,
     "metadata": {},
     "output_type": "execute_result"
    }
   ],
   "source": [
    "st[4]"
   ]
  },
  {
   "cell_type": "code",
   "execution_count": 42,
   "id": "engaging-procurement",
   "metadata": {},
   "outputs": [
    {
     "data": {
      "text/plain": [
       "'6'"
      ]
     },
     "execution_count": 42,
     "metadata": {},
     "output_type": "execute_result"
    }
   ],
   "source": [
    "st[5]"
   ]
  },
  {
   "cell_type": "code",
   "execution_count": 43,
   "id": "limited-colorado",
   "metadata": {},
   "outputs": [
    {
     "data": {
      "text/plain": [
       "'9'"
      ]
     },
     "execution_count": 43,
     "metadata": {},
     "output_type": "execute_result"
    }
   ],
   "source": [
    "st[8]"
   ]
  },
  {
   "cell_type": "markdown",
   "id": "hourly-discovery",
   "metadata": {
    "id": "hourly-discovery"
   },
   "source": [
    "### 15) A partir da string abaixo\n",
    "```\n",
    "st='123456789'\n",
    "```\n",
    "\n",
    "Escreva uma única expressão que retorne:\n",
    "\n",
    "a) `89`<br>\n",
    "b) `345`<br>\n",
    "c) `12`<br>\n",
    "d) `456789`<br>"
   ]
  },
  {
   "cell_type": "code",
   "execution_count": 44,
   "id": "classified-ethiopia",
   "metadata": {
    "id": "classified-ethiopia"
   },
   "outputs": [],
   "source": [
    "st='123456789'"
   ]
  },
  {
   "cell_type": "code",
   "execution_count": 46,
   "id": "damaged-recall",
   "metadata": {},
   "outputs": [
    {
     "data": {
      "text/plain": [
       "'89'"
      ]
     },
     "execution_count": 46,
     "metadata": {},
     "output_type": "execute_result"
    }
   ],
   "source": [
    "st[7:]"
   ]
  },
  {
   "cell_type": "code",
   "execution_count": 48,
   "id": "express-blend",
   "metadata": {},
   "outputs": [
    {
     "data": {
      "text/plain": [
       "'345'"
      ]
     },
     "execution_count": 48,
     "metadata": {},
     "output_type": "execute_result"
    }
   ],
   "source": [
    "st[2:5]"
   ]
  },
  {
   "cell_type": "code",
   "execution_count": 49,
   "id": "worldwide-tract",
   "metadata": {},
   "outputs": [
    {
     "data": {
      "text/plain": [
       "'12'"
      ]
     },
     "execution_count": 49,
     "metadata": {},
     "output_type": "execute_result"
    }
   ],
   "source": [
    "st[:2]"
   ]
  },
  {
   "cell_type": "code",
   "execution_count": 50,
   "id": "sapphire-curve",
   "metadata": {},
   "outputs": [
    {
     "data": {
      "text/plain": [
       "'456789'"
      ]
     },
     "execution_count": 50,
     "metadata": {},
     "output_type": "execute_result"
    }
   ],
   "source": [
    "st[3:]"
   ]
  },
  {
   "cell_type": "markdown",
   "id": "posted-philip",
   "metadata": {
    "id": "posted-philip"
   },
   "source": [
    "---\n",
    "\n",
    "## Listas"
   ]
  },
  {
   "cell_type": "markdown",
   "id": "failing-longer",
   "metadata": {
    "id": "failing-longer"
   },
   "source": [
    "### 16) Lista numérica\n",
    "\n",
    "Seja a lista\n",
    "`lst1 = [50.1, '0.1', 5, 'abc']`\n",
    "\n",
    "Converta todos os valores do tipo string para numérico. Caso não seja possível, exclua o valor."
   ]
  },
  {
   "cell_type": "code",
   "execution_count": 52,
   "id": "pT-6Hi-Rtjbp",
   "metadata": {
    "colab": {
     "base_uri": "https://localhost:8080/"
    },
    "id": "pT-6Hi-Rtjbp",
    "outputId": "7269b605-32c1-45bf-ea3a-03e8840fa076"
   },
   "outputs": [
    {
     "name": "stdout",
     "output_type": "stream",
     "text": [
      "[50.1, 0.1, 5]\n"
     ]
    }
   ],
   "source": [
    "lst1 = [50.1, '0.1', 5, 'abc']\n",
    "lst1[1] = float(lst1[1])\n",
    "lst1.remove('abc')\n",
    "print(lst1)"
   ]
  },
  {
   "cell_type": "code",
   "execution_count": 56,
   "id": "upset-abuse",
   "metadata": {},
   "outputs": [
    {
     "name": "stdout",
     "output_type": "stream",
     "text": [
      "[50.1, 0.1, 5]\n"
     ]
    }
   ],
   "source": [
    "### BONUS: para quem quer saber como deixr isso mais genérico :)\n",
    "### Solução da Marina\n",
    "lst1 = [50.1, '0.1', 5, 'abc']\n",
    "for i in range(len(lst1)):\n",
    "    if type(lst1[i]) == str:\n",
    "        try:\n",
    "            lst1[i] = float(lst1[i])\n",
    "        except:\n",
    "            lst1.pop(i)\n",
    "\n",
    "print(lst1)"
   ]
  },
  {
   "cell_type": "markdown",
   "id": "engaging-findings",
   "metadata": {
    "id": "engaging-findings"
   },
   "source": [
    "### 17) Escreva uma expressão que seja capaz de retornar, em ordem alfabética, as duas primeiras e a última palavra da lista a seguir:\n",
    "```\n",
    "paises = ['Peru', 'Brasil', 'Uruguai', 'Chile', 'Colômbia', 'Argentina']\n",
    "```"
   ]
  },
  {
   "cell_type": "code",
   "execution_count": 58,
   "id": "derived-vulnerability",
   "metadata": {
    "colab": {
     "base_uri": "https://localhost:8080/"
    },
    "id": "derived-vulnerability",
    "outputId": "d6ac554b-61df-460c-b984-fa75958336d3"
   },
   "outputs": [
    {
     "name": "stdout",
     "output_type": "stream",
     "text": [
      "['Argentina', 'Brasil', 'Peru']\n"
     ]
    }
   ],
   "source": [
    "paises = ['Peru', 'Brasil', 'Uruguai', 'Chile', 'Colômbia', 'Argentina']\n",
    "lista = (paises[:2] + paises[-1:]).sort()\n",
    "print(lista_ordem)"
   ]
  },
  {
   "cell_type": "markdown",
   "id": "antique-pepper",
   "metadata": {
    "id": "antique-pepper"
   },
   "source": [
    "### 18) Retornando o valor da lista:\n",
    "\n",
    "Seja a mesma lista com países:\n",
    "\n",
    "```\n",
    "paises = ['Peru', 'Brasil', 'Uruguai', 'Chile', 'Colômbia', 'Argentina']\n",
    "```\n",
    "\n",
    "Peça ao usuário um número e use esse número para retornar o país da respectiva posição na lista. Caso o usuário digite um índice fora dos limites da lista, exibir na tela 'índice do país não existe'\n"
   ]
  },
  {
   "cell_type": "code",
   "execution_count": 61,
   "id": "subjective-manner",
   "metadata": {
    "colab": {
     "base_uri": "https://localhost:8080/"
    },
    "id": "subjective-manner",
    "outputId": "48489d91-5bb7-4718-d047-4c6e3ffec7ca"
   },
   "outputs": [
    {
     "name": "stdout",
     "output_type": "stream",
     "text": [
      "digite uma posição: 6\n",
      "índice do país não existe\n"
     ]
    }
   ],
   "source": [
    "paises = ['Peru', 'Brasil', 'Uruguai', 'Chile', 'Colômbia', 'Argentina']\n",
    "pos = int(input('digite uma posição: '))\n",
    "if (pos <= 5 and pos >= 0):\n",
    "    print(paises[pos])\n",
    "else:\n",
    "    print('índice do país não existe')"
   ]
  },
  {
   "cell_type": "markdown",
   "id": "complex-leadership",
   "metadata": {
    "id": "complex-leadership"
   },
   "source": [
    "### 19) Dada uma lista de preços de produtos, abaixo:\n",
    "```\n",
    "precos = [10.90, 1.99, 1.99, 5.99, 9.99, 30.0, 29.50, 1.99]\n",
    "```\n",
    "Escreva expressões que:\n",
    "\n",
    "a) Avalie e retorne o número de preços iguais a 1.99<br>\n",
    "b) Uma expressão que avalie o maior preço na lista<br>\n",
    "c) Uma expressão que retorne os preços do maior para o menor<br>\n",
    "d) Uma expressão que altere o último preço para 2.49<br>\n",
    "\n"
   ]
  },
  {
   "cell_type": "code",
   "execution_count": 62,
   "id": "experimental-sound",
   "metadata": {
    "colab": {
     "base_uri": "https://localhost:8080/"
    },
    "id": "experimental-sound",
    "outputId": "d825e7ce-e0b0-49e0-fac0-20d8041006ce"
   },
   "outputs": [
    {
     "name": "stdout",
     "output_type": "stream",
     "text": [
      "a) 3\n",
      "b) 30.0\n",
      "c) [30.0, 29.5, 10.9, 9.99, 5.99, 1.99, 1.99, 1.99]\n",
      "d) [10.9, 1.99, 1.99, 5.99, 9.99, 30.0, 29.5, 2.29]\n"
     ]
    }
   ],
   "source": [
    "precos = [10.90, 1.99, 1.99, 5.99, 9.99, 30.0, 29.50, 1.99]\n",
    "#a)\n",
    "n = precos.count(1.99)\n",
    "print(f'a) {n}')\n",
    "\n",
    "#b)\n",
    "maior = max(precos)\n",
    "print(f'b) {maior}')\n",
    "\n",
    "#c)\n",
    "precos.sort(reverse=True)\n",
    "print(f'c) {precos}')\n",
    "\n",
    "#d)\n",
    "precos = [10.90, 1.99, 1.99, 5.99, 9.99, 30.0, 29.50, 1.99]\n",
    "precos[-1] = (2.29)\n",
    "print(f'd) {precos}')"
   ]
  },
  {
   "cell_type": "markdown",
   "id": "interior-beast",
   "metadata": {
    "id": "interior-beast"
   },
   "source": [
    "\n",
    "### 20) Dada uma lista de preços de produtos, abaixo:\n",
    "```\n",
    "precos = [10.90, 1.99, 1.99, 5.99, 9.99, 30.0, 29.50, 1.99]\n",
    "```\n",
    "Verifique se um determinado preço, informado pelo usuário, está contido na lista."
   ]
  },
  {
   "cell_type": "code",
   "execution_count": 63,
   "id": "6YDrN4Oh7ZC7",
   "metadata": {
    "colab": {
     "base_uri": "https://localhost:8080/"
    },
    "id": "6YDrN4Oh7ZC7",
    "outputId": "eacb1675-159f-471e-9182-0e11b49d451f"
   },
   "outputs": [
    {
     "name": "stdout",
     "output_type": "stream",
     "text": [
      "qual o preço? 1.99\n",
      "valor contido na lista\n"
     ]
    }
   ],
   "source": [
    "preco = float(input(\"qual o preço? \"))\n",
    "precos = [10.90, 1.99, 1.99, 5.99, 9.99, 30.0, 29.50, 1.99]\n",
    "if (preco in precos):\n",
    "    print (\"valor contido na lista\")\n",
    "elif (preco not in precos):\n",
    "    print (\"valor não contido na lista\")\n"
   ]
  }
 ],
 "metadata": {
  "colab": {
   "collapsed_sections": [],
   "name": "ListaExercícios_1_Preparacao_prova_resolução_incompleta.ipynb",
   "provenance": []
  },
  "kernelspec": {
   "display_name": "Python 3",
   "language": "python",
   "name": "python3"
  },
  "language_info": {
   "codemirror_mode": {
    "name": "ipython",
    "version": 3
   },
   "file_extension": ".py",
   "mimetype": "text/x-python",
   "name": "python",
   "nbconvert_exporter": "python",
   "pygments_lexer": "ipython3",
   "version": "3.9.5"
  }
 },
 "nbformat": 4,
 "nbformat_minor": 5
}
