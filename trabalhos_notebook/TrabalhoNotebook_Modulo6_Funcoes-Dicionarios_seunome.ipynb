{
 "cells": [
  {
   "cell_type": "markdown",
   "id": "hydraulic-labor",
   "metadata": {},
   "source": [
    "<span style=\"color:green\">Introdução à Programação para Engenharias - scc0124</span>\n",
    "\n",
    "<span style=\"color:blue\">*Trabalho Notebook - Módulo 6*</span><br>\n",
    "\n",
    "# Funções e Dicionários\n",
    "\n",
    "*Moacir A. Ponti*<br>\n",
    "*ICMC/USP São Carlos*"
   ]
  },
  {
   "cell_type": "markdown",
   "id": "later-legislation",
   "metadata": {},
   "source": [
    "# Parte 1 - Álbum\n",
    "\n",
    "Crie um dicionário contendo informações sobre um álbum (contendo músicas de um artista) contendo as seguintes chaves e respectivos valores:\n",
    "* title\n",
    "* artist\n",
    "* genre (lista contendo um ou mais gêneros)\n",
    "* release year (número inteiro)\n",
    "* producer (lista contendo os nomes de um ou mais produtores musicais)\n",
    "* songs (lista de tuplas com as músicas: ao menos 5 desse álbum)\n",
    "    * tuplas contendo título (str) e duração (float) das músicas\n",
    "* favorite (índice da sua música favorita na lista de músicas)    \n"
   ]
  },
  {
   "cell_type": "code",
   "execution_count": null,
   "id": "a04aa565",
   "metadata": {},
   "outputs": [],
   "source": []
  },
  {
   "cell_type": "markdown",
   "id": "10ae80d8",
   "metadata": {},
   "source": [
    "# Parte 2 - Funções\n",
    "\n",
    "Crie funções que operem sobre um dicionário de álbum conforme definido anteriormente. Após criar cada função utilize-a duas vezes para demonstrar seu funcionamento.\n",
    "\n",
    "Todas as funções recebem como argumento o dicionário e:\n",
    "\n",
    "1. Crie e retorne uma tupla contendo o nome do álbum, nome do artista e a duração da canção de maior duração\n",
    "2. Calcule e retorne a duração total do álbum\n"
   ]
  },
  {
   "cell_type": "code",
   "execution_count": null,
   "id": "728a9895",
   "metadata": {},
   "outputs": [],
   "source": []
  },
  {
   "cell_type": "markdown",
   "id": "separate-enlargement",
   "metadata": {},
   "source": [
    "# Parte 3 - Adivinhando a canção favorita \n",
    "\n",
    "Codifique um trecho de código que permita ao usuário tentar adivinhar qual é canção favorita selecionada nesse álbum.\n",
    "\n",
    "Comece exibindo uma lista das canções, um título em cada linha, e exibindo ainda o índice (posição) da canção junto ao seu título.\n",
    "\n",
    "Peça ao usuário que digite o nome de uma canção que ele acha ser a favorita.\n",
    "\n",
    "Caso o usuário acerte, exiba na tela \"Sucesso\". Caso contrário permita ao usuário mais 2 chances. Depois das 3 tentativas, encerrar exibindo \"Você precisa me conhecer melhor\"\n",
    "\n",
    "Você pode criar funções para auxiliar na criação desse programa, porém tente evitar realizar entrada (input) e saída (print) dentro das funções criadas"
   ]
  },
  {
   "cell_type": "code",
   "execution_count": null,
   "id": "first-grade",
   "metadata": {},
   "outputs": [],
   "source": []
  }
 ],
 "metadata": {
  "kernelspec": {
   "display_name": "Python 3",
   "language": "python",
   "name": "python3"
  },
  "language_info": {
   "codemirror_mode": {
    "name": "ipython",
    "version": 3
   },
   "file_extension": ".py",
   "mimetype": "text/x-python",
   "name": "python",
   "nbconvert_exporter": "python",
   "pygments_lexer": "ipython3",
   "version": "3.9.5"
  }
 },
 "nbformat": 4,
 "nbformat_minor": 5
}
