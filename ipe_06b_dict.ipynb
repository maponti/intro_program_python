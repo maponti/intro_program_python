{
 "cells": [
  {
   "cell_type": "markdown",
   "metadata": {},
   "source": [
    "<span style=\"color:green\">Introdução à Programação para Engenharias - scc0124</span>\n",
    "\n",
    "<span style=\"color:blue\">*Dicionários*</span><br>\n",
    "\n",
    "*Moacir A. Ponti*<br>\n",
    "*ICMC/USP São Carlos*"
   ]
  },
  {
   "cell_type": "markdown",
   "metadata": {},
   "source": [
    "## Dicionários\n",
    "\n",
    "Estruturas de dados que guardam um mapeamento entre **chaves** e **valores**\n",
    "\n",
    "- **Chaves**: inteiros, strings ou tuplas (tipos *imutáveis*), faze o papel de um \"índice\"\n",
    "- **Valores**: qualquer tipo\n",
    "\n",
    "É possível definir, modificar, visualizar e apagar os pares chave-valor de um dicionário\n",
    "\n",
    "Sintaxe para um dicionário com `n` elementos:\n",
    "```python\n",
    "{<chave 1>:<valor 1>, <chave 2>:<valor 2>, ..., <chave n>:<valor n>}\n",
    "```"
   ]
  },
  {
   "cell_type": "markdown",
   "metadata": {},
   "source": [
    "---\n",
    "\n",
    "Suponha que queiramos armazenar e gerenciar dados de pessoas em uma organização, como por exemplo uma universidade que possui entre alunos, ex-alunos, professores e funcionários, mais de 1 milhão de pessoas.\n",
    "\n",
    "Idealmente seria interessante acessar os registros de cada um desses utilizando apenas um identificador.\n",
    "\n",
    "Exemplos:\n",
    "* identificador numérico inteiro: número USP, CPF;\n",
    "* combinação letras e números: passaporte brasileiro, placas de carro.\n",
    "\n",
    "<u>Caso de informações de veículos</u>: *placa*, *tipo*, *modelo*, *ano*, e *cor*\n",
    "* gostaríamos de recuperar essas informações por meio da *placa*\n",
    "\n",
    "Uso de lista:\n",
    "* índices são a ordem da posição,\n",
    "\n",
    "Assim um **dicionário** é ideal para usar índices personalizados"
   ]
  },
  {
   "cell_type": "code",
   "execution_count": 7,
   "metadata": {},
   "outputs": [],
   "source": [
    "veic = {\n",
    "    'AAA0A00': ['Carro', 'Fusca', 1978, 'Azul'],\n",
    "    'BBB1B11': ['Carro', 'Voyage', 1985, 'Branco'],\n",
    "    'CCC2C22': ['Carro', 'Del-rey', 1984, 'Dourado'],\n",
    "    'DDD3D33': ['Moto', 'CB', 1998, 'Vermelha']\n",
    "}"
   ]
  },
  {
   "cell_type": "markdown",
   "metadata": {},
   "source": [
    "Abaixo vamos tentar acessar um dos valores.\n",
    "\n",
    "Note que com dicionários não é possível acessar pelo índice numérico"
   ]
  },
  {
   "cell_type": "code",
   "execution_count": 8,
   "metadata": {},
   "outputs": [
    {
     "data": {
      "text/plain": [
       "['Carro', 'Del-rey', 1984, 'Dourado']"
      ]
     },
     "execution_count": 8,
     "metadata": {},
     "output_type": "execute_result"
    }
   ],
   "source": [
    "veic['CCC2C22']"
   ]
  },
  {
   "cell_type": "code",
   "execution_count": 9,
   "metadata": {},
   "outputs": [
    {
     "ename": "KeyError",
     "evalue": "2",
     "output_type": "error",
     "traceback": [
      "\u001b[0;31m---------------------------------------------------------------------------\u001b[0m",
      "\u001b[0;31mKeyError\u001b[0m                                  Traceback (most recent call last)",
      "\u001b[0;32m<ipython-input-9-a55dcb6f3fad>\u001b[0m in \u001b[0;36m<module>\u001b[0;34m\u001b[0m\n\u001b[0;32m----> 1\u001b[0;31m \u001b[0mveic\u001b[0m\u001b[0;34m[\u001b[0m\u001b[0;36m2\u001b[0m\u001b[0;34m]\u001b[0m\u001b[0;34m\u001b[0m\u001b[0;34m\u001b[0m\u001b[0m\n\u001b[0m",
      "\u001b[0;31mKeyError\u001b[0m: 2"
     ]
    }
   ],
   "source": [
    "veic[2]"
   ]
  },
  {
   "cell_type": "markdown",
   "metadata": {},
   "source": [
    "---\n",
    "\n",
    "Dicionários são **mutáveis** como listas,\n",
    "\n",
    "\n",
    "#### Adicionar novo par (chave, valor)\n",
    "\n",
    "É possível por atribuição"
   ]
  },
  {
   "cell_type": "code",
   "execution_count": 10,
   "metadata": {},
   "outputs": [
    {
     "ename": "KeyError",
     "evalue": "'EEE4E44'",
     "output_type": "error",
     "traceback": [
      "\u001b[0;31m---------------------------------------------------------------------------\u001b[0m",
      "\u001b[0;31mKeyError\u001b[0m                                  Traceback (most recent call last)",
      "\u001b[0;32m<ipython-input-10-a5c9a129241c>\u001b[0m in \u001b[0;36m<module>\u001b[0;34m\u001b[0m\n\u001b[0;32m----> 1\u001b[0;31m \u001b[0mveic\u001b[0m\u001b[0;34m[\u001b[0m\u001b[0;34m'EEE4E44'\u001b[0m\u001b[0;34m]\u001b[0m\u001b[0;34m\u001b[0m\u001b[0;34m\u001b[0m\u001b[0m\n\u001b[0m",
      "\u001b[0;31mKeyError\u001b[0m: 'EEE4E44'"
     ]
    }
   ],
   "source": [
    "veic['EEE4E44']"
   ]
  },
  {
   "cell_type": "markdown",
   "metadata": {},
   "source": [
    "Cria um par:\n",
    "`veic['EEE4E44']:['Moto', 'Factor', 2001, 'Preta']`"
   ]
  },
  {
   "cell_type": "code",
   "execution_count": 11,
   "metadata": {},
   "outputs": [],
   "source": [
    "veic['EEE4E44'] = ['Moto', 'Factor', 2001, 'Preta']"
   ]
  },
  {
   "cell_type": "code",
   "execution_count": 12,
   "metadata": {
    "scrolled": true
   },
   "outputs": [
    {
     "data": {
      "text/plain": [
       "{'AAA0A00': ['Carro', 'Fusca', 1978, 'Azul'],\n",
       " 'BBB1B11': ['Carro', 'Voyage', 1985, 'Branco'],\n",
       " 'CCC2C22': ['Carro', 'Del-rey', 1984, 'Dourado'],\n",
       " 'DDD3D33': ['Moto', 'CB', 1998, 'Vermelha'],\n",
       " 'EEE4E44': ['Moto', 'Factor', 2001, 'Preta']}"
      ]
     },
     "execution_count": 12,
     "metadata": {},
     "output_type": "execute_result"
    }
   ],
   "source": [
    "veic"
   ]
  },
  {
   "cell_type": "markdown",
   "metadata": {},
   "source": [
    "#### Modificar valor\n",
    "\n",
    "Por atribuição"
   ]
  },
  {
   "cell_type": "code",
   "execution_count": 13,
   "metadata": {},
   "outputs": [
    {
     "name": "stdout",
     "output_type": "stream",
     "text": [
      "['Moto', 'Factor', 2001, 'Branca']\n"
     ]
    }
   ],
   "source": [
    "veic['EEE4E44'] = ['Moto', 'Factor', 2001, 'Branca']\n",
    "print(veic['EEE4E44'])"
   ]
  },
  {
   "cell_type": "markdown",
   "metadata": {},
   "source": [
    "####  Dicionário vazio"
   ]
  },
  {
   "cell_type": "code",
   "execution_count": 14,
   "metadata": {},
   "outputs": [
    {
     "name": "stdout",
     "output_type": "stream",
     "text": [
      "{}\n"
     ]
    }
   ],
   "source": [
    "novo_dic = {}\n",
    "print(novo_dic)"
   ]
  },
  {
   "cell_type": "code",
   "execution_count": 15,
   "metadata": {},
   "outputs": [],
   "source": [
    "novo_dic['GB1123'] = (120381230182, 'Alan Turing', 2021)"
   ]
  },
  {
   "cell_type": "code",
   "execution_count": 16,
   "metadata": {},
   "outputs": [
    {
     "name": "stdout",
     "output_type": "stream",
     "text": [
      "{'GB1123': (120381230182, 'Alan Turing', 2021)}\n"
     ]
    }
   ],
   "source": [
    "print(novo_dic)"
   ]
  },
  {
   "cell_type": "markdown",
   "metadata": {},
   "source": [
    "---\n",
    "\n",
    "#### <font color=\"blue\">Exercício 6b.1 </font>\n",
    "\n",
    "Crie um dicionário para armazenar códigos de cor HTML como *valor*, e nomes das cores como *chaves*:\n",
    "\n",
    "|chave|valor|\n",
    "|---|---|\n",
    "|green|#008000|\n",
    "|lime|#00FF00|\n",
    "|aqua|#00FFFF|\n",
    "|navy|#F00080|\n",
    "|purple|#800080|\n",
    "\n",
    "Após criado, \n",
    "\n",
    "* inclua uma nova cor: silver com código #C0C0C0\n",
    "* modifique a cor: navy para o código #000080\n",
    "\n",
    "\n",
    "---\n"
   ]
  },
  {
   "cell_type": "markdown",
   "metadata": {},
   "source": [
    "### Dicionários aninhados\n",
    "\n",
    "Assim como sequências, dicionários são aninháveis.\n",
    "\n",
    "Poderíamos armazenar as informações dos veículos indexados pela placa de forma que, ao acessar a placa, encontramos outro dicionário contendo como chaves 'Tipo', 'Modelo', 'Ano' e 'Cor'."
   ]
  },
  {
   "cell_type": "code",
   "execution_count": 17,
   "metadata": {},
   "outputs": [],
   "source": [
    "veic = {\n",
    "    'AAA0A00': { 'Tipo':'Carro',\n",
    "                 'Modelo':'Fusca',\n",
    "                 'Ano':1978,\n",
    "                 'Cor':'Azul' },\n",
    "    \n",
    "    'BBB1B11': { 'Tipo':'Carro',\n",
    "                 'Modelo':'Voyage',\n",
    "                 'Ano':1985,\n",
    "                 'Cor':'Branco' },\n",
    "    \n",
    "    'CCC2C22': { 'Tipo':'Carro',\n",
    "                 'Modelo':'Del-rey',\n",
    "                 'Ano':1984,\n",
    "                 'Cor':'Dourado' },\n",
    "    \n",
    "    'DDD3D33': { 'Tipo':'Moto',\n",
    "                 'Modelo':'CB',\n",
    "                 'Ano':1998,\n",
    "                 'Cor':'Vermelha' }\n",
    "}"
   ]
  },
  {
   "cell_type": "markdown",
   "metadata": {},
   "source": [
    "Ao acessar a placa, vamos encontrar outro dicionário"
   ]
  },
  {
   "cell_type": "code",
   "execution_count": 18,
   "metadata": {},
   "outputs": [
    {
     "name": "stdout",
     "output_type": "stream",
     "text": [
      "{'Tipo': 'Moto', 'Modelo': 'CB', 'Ano': 1998, 'Cor': 'Vermelha'}\n"
     ]
    }
   ],
   "source": [
    "print(veic['DDD3D33'])"
   ]
  },
  {
   "cell_type": "markdown",
   "metadata": {},
   "source": [
    "Precisamos então indexar a placa e a seguir especificar o que gostaríamos de recuperar"
   ]
  },
  {
   "cell_type": "code",
   "execution_count": 19,
   "metadata": {},
   "outputs": [
    {
     "data": {
      "text/plain": [
       "'CB'"
      ]
     },
     "execution_count": 19,
     "metadata": {},
     "output_type": "execute_result"
    }
   ],
   "source": [
    "veic['DDD3D33']['Modelo']"
   ]
  },
  {
   "cell_type": "code",
   "execution_count": 20,
   "metadata": {},
   "outputs": [
    {
     "data": {
      "text/plain": [
       "'Fusca'"
      ]
     },
     "execution_count": 20,
     "metadata": {},
     "output_type": "execute_result"
    }
   ],
   "source": [
    "veic['AAA0A00']['Modelo']"
   ]
  },
  {
   "cell_type": "markdown",
   "metadata": {},
   "source": [
    "---\n",
    "\n",
    "#### <font color=\"blue\">Exercício 6b.2 </font>\n",
    "\n",
    "Crie o dicionário abaixo e acesse a nota de progamação do estudante, de forma que o resultado impresso na tela seja `8.5`\n",
    "\n",
    "```python\n",
    "sampleDict = { \n",
    "   \"turma\":{ \n",
    "      \"estudante\":{ \n",
    "         \"nome\":\"João\",\n",
    "         \"notas\":{ \n",
    "            \"física\":7.0,\n",
    "            \"programação\":8.5\n",
    "         }\n",
    "      }\n",
    "   }\n",
    "}\n",
    "```\n",
    "\n"
   ]
  },
  {
   "cell_type": "markdown",
   "metadata": {},
   "source": [
    "## Operadores de dicionários"
   ]
  },
  {
   "cell_type": "code",
   "execution_count": 45,
   "metadata": {},
   "outputs": [],
   "source": [
    "veic = {\n",
    "    'AAA0A00': ['Carro', 'Fusca', 1978, 'Azul'],\n",
    "    'BBB1B11': ['Carro', 'Voyage', 1985, 'Vermelha'],\n",
    "    'CCC2C22': ['Carro', 'Del-rey', 1984, 'Dourada'],\n",
    "    'DDD3D33': ['Moto', 'CB', 1998, 'Vermelha'],\n",
    "    'EEE4E44': ['Moto', 'Factor', 2001, 'Branca']\n",
    "}"
   ]
  },
  {
   "cell_type": "markdown",
   "metadata": {},
   "source": [
    "#### `len` retorna a quantidade de pares chave,valor"
   ]
  },
  {
   "cell_type": "code",
   "execution_count": 22,
   "metadata": {},
   "outputs": [
    {
     "data": {
      "text/plain": [
       "5"
      ]
     },
     "execution_count": 22,
     "metadata": {},
     "output_type": "execute_result"
    }
   ],
   "source": [
    "len(veic)"
   ]
  },
  {
   "cell_type": "markdown",
   "metadata": {},
   "source": [
    "#### `in` pode ser usado para verificar se um elemento é chave no dicionário"
   ]
  },
  {
   "cell_type": "code",
   "execution_count": 23,
   "metadata": {},
   "outputs": [
    {
     "data": {
      "text/plain": [
       "False"
      ]
     },
     "execution_count": 23,
     "metadata": {},
     "output_type": "execute_result"
    }
   ],
   "source": [
    "'FFF444F' in veic"
   ]
  },
  {
   "cell_type": "code",
   "execution_count": 24,
   "metadata": {},
   "outputs": [
    {
     "data": {
      "text/plain": [
       "True"
      ]
     },
     "execution_count": 24,
     "metadata": {},
     "output_type": "execute_result"
    }
   ],
   "source": [
    "'CCC2C22' in veic"
   ]
  },
  {
   "cell_type": "markdown",
   "metadata": {},
   "source": [
    "## Métodos de dicionários\n",
    "\n",
    "Listas e dicionários possuem vários operadores em comum, mas apenas *um* método em comum:\n",
    "\n",
    "* `pop(key)`: remove um par chave,valor com base na chave"
   ]
  },
  {
   "cell_type": "code",
   "execution_count": 25,
   "metadata": {},
   "outputs": [],
   "source": [
    "veiculo_removido = veic.pop('CCC2C22')"
   ]
  },
  {
   "cell_type": "code",
   "execution_count": 28,
   "metadata": {},
   "outputs": [
    {
     "name": "stdout",
     "output_type": "stream",
     "text": [
      "{'AAA0A00': ['Carro', 'Fusca', 1978, 'Azul'], 'BBB1B11': ['Carro', 'Voyage', 1985, 'Vermelha'], 'DDD3D33': ['Moto', 'CB', 1998, 'Vermelha'], 'EEE4E44': ['Moto', 'Factor', 2001, 'Branca']}\n",
      "\n",
      " Elemento removido:  ['Carro', 'Del-rey', 1984, 'Dourada']\n"
     ]
    }
   ],
   "source": [
    "print(veic)\n",
    "print('\\n Elemento removido: ', veiculo_removido)"
   ]
  },
  {
   "cell_type": "markdown",
   "metadata": {},
   "source": [
    "#### `keys()` retorna as chaves do dicionário\n",
    "\n",
    "Num formato que permite iterar pelas chaves, mas que *não* é uma lista"
   ]
  },
  {
   "cell_type": "code",
   "execution_count": 31,
   "metadata": {},
   "outputs": [
    {
     "name": "stdout",
     "output_type": "stream",
     "text": [
      "dict_keys(['AAA0A00', 'BBB1B11', 'DDD3D33', 'EEE4E44'])\n",
      "AAA0A00\n",
      "BBB1B11\n",
      "DDD3D33\n",
      "EEE4E44\n"
     ]
    }
   ],
   "source": [
    "print(veic.keys())\n",
    "for chave in veic.keys():\n",
    "    print(chave)"
   ]
  },
  {
   "cell_type": "markdown",
   "metadata": {},
   "source": [
    "#### `values()` e `items()` retornam os valores do dicionário\n",
    "\n",
    "* `values` retorna uma iterador para os valores apenas, sem as chaves\n",
    "* `items` retorna uma sequência com tuplas para cada par (chave, valor)"
   ]
  },
  {
   "cell_type": "code",
   "execution_count": 34,
   "metadata": {},
   "outputs": [
    {
     "name": "stdout",
     "output_type": "stream",
     "text": [
      "dict_values([['Carro', 'Fusca', 1978, 'Azul'], ['Carro', 'Voyage', 1985, 'Vermelha'], ['Moto', 'CB', 1998, 'Vermelha'], ['Moto', 'Factor', 2001, 'Branca']]) \n",
      "\n",
      "['Carro', 'Fusca', 1978, 'Azul']\n",
      "['Carro', 'Voyage', 1985, 'Vermelha']\n",
      "['Moto', 'CB', 1998, 'Vermelha']\n",
      "['Moto', 'Factor', 2001, 'Branca']\n"
     ]
    }
   ],
   "source": [
    "print(veic.values(), '\\n')\n",
    "for valor in veic.values():\n",
    "    print(valor)"
   ]
  },
  {
   "cell_type": "code",
   "execution_count": 39,
   "metadata": {
    "scrolled": true
   },
   "outputs": [
    {
     "name": "stdout",
     "output_type": "stream",
     "text": [
      "dict_items([('AAA0A00', ['Carro', 'Fusca', 1978, 'Azul']), ('BBB1B11', ['Carro', 'Voyage', 1985, 'Vermelha']), ('DDD3D33', ['Moto', 'CB', 1998, 'Vermelha']), ('EEE4E44', ['Moto', 'Factor', 2001, 'Branca'])]) \n",
      "\n",
      "('AAA0A00', ['Carro', 'Fusca', 1978, 'Azul'])\n",
      "('BBB1B11', ['Carro', 'Voyage', 1985, 'Vermelha'])\n",
      "('DDD3D33', ['Moto', 'CB', 1998, 'Vermelha'])\n",
      "('EEE4E44', ['Moto', 'Factor', 2001, 'Branca'])\n",
      "\n",
      "Chave: AAA0A00  Valor: ['Carro', 'Fusca', 1978, 'Azul']\n",
      "Chave: BBB1B11  Valor: ['Carro', 'Voyage', 1985, 'Vermelha']\n",
      "Chave: DDD3D33  Valor: ['Moto', 'CB', 1998, 'Vermelha']\n",
      "Chave: EEE4E44  Valor: ['Moto', 'Factor', 2001, 'Branca']\n"
     ]
    }
   ],
   "source": [
    "print(veic.items(), '\\n')\n",
    "\n",
    "for its in veic.items():\n",
    "    print(its)\n",
    "\n",
    "print()\n",
    "for its in veic.items():\n",
    "    print('Chave:', its[0], ' Valor:', its[1])"
   ]
  },
  {
   "cell_type": "markdown",
   "metadata": {},
   "source": [
    "#### `d.update(novo_dic)` insere os pares chave,valor de `novo_dic` em `d`"
   ]
  },
  {
   "cell_type": "code",
   "execution_count": 40,
   "metadata": {},
   "outputs": [
    {
     "name": "stdout",
     "output_type": "stream",
     "text": [
      "('AAA0A00', ['Carro', 'Fusca', 1978, 'Azul'])\n",
      "('BBB1B11', ['Carro', 'Voyage', 1985, 'Vermelha'])\n",
      "('DDD3D33', ['Moto', 'CB', 1998, 'Vermelha'])\n",
      "('EEE4E44', ['Moto', 'Factor', 2001, 'Branca'])\n"
     ]
    }
   ],
   "source": [
    "for el in veic.items():\n",
    "    print(el)"
   ]
  },
  {
   "cell_type": "code",
   "execution_count": 46,
   "metadata": {},
   "outputs": [],
   "source": [
    "novos_veic = {\n",
    "    'ZZZ0E00': ['Moto', 'Fazer', 2010, 'Vermelha'],\n",
    "    'DDE0E10': ['Carro', 'Corcel', 1978, 'Branca'],\n",
    "    'FFE0D10': ['Carro', 'Escort', 1989, 'Azul'],\n",
    "    'DDB1B11': ['Carro', 'Uno', 1990, 'Prata']\n",
    "}"
   ]
  },
  {
   "cell_type": "code",
   "execution_count": 47,
   "metadata": {},
   "outputs": [
    {
     "name": "stdout",
     "output_type": "stream",
     "text": [
      "('AAA0A00', ['Carro', 'Fusca', 1978, 'Azul'])\n",
      "('BBB1B11', ['Carro', 'Voyage', 1985, 'Vermelha'])\n",
      "('CCC2C22', ['Carro', 'Del-rey', 1984, 'Dourada'])\n",
      "('DDD3D33', ['Moto', 'CB', 1998, 'Vermelha'])\n",
      "('EEE4E44', ['Moto', 'Factor', 2001, 'Branca'])\n",
      "('ZZZ0E00', ['Moto', 'Fazer', 2010, 'Vermelha'])\n",
      "('DDE0E10', ['Carro', 'Corcel', 1978, 'Branca'])\n",
      "('FFE0D10', ['Carro', 'Escort', 1989, 'Azul'])\n",
      "('DDB1B11', ['Carro', 'Uno', 1990, 'Prata'])\n"
     ]
    }
   ],
   "source": [
    "veic.update(novos_veic)\n",
    "\n",
    "for el in veic.items():\n",
    "    print(el)"
   ]
  },
  {
   "cell_type": "markdown",
   "metadata": {},
   "source": [
    "---\n",
    "\n",
    "**Exemplo** de aplicação típica de dicionários: contadores de frequência de objetos\n",
    "\n",
    "*Contador de Cores dos veículos*:\n",
    "para cada veículo, \n",
    "* caso ainda não esteja no dicionário inicializamos o contador\n",
    "* se já estiver contamos mais um"
   ]
  },
  {
   "cell_type": "code",
   "execution_count": 62,
   "metadata": {},
   "outputs": [],
   "source": [
    "# contador de cores dos veículos\n",
    "# chave é a cor, valor é o número de ocorrências daquela cor\n",
    "def conta_cores(dic_veic):\n",
    "    freq_cores = {} # inicializa a contagem\n",
    "    \n",
    "    for val in veic.values():\n",
    "        cor = val[3]\n",
    "        if cor in freq_cores:\n",
    "            freq_cores[cor] = freq_cores[cor] + 1\n",
    "        else:\n",
    "            freq_cores[cor] = 1\n",
    "            \n",
    "    return freq_cores"
   ]
  },
  {
   "cell_type": "code",
   "execution_count": 68,
   "metadata": {},
   "outputs": [
    {
     "name": "stdout",
     "output_type": "stream",
     "text": [
      "{'Azul': 2, 'Vermelha': 3, 'Dourada': 1, 'Branca': 2, 'Prata': 1}\n"
     ]
    }
   ],
   "source": [
    "quantas_cores = conta_cores(veic)\n",
    "print(quantas_cores)"
   ]
  },
  {
   "cell_type": "markdown",
   "metadata": {},
   "source": [
    "---\n",
    "\n",
    "#### <font color=\"blue\">Exercício 6b.3 </font>\n",
    "\n",
    "Crie uma **função** `conta_palavras(texto)` que receba um texto (string) contendo palavras separadas por vírgulas apenas - considere que não há outras pontuações. Inicie criando uma lista de palavras e a seguir use um dicionário para contar a frequência de cada palavra no texto, retornando o dicionário obtido.\n",
    "\n",
    "*Dica: use a função `str.split()` para separar em substrings usando como delimitador um caracter especificado por argumento*\n",
    "\n",
    "Exemplo:\n",
    "\n",
    "```\n",
    "frase = \"ana,fábio,cristina,ana,fábio,ubiratã,ana\"\n",
    "freq = conta_palavras(frase)\n",
    "print(freq)\n",
    "```\n",
    "Deve gerar:\n",
    "```\n",
    "{'ana': 3, 'fábio': 2, 'cristina': 1, 'ubiratã': 1}\n",
    "```\n"
   ]
  },
  {
   "cell_type": "code",
   "execution_count": null,
   "metadata": {},
   "outputs": [],
   "source": []
  },
  {
   "cell_type": "markdown",
   "metadata": {},
   "source": [
    "---\n",
    "\n",
    "#### <font color=\"blue\">Exercício 6b.4 </font>\n",
    "\n",
    "Altere a sua função `conta_palavras(texto)` feita no exercício anterior para que permita espaços em branco e/ou vírgulas entre palavras. Considere que não há outras pontuações. \n",
    "\n",
    "Exemplo:\n",
    "\n",
    "```\n",
    "frase = \"ana fábio,cristina,ana, fábio, ubiratã, ana\"\n",
    "freq = conta_palavras(frase)\n",
    "print(freq)\n",
    "```\n",
    "Deve gerar:\n",
    "```\n",
    "{'ana': 3, 'fábio': 2, 'cristina': 1, 'ubiratã': 1}\n",
    "```\n"
   ]
  },
  {
   "cell_type": "code",
   "execution_count": null,
   "metadata": {},
   "outputs": [],
   "source": []
  }
 ],
 "metadata": {
  "kernelspec": {
   "display_name": "Python 3",
   "language": "python",
   "name": "python3"
  },
  "language_info": {
   "codemirror_mode": {
    "name": "ipython",
    "version": 3
   },
   "file_extension": ".py",
   "mimetype": "text/x-python",
   "name": "python",
   "nbconvert_exporter": "python",
   "pygments_lexer": "ipython3",
   "version": "3.9.5"
  },
  "toc": {
   "base_numbering": 1,
   "nav_menu": {},
   "number_sections": true,
   "sideBar": true,
   "skip_h1_title": false,
   "title_cell": "Table of Contents",
   "title_sidebar": "Contents",
   "toc_cell": false,
   "toc_position": {},
   "toc_section_display": true,
   "toc_window_display": false
  }
 },
 "nbformat": 4,
 "nbformat_minor": 2
}
