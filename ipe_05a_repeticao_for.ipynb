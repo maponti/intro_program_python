{
 "cells": [
  {
   "cell_type": "markdown",
   "metadata": {},
   "source": [
    "<span style=\"color:green\">Introdução à Programação para Engenharias - scc0124</span>\n",
    "\n",
    "<span style=\"color:blue\">*Estruturas de repetição ou de iteração: `for`*</span><br>\n",
    "\n",
    "*Moacir A. Ponti*<br>\n",
    "*ICMC/USP São Carlos*"
   ]
  },
  {
   "cell_type": "markdown",
   "metadata": {},
   "source": [
    "## Iterando por sequências\n",
    "\n",
    "Na aula anterior vimos tipos que permitem definir sequências de valores\n",
    "\n",
    "Uma tarefa bastante comum é realizar uma ação para cada elemento da sequência, inspecionando cada um dos valores.\n",
    "\n",
    "Por exemplo: um programa que, dada uma palavra, soletre cada uma das letras.\n",
    "\n",
    "```python\n",
    "Entre com uma palavra: excesso\n",
    "Soletrando:\n",
    "    e\n",
    "    x\n",
    "    c\n",
    "    e\n",
    "    s\n",
    "    s\n",
    "    o\n",
    "```\n",
    "\n",
    "Esse programa pede para o usuário entrar com uma palavra, o que já vimos"
   ]
  },
  {
   "cell_type": "code",
   "execution_count": 3,
   "metadata": {},
   "outputs": [
    {
     "name": "stdout",
     "output_type": "stream",
     "text": [
      "abraço\n"
     ]
    }
   ],
   "source": [
    "palavra = str(input()).rstrip()"
   ]
  },
  {
   "cell_type": "code",
   "execution_count": 4,
   "metadata": {},
   "outputs": [
    {
     "name": "stdout",
     "output_type": "stream",
     "text": [
      "a\n",
      "b\n",
      "r\n",
      "a\n",
      "ç\n",
      "o\n"
     ]
    },
    {
     "ename": "IndexError",
     "evalue": "string index out of range",
     "output_type": "error",
     "traceback": [
      "\u001b[0;31m---------------------------------------------------------------------------\u001b[0m",
      "\u001b[0;31mIndexError\u001b[0m                                Traceback (most recent call last)",
      "\u001b[0;32m<ipython-input-4-7e63f1a01985>\u001b[0m in \u001b[0;36m<module>\u001b[0;34m\u001b[0m\n\u001b[1;32m      5\u001b[0m \u001b[0mprint\u001b[0m\u001b[0;34m(\u001b[0m\u001b[0mpalavra\u001b[0m\u001b[0;34m[\u001b[0m\u001b[0;36m4\u001b[0m\u001b[0;34m]\u001b[0m\u001b[0;34m)\u001b[0m\u001b[0;34m\u001b[0m\u001b[0;34m\u001b[0m\u001b[0m\n\u001b[1;32m      6\u001b[0m \u001b[0mprint\u001b[0m\u001b[0;34m(\u001b[0m\u001b[0mpalavra\u001b[0m\u001b[0;34m[\u001b[0m\u001b[0;36m5\u001b[0m\u001b[0;34m]\u001b[0m\u001b[0;34m)\u001b[0m\u001b[0;34m\u001b[0m\u001b[0;34m\u001b[0m\u001b[0m\n\u001b[0;32m----> 7\u001b[0;31m \u001b[0mprint\u001b[0m\u001b[0;34m(\u001b[0m\u001b[0mpalavra\u001b[0m\u001b[0;34m[\u001b[0m\u001b[0;36m6\u001b[0m\u001b[0;34m]\u001b[0m\u001b[0;34m)\u001b[0m\u001b[0;34m\u001b[0m\u001b[0;34m\u001b[0m\u001b[0m\n\u001b[0m",
      "\u001b[0;31mIndexError\u001b[0m: string index out of range"
     ]
    }
   ],
   "source": [
    "print(palavra[0])\n",
    "print(palavra[1])\n",
    "print(palavra[2])\n",
    "print(palavra[3])\n",
    "print(palavra[4])\n",
    "print(palavra[5])\n",
    "print(palavra[6])"
   ]
  },
  {
   "cell_type": "markdown",
   "metadata": {},
   "source": [
    "Agora precisamos, **para cada** caracter da palavra, imprimí-lo na tela"
   ]
  },
  {
   "cell_type": "code",
   "execution_count": 11,
   "metadata": {},
   "outputs": [
    {
     "name": "stdout",
     "output_type": "stream",
     "text": [
      "vida\n",
      "v\n",
      "i\n",
      "d\n",
      "a\n"
     ]
    }
   ],
   "source": [
    "palavra = str(input()).rstrip()\n",
    "\n",
    "for caracter in palavra:\n",
    "    print(caracter)"
   ]
  },
  {
   "cell_type": "markdown",
   "metadata": {},
   "source": [
    "### laço `for`\n",
    "\n",
    "Estrutura de repetição ou iteração chamada de laço `for` (em inglês `for` loop)\n",
    "\n",
    "No exemplo acima o `for` é relativo às linhas 3 e 4:\n",
    "* linha 3: define `caracter` como uma variável\n",
    "    * `caracter` vai receber repetidamente elementos contidos em (`in`) `palavra`\n",
    "* linha 4: para cada atribuição podemos realizar ações\n",
    "    * nesse caso imprimimos o caracter\n",
    "    * note que o `print` está indentado! é obrigatório indentar para colocar comandos dentro do escopo do `for`\n",
    "\n",
    "\n",
    "Sintaxe:\n",
    "```\n",
    "for <variavel> in <sequencia>:\n",
    "    <bloco indentado>\n",
    "    ...\n",
    "    <ultimo comando indentado>\n",
    "    \n",
    "<comando não identado (fora do for)>\n",
    "```"
   ]
  },
  {
   "cell_type": "code",
   "execution_count": 12,
   "metadata": {
    "scrolled": true
   },
   "outputs": [
    {
     "name": "stdout",
     "output_type": "stream",
     "text": [
      "v\n",
      "-\n",
      "i\n",
      "-\n",
      "d\n",
      "-\n",
      "a\n",
      "-\n",
      "saiu do for\n"
     ]
    }
   ],
   "source": [
    "for caracter in palavra:\n",
    "    print(caracter)\n",
    "    print(\"-\")\n",
    "print(\"saiu do for\")"
   ]
  },
  {
   "cell_type": "markdown",
   "metadata": {},
   "source": [
    "Podemos usar o laço `for` para iterar por itens em qualquer sequência, como listas"
   ]
  },
  {
   "cell_type": "code",
   "execution_count": 13,
   "metadata": {},
   "outputs": [
    {
     "name": "stdout",
     "output_type": "stream",
     "text": [
      "['zebra', 'person', 5, 'airplane', 10, 'car']\n"
     ]
    }
   ],
   "source": [
    "categorias = ['zebra', 'person', 5, 'airplane', 10, 'car']\n",
    "print(categorias)"
   ]
  },
  {
   "cell_type": "code",
   "execution_count": 14,
   "metadata": {},
   "outputs": [
    {
     "name": "stdout",
     "output_type": "stream",
     "text": [
      "zebra\n",
      "person\n",
      "5\n",
      "airplane\n",
      "10\n",
      "car\n"
     ]
    }
   ],
   "source": [
    "for elem in categorias:\n",
    "    print(elem)"
   ]
  },
  {
   "cell_type": "markdown",
   "metadata": {},
   "source": [
    "Podemos combinar `for` e outras estruturas como `if`\n",
    "\n",
    "Abaixo, vamos imprimir apenas elementos que sejam strings"
   ]
  },
  {
   "cell_type": "code",
   "execution_count": 15,
   "metadata": {},
   "outputs": [
    {
     "name": "stdout",
     "output_type": "stream",
     "text": [
      "zebra\n",
      "person\n",
      "airplane\n",
      "car\n"
     ]
    }
   ],
   "source": [
    "for elem in categorias:\n",
    "    if type(elem) == str:\n",
    "        print(elem)"
   ]
  },
  {
   "cell_type": "markdown",
   "metadata": {},
   "source": [
    "---\n",
    "\n",
    "#### <font color=\"blue\">Exercício 5a.1 </font>\n",
    "\n",
    "Faça um programa que receba como entrada uma frase e conte o número de vogais\n",
    "\n",
    "*Dica:* usar o operador `in` para verificar se o caracter é um elemento dentro dos que gostaríamos de verificar (vogais)\n",
    "\n",
    "---\n"
   ]
  },
  {
   "cell_type": "code",
   "execution_count": 17,
   "metadata": {},
   "outputs": [
    {
     "name": "stdout",
     "output_type": "stream",
     "text": [
      "Uma frase para testar vogais\n",
      "Número de vogais: 11\n"
     ]
    }
   ],
   "source": [
    "## solucao\n",
    "frase = str(input()).rstrip()\n",
    "\n",
    "cont_vogais = 0\n",
    "for c in frase:\n",
    "    \n",
    "    #if c == 'a' or c == 'e' ....\n",
    "    if c in 'aeiouAEIOU':\n",
    "        cont_vogais += 1 # o mesmo que cont_vogais = cont_vogais + 1\n",
    "        \n",
    "print(\"Número de vogais:\", cont_vogais)"
   ]
  },
  {
   "cell_type": "markdown",
   "metadata": {},
   "source": [
    "#### Função `range()` em conjunto com `for`\n",
    "\n",
    "Aprendemos que a função `range()` pode ser usada para gerar um intervalo, o qual pode ser convertido para lista ou outro tipo\n",
    "\n",
    "Cria um intervalo de `i` até anterior a `j` com um `passo` definido:\n",
    "\n",
    "`range(i,j, passo)`"
   ]
  },
  {
   "cell_type": "code",
   "execution_count": 18,
   "metadata": {},
   "outputs": [
    {
     "data": {
      "text/plain": [
       "range(1, 10)"
      ]
     },
     "execution_count": 18,
     "metadata": {},
     "output_type": "execute_result"
    }
   ],
   "source": [
    "range(1,10)"
   ]
  },
  {
   "cell_type": "code",
   "execution_count": 19,
   "metadata": {},
   "outputs": [
    {
     "data": {
      "text/plain": [
       "[1, 2, 3, 4, 5, 6, 7, 8, 9]"
      ]
     },
     "execution_count": 19,
     "metadata": {},
     "output_type": "execute_result"
    }
   ],
   "source": [
    "list(range(1,10))"
   ]
  },
  {
   "cell_type": "code",
   "execution_count": 20,
   "metadata": {},
   "outputs": [
    {
     "data": {
      "text/plain": [
       "(1, 2, 3, 4, 5, 6, 7, 8, 9)"
      ]
     },
     "execution_count": 20,
     "metadata": {},
     "output_type": "execute_result"
    }
   ],
   "source": [
    "tuple(range(1,10))"
   ]
  },
  {
   "cell_type": "code",
   "execution_count": 21,
   "metadata": {},
   "outputs": [
    {
     "name": "stdout",
     "output_type": "stream",
     "text": [
      "1\n",
      "2\n",
      "3\n",
      "4\n",
      "5\n",
      "6\n",
      "7\n",
      "8\n",
      "9\n"
     ]
    }
   ],
   "source": [
    "for x in range(1,10):\n",
    "    print(x)"
   ]
  },
  {
   "cell_type": "code",
   "execution_count": 22,
   "metadata": {},
   "outputs": [
    {
     "name": "stdout",
     "output_type": "stream",
     "text": [
      "7\n",
      "14\n",
      "21\n",
      "28\n",
      "35\n",
      "42\n",
      "49\n",
      "56\n",
      "63\n",
      "70\n",
      "77\n",
      "84\n",
      "91\n",
      "98\n"
     ]
    }
   ],
   "source": [
    "# um programa que passa pelos números de 1 a 100 e imprime valores divisíveis por 7\n",
    "for x in range(1,101):\n",
    "    if (x % 7 == 0):\n",
    "        print(x)"
   ]
  },
  {
   "cell_type": "code",
   "execution_count": 26,
   "metadata": {},
   "outputs": [
    {
     "name": "stdout",
     "output_type": "stream",
     "text": [
      "2 elevado a 0 = 1\n",
      "2 elevado a 1 = 2\n",
      "2 elevado a 2 = 4\n",
      "Resultado:  8\n"
     ]
    }
   ],
   "source": [
    "# multiplica todas as potências de 2 de 0 até 6:  2^0 * 2^1 * 2^2 ... * 2^6\n",
    "mult = 1\n",
    "n_pot = 3\n",
    "for p in range(n_pot):\n",
    "    print(\"2 elevado a %d = %d\" % (p, 2**p))\n",
    "    mult = mult * 2**p\n",
    "    \n",
    "print(\"Resultado: \", mult)"
   ]
  },
  {
   "cell_type": "markdown",
   "metadata": {},
   "source": [
    "### Aninhando laços for\n",
    "\n",
    "Usando um `for` dentro de outro.\n",
    "\n",
    "Por exemplo gostaríamos de obter todas as combinações possíveis entre duas listas de caracteres, iniciando pelo caracter da primeira lista e finalizando com o caracter da segunda lista\n",
    "\n",
    "```\n",
    "l1 = ['a', 'b', 'c']\n",
    "l2 = ['X', 'Z']\n",
    "Resultado: aX aZ bX bZ cX CZ\n",
    "```"
   ]
  },
  {
   "cell_type": "code",
   "execution_count": 28,
   "metadata": {},
   "outputs": [
    {
     "name": "stdout",
     "output_type": "stream",
     "text": [
      "aX\n",
      "aZ\n",
      "bX\n",
      "bZ\n",
      "cX\n",
      "cZ\n"
     ]
    }
   ],
   "source": [
    "l1 = ['a', 'b', 'c']\n",
    "l2 = ['X', 'Z']\n",
    "\n",
    "# iterar pela lista l1\n",
    "for i in l1:\n",
    "    #print(i)\n",
    "    for j in l2:\n",
    "        #print(\"\\t\",j)\n",
    "        print(\"%s%s\" % (i,j))\n",
    "\n",
    "print(lcomb)"
   ]
  },
  {
   "cell_type": "markdown",
   "metadata": {},
   "source": [
    "---\n",
    "\n",
    "#### <font color=\"blue\">Exercício 5a.2 </font>\n",
    "Modifique o programa acima para criar uma nova lista contendo as combinações criadas\n",
    "\n",
    "---"
   ]
  },
  {
   "cell_type": "markdown",
   "metadata": {},
   "source": [
    "### Diretivas `continue`  e `break`\n",
    "\n",
    "São formas de burlar a estrutura de iteração original\n",
    "\n",
    "* `continue` pula a iteração atual e vai para a próxima\n",
    "* `break` interrompe a iteração e sai da estrutura\n",
    "\n",
    "Ambas são pouco recomendadas, mas existem e podem ser usadas se não houver uma outra alternativa."
   ]
  },
  {
   "cell_type": "markdown",
   "metadata": {},
   "source": [
    "\n",
    "\n",
    "Suponha que tenhamos uma lista de tuplas, vamos pegar o exemplo da aula anterior, em que há uma lista com tuplas, em que cada tupla possui:\n",
    "* na primeira posição a disciplinas\n",
    "* nas demais posições as notas da turma"
   ]
  },
  {
   "cell_type": "code",
   "execution_count": 29,
   "metadata": {},
   "outputs": [
    {
     "name": "stdout",
     "output_type": "stream",
     "text": [
      "[('Física', 9.5, 8.0, 10.0, 5.0, 3.0, 6.0, 6.5), ('Programação', 1.5, 5.0, 5.5, 6.8, 8.0, 9.5, 9.5, 10.0, 1.0, 5.0, 4.9, 6.0), ('Algebra Linear', 5.5, 7.0, 8.0, 6.0, 0.0, 3.5), ('Circuitos Elétricos', 10.0, 7.5, 8.0, 9.0, 4.0, 6.0, 6.5), ('Gerenciamento de Projetos', 10.0, 7.5, 8.3, 9.5, 5.0, 8.2, 8.5)]\n"
     ]
    }
   ],
   "source": [
    "turma1 = ('Física', 9.5, 8.0, 10.0, 5.0, 3.0, 6.0, 6.5)\n",
    "turma2 = ('Programação', 1.5, 5.0, 5.5, 6.8, 8.0, 9.5, 9.5, 10.0, 1.0, 5.0, 4.9, 6.0)\n",
    "turma3 = ('Algebra Linear', 5.5, 7.0, 8.0, 6.0, 0.0, 3.5)\n",
    "turma4 = ('Circuitos Elétricos', 10.0, 7.5, 8.0, 9.0, 4.0, 6.0, 6.5)\n",
    "turma5 = ('Gerenciamento de Projetos', 10.0, 7.5, 8.3, 9.5, 5.0, 8.2, 8.5)\n",
    "\n",
    "turmas = [turma1, turma2, turma3, turma4, turma5]\n",
    "print(turmas)"
   ]
  },
  {
   "cell_type": "markdown",
   "metadata": {},
   "source": [
    "Imprimir na tela o nome de cada disciplina e contar quantos foram aprovados em cada turma.\n",
    "Sendo que a aprovação é uma nota 5.0 ou superior"
   ]
  },
  {
   "cell_type": "code",
   "execution_count": 36,
   "metadata": {},
   "outputs": [
    {
     "ename": "TypeError",
     "evalue": "'>=' not supported between instances of 'str' and 'float'",
     "output_type": "error",
     "traceback": [
      "\u001b[0;31m---------------------------------------------------------------------------\u001b[0m",
      "\u001b[0;31mTypeError\u001b[0m                                 Traceback (most recent call last)",
      "\u001b[0;32m<ipython-input-36-757daa1eba88>\u001b[0m in \u001b[0;36m<module>\u001b[0;34m\u001b[0m\n\u001b[1;32m      5\u001b[0m     \u001b[0;31m# para cada elemento da turma\u001b[0m\u001b[0;34m\u001b[0m\u001b[0;34m\u001b[0m\u001b[0;34m\u001b[0m\u001b[0m\n\u001b[1;32m      6\u001b[0m     \u001b[0;32mfor\u001b[0m \u001b[0mn\u001b[0m \u001b[0;32min\u001b[0m \u001b[0mt\u001b[0m\u001b[0;34m:\u001b[0m\u001b[0;34m\u001b[0m\u001b[0;34m\u001b[0m\u001b[0m\n\u001b[0;32m----> 7\u001b[0;31m         \u001b[0;32mif\u001b[0m \u001b[0;34m(\u001b[0m\u001b[0mn\u001b[0m \u001b[0;34m>=\u001b[0m \u001b[0;36m5.0\u001b[0m\u001b[0;34m)\u001b[0m\u001b[0;34m:\u001b[0m\u001b[0;34m\u001b[0m\u001b[0;34m\u001b[0m\u001b[0m\n\u001b[0m\u001b[1;32m      8\u001b[0m             \u001b[0maprov\u001b[0m \u001b[0;34m=\u001b[0m \u001b[0maprov\u001b[0m \u001b[0;34m+\u001b[0m \u001b[0;36m1\u001b[0m\u001b[0;34m\u001b[0m\u001b[0;34m\u001b[0m\u001b[0m\n\u001b[1;32m      9\u001b[0m \u001b[0;34m\u001b[0m\u001b[0m\n",
      "\u001b[0;31mTypeError\u001b[0m: '>=' not supported between instances of 'str' and 'float'"
     ]
    }
   ],
   "source": [
    "# para cada turma\n",
    "for t in turmas:\n",
    "    aprov = 0 \n",
    "    \n",
    "    # para cada elemento da turma\n",
    "    for n in t:\n",
    "        if (n >= 5.0):\n",
    "            aprov = aprov + 1\n",
    "            \n",
    "    print(t[0] + \": aprovados: \"+str(aprov))"
   ]
  },
  {
   "cell_type": "markdown",
   "metadata": {},
   "source": [
    "Temos um problema pois o primeiro elemento da tupla não é numérico.\n",
    "\n",
    "Há algumas possibilidades. A primeira é usar a diretiva `continue`\n",
    "\n",
    "Ela não é recomendada, pois dificulta a depuração do código\n",
    "* mas pode ser usada para \"pular\" a iteração/laço atual"
   ]
  },
  {
   "cell_type": "code",
   "execution_count": 37,
   "metadata": {},
   "outputs": [
    {
     "name": "stdout",
     "output_type": "stream",
     "text": [
      "Física: aprovados: 6\n",
      "Programação: aprovados: 9\n",
      "Algebra Linear: aprovados: 4\n",
      "Circuitos Elétricos: aprovados: 6\n",
      "Gerenciamento de Projetos: aprovados: 7\n"
     ]
    }
   ],
   "source": [
    "# para cada turma\n",
    "for t in turmas:\n",
    "    aprov = 0 \n",
    "    \n",
    "    # para cada elemento da turma\n",
    "    for n in t:\n",
    "        # se o elemento for string, pula esse elemento e vai para o proximo\n",
    "        if (type(n) == str):\n",
    "            continue\n",
    "            \n",
    "        if (n >= 5.0):\n",
    "            aprov = aprov + 1\n",
    "            \n",
    "    print(t[0] + \": aprovados: \"+str(aprov))"
   ]
  },
  {
   "cell_type": "markdown",
   "metadata": {},
   "source": [
    "Outra possibilidade é já iniciar na segunda posição.\n",
    "\n",
    "Para isso usaremos um intervalo `range` baseado no tamanho da tupla"
   ]
  },
  {
   "cell_type": "code",
   "execution_count": 41,
   "metadata": {},
   "outputs": [
    {
     "name": "stdout",
     "output_type": "stream",
     "text": [
      "Física: aprovados: 6\n",
      "Programação: aprovados: 9\n",
      "Algebra Linear: aprovados: 4\n",
      "Circuitos Elétricos: aprovados: 6\n",
      "Gerenciamento de Projetos: aprovados: 7\n"
     ]
    }
   ],
   "source": [
    "# para cada turma\n",
    "for t in turmas:\n",
    "    aprov = 0 \n",
    "    \n",
    "    tam_turma = len(t)\n",
    "\n",
    "    # para cada POSICAO da turma\n",
    "    for i in range(1,tam_turma):\n",
    "        # indexamos a turma com o 'i'\n",
    "        if (t[i] >= 5.0):\n",
    "            aprov = aprov + 1\n",
    "            \n",
    "    print(t[0] + \": aprovados: \"+str(aprov))"
   ]
  },
  {
   "cell_type": "markdown",
   "metadata": {},
   "source": [
    "---\n",
    "\n",
    "#### <font color=\"blue\">Exercício 5a.3</font>\n",
    "Modifique o programa anterior para calcular a *porcentagem* de aprovados em cada turma, e que crie uma nova lista de tuplas, em que agora cada tupla contém:\n",
    "* na primeira posição o nome da disciplina\n",
    "* na segunda posição o total de aprovados\n",
    "* na terceira posição a porcentagem de aprovados\n",
    "---"
   ]
  },
  {
   "cell_type": "markdown",
   "metadata": {},
   "source": [
    "Suponha que gostaríamos de percorrer uma lista somando seus valores numéricos (inteiro ou float), e desejamos interromper o processamento caso encontremos um determinado valor `'fim'`."
   ]
  },
  {
   "cell_type": "code",
   "execution_count": 49,
   "metadata": {},
   "outputs": [],
   "source": [
    "lista = ['a', 10.5, .20, 'b', 30.0, 100, ('tupla', 1, 2), 10, 'fim', 1000, 405, 'x']"
   ]
  },
  {
   "cell_type": "code",
   "execution_count": 50,
   "metadata": {},
   "outputs": [
    {
     "name": "stdout",
     "output_type": "stream",
     "text": [
      "Soma dos floats e ints anteriores a 'fim': 150.7\n"
     ]
    }
   ],
   "source": [
    "soma = 0\n",
    "for x in lista:\n",
    "    # se o elemento for fim, encerra o loop\n",
    "    if (x == 'fim'):\n",
    "        break\n",
    "        \n",
    "    # se o elemento for diferente de inteiro e float, vai para o proximo\n",
    "    if (type(x) != int and type(x) != float):\n",
    "        continue\n",
    "        \n",
    "    soma = soma + x\n",
    "    \n",
    "print(\"Soma dos floats e ints anteriores a 'fim':\", soma)    "
   ]
  },
  {
   "cell_type": "markdown",
   "metadata": {},
   "source": [
    "---\n",
    "\n",
    "#### <font color=\"blue\">Exercício 5a.4</font>\n",
    "\n",
    "Considere a lista de tuplas de turmas anteriormente utilizada. Escreva um código que:\n",
    "* imprima o nome das disciplinas seguido por suas notas. \n",
    "* no entanto, se encontrar uma nota menor do que 5, interrompa a impressão para a turma atual e vá para a próxima turma\n",
    "\n",
    "---"
   ]
  },
  {
   "cell_type": "code",
   "execution_count": null,
   "metadata": {},
   "outputs": [],
   "source": []
  },
  {
   "cell_type": "code",
   "execution_count": null,
   "metadata": {},
   "outputs": [],
   "source": []
  }
 ],
 "metadata": {
  "kernelspec": {
   "display_name": "Python 3",
   "language": "python",
   "name": "python3"
  },
  "language_info": {
   "codemirror_mode": {
    "name": "ipython",
    "version": 3
   },
   "file_extension": ".py",
   "mimetype": "text/x-python",
   "name": "python",
   "nbconvert_exporter": "python",
   "pygments_lexer": "ipython3",
   "version": "3.9.5"
  },
  "toc": {
   "base_numbering": 1,
   "nav_menu": {},
   "number_sections": true,
   "sideBar": true,
   "skip_h1_title": false,
   "title_cell": "Table of Contents",
   "title_sidebar": "Contents",
   "toc_cell": false,
   "toc_position": {},
   "toc_section_display": true,
   "toc_window_display": false
  }
 },
 "nbformat": 4,
 "nbformat_minor": 2
}
