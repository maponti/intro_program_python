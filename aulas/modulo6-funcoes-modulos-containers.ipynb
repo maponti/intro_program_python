{
 "cells": [
  {
   "cell_type": "markdown",
   "id": "c5e6a922",
   "metadata": {},
   "source": [
    "# Módulo 6\n",
    "\n",
    "## Aula ao vivo\n",
    "\n",
    "Introdução à Programação para Engenharias\n",
    "\n",
    "Moacir A Ponti\n",
    "2021\n",
    "\n",
    "### Dicionários, Conjuntos e Funções\n"
   ]
  },
  {
   "cell_type": "markdown",
   "id": "503d46e2",
   "metadata": {},
   "source": [
    "Repetição while - é a mais genérica"
   ]
  },
  {
   "cell_type": "code",
   "execution_count": 7,
   "id": "aed68122",
   "metadata": {},
   "outputs": [
    {
     "name": "stdout",
     "output_type": "stream",
     "text": [
      "digite numerador: 3\n",
      "digite denominador (diferente de zero): 0\n",
      "digite denominador (diferente de zero): 0\n",
      "digite denominador (diferente de zero): 0\n",
      "digite denominador (diferente de zero): 0\n",
      "digite denominador (diferente de zero): 0\n",
      "digite denominador (diferente de zero): 0\n",
      "digite denominador (diferente de zero): 0\n",
      "digite denominador (diferente de zero): 0\n",
      "digite denominador (diferente de zero): 0\n",
      "digite denominador (diferente de zero): 0\n",
      "digite denominador (diferente de zero): 5\n",
      "0.6\n"
     ]
    }
   ],
   "source": [
    "x = float(input(\"digite numerador: \"))\n",
    "\n",
    "y = 0\n",
    "\n",
    "while (y == 0):\n",
    "    y = float(input(\"digite denominador (diferente de zero): \"))\n",
    "\n",
    "resul = x/y\n",
    "    \n",
    "print(resul)"
   ]
  },
  {
   "cell_type": "markdown",
   "id": "0efe786d",
   "metadata": {},
   "source": [
    "Repetição for: percorrer uma sequencia ou colecao de objetos"
   ]
  },
  {
   "cell_type": "code",
   "execution_count": 10,
   "id": "29acb53b",
   "metadata": {},
   "outputs": [],
   "source": [
    "lista = list(range(1,11))"
   ]
  },
  {
   "cell_type": "code",
   "execution_count": 11,
   "id": "2f5e1df7",
   "metadata": {},
   "outputs": [
    {
     "name": "stdout",
     "output_type": "stream",
     "text": [
      "1 1\n",
      "2 4\n",
      "3 9\n",
      "4 16\n",
      "5 25\n",
      "6 36\n",
      "7 49\n",
      "8 64\n",
      "9 81\n",
      "10 100\n"
     ]
    }
   ],
   "source": [
    "for i in lista:\n",
    "    print(i, i**2)"
   ]
  },
  {
   "cell_type": "code",
   "execution_count": 14,
   "id": "2c029db5",
   "metadata": {},
   "outputs": [
    {
     "name": "stdout",
     "output_type": "stream",
     "text": [
      "tamanho da lista: 10\n",
      "1 1\n",
      "2 4\n",
      "3 9\n",
      "4 16\n",
      "5 25\n",
      "6 36\n",
      "7 49\n",
      "8 64\n",
      "9 81\n",
      "10 100\n"
     ]
    }
   ],
   "source": [
    "pos = 0\n",
    "print(\"tamanho da lista:\", len(lista))\n",
    "while (pos < len(lista)): ## se nao modifico 'pos', a condicao é sempre True\n",
    "    i = lista[pos]\n",
    "    print(i, i**2)\n",
    "    pos = pos + 1"
   ]
  },
  {
   "cell_type": "markdown",
   "id": "882ce0d9",
   "metadata": {},
   "source": [
    "**Containers** em Python:\n",
    "\n",
    "* lista\n",
    "* tupla\n",
    "* string\n",
    "* <font color='red'>dicionário</font>\n",
    "* <font color='red'>conjunto</font>\n",
    "\n"
   ]
  },
  {
   "cell_type": "code",
   "execution_count": 16,
   "id": "74fa2b26",
   "metadata": {},
   "outputs": [],
   "source": [
    "l1 = [1, 2, 3, 4, 'a']\n",
    "t1 = ('valor', 111, 50, 50.5)\n",
    "s1 = 'string aceita só caracteres'"
   ]
  },
  {
   "cell_type": "code",
   "execution_count": 21,
   "id": "fd93607d",
   "metadata": {},
   "outputs": [
    {
     "name": "stdout",
     "output_type": "stream",
     "text": [
      "valor\n",
      "111\n",
      "50\n",
      "50.5\n"
     ]
    }
   ],
   "source": [
    "for el in t1:\n",
    "    print(el)"
   ]
  },
  {
   "cell_type": "markdown",
   "id": "48ca0a03",
   "metadata": {},
   "source": [
    "#### Dicionário\n",
    "\n",
    "```\n",
    "<chave>:<valor>\n",
    "```\n",
    "\n",
    "palavra:significado\n",
    "\n",
    "* chave pode ser de qualquer tipo *imutável*\n",
    "* valor pode ser de qualquer tipo"
   ]
  },
  {
   "cell_type": "code",
   "execution_count": 22,
   "id": "ae81f40b",
   "metadata": {},
   "outputs": [],
   "source": [
    "d1 = { 'subrepticiamente':'de forma clandestina, ilegal'  }"
   ]
  },
  {
   "cell_type": "code",
   "execution_count": 23,
   "id": "0af6ea7b",
   "metadata": {},
   "outputs": [
    {
     "data": {
      "text/plain": [
       "'de forma clandestina, ilegal'"
      ]
     },
     "execution_count": 23,
     "metadata": {},
     "output_type": "execute_result"
    }
   ],
   "source": [
    "d1['subrepticiamente']"
   ]
  },
  {
   "cell_type": "code",
   "execution_count": 24,
   "id": "79fc2100",
   "metadata": {},
   "outputs": [
    {
     "ename": "KeyError",
     "evalue": "0",
     "output_type": "error",
     "traceback": [
      "\u001b[0;31m---------------------------------------------------------------------------\u001b[0m",
      "\u001b[0;31mKeyError\u001b[0m                                  Traceback (most recent call last)",
      "\u001b[0;32m<ipython-input-24-f64ff61913e8>\u001b[0m in \u001b[0;36m<module>\u001b[0;34m\u001b[0m\n\u001b[0;32m----> 1\u001b[0;31m \u001b[0md1\u001b[0m\u001b[0;34m[\u001b[0m\u001b[0;36m0\u001b[0m\u001b[0;34m]\u001b[0m\u001b[0;34m\u001b[0m\u001b[0;34m\u001b[0m\u001b[0m\n\u001b[0m",
      "\u001b[0;31mKeyError\u001b[0m: 0"
     ]
    }
   ],
   "source": [
    "d1[0]"
   ]
  },
  {
   "cell_type": "code",
   "execution_count": 26,
   "id": "ab10c78a",
   "metadata": {},
   "outputs": [],
   "source": [
    "d2 = {0: 'elemento zero', 10:'numero dez'}"
   ]
  },
  {
   "cell_type": "code",
   "execution_count": 27,
   "id": "d03a65b5",
   "metadata": {},
   "outputs": [
    {
     "data": {
      "text/plain": [
       "'elemento zero'"
      ]
     },
     "execution_count": 27,
     "metadata": {},
     "output_type": "execute_result"
    }
   ],
   "source": [
    "d2[0]"
   ]
  },
  {
   "cell_type": "code",
   "execution_count": 28,
   "id": "259fb909",
   "metadata": {},
   "outputs": [
    {
     "data": {
      "text/plain": [
       "'numero dez'"
      ]
     },
     "execution_count": 28,
     "metadata": {},
     "output_type": "execute_result"
    }
   ],
   "source": [
    "d2[10]"
   ]
  },
  {
   "cell_type": "code",
   "execution_count": 29,
   "id": "5a1dbd94",
   "metadata": {
    "scrolled": true
   },
   "outputs": [
    {
     "ename": "KeyError",
     "evalue": "1",
     "output_type": "error",
     "traceback": [
      "\u001b[0;31m---------------------------------------------------------------------------\u001b[0m",
      "\u001b[0;31mKeyError\u001b[0m                                  Traceback (most recent call last)",
      "\u001b[0;32m<ipython-input-29-eaa39258eabf>\u001b[0m in \u001b[0;36m<module>\u001b[0;34m\u001b[0m\n\u001b[0;32m----> 1\u001b[0;31m \u001b[0md2\u001b[0m\u001b[0;34m[\u001b[0m\u001b[0;36m1\u001b[0m\u001b[0;34m]\u001b[0m\u001b[0;34m\u001b[0m\u001b[0;34m\u001b[0m\u001b[0m\n\u001b[0m",
      "\u001b[0;31mKeyError\u001b[0m: 1"
     ]
    }
   ],
   "source": [
    "d2[1]"
   ]
  },
  {
   "cell_type": "code",
   "execution_count": 35,
   "id": "fd1a8b0e",
   "metadata": {},
   "outputs": [],
   "source": [
    "dig_str = {'zero':'0', 'um':'1', 'dois':'2', 'tres':'3'}"
   ]
  },
  {
   "cell_type": "code",
   "execution_count": 36,
   "id": "bb0b1212",
   "metadata": {},
   "outputs": [],
   "source": [
    "dig_int = {'zero': 0, 'um':1, 'dois':2, 'tres':3}"
   ]
  },
  {
   "cell_type": "code",
   "execution_count": 31,
   "id": "156a560a",
   "metadata": {},
   "outputs": [],
   "source": [
    "str1 = 'zero dois dois um tres'"
   ]
  },
  {
   "cell_type": "code",
   "execution_count": 33,
   "id": "988e6f1e",
   "metadata": {
    "scrolled": false
   },
   "outputs": [
    {
     "name": "stdout",
     "output_type": "stream",
     "text": [
      "zero dois dois zero tres\n"
     ]
    }
   ],
   "source": [
    "str1 = str1.replace('um','zero')\n",
    "print(str1)"
   ]
  },
  {
   "cell_type": "code",
   "execution_count": 72,
   "id": "75ee6001",
   "metadata": {},
   "outputs": [],
   "source": [
    "str1 = 'um dois dois um tres um zero'"
   ]
  },
  {
   "cell_type": "markdown",
   "id": "d2593228",
   "metadata": {},
   "source": [
    "`str.split()` retorna uma lista contendo as palavras da string separadas por espaços em branco"
   ]
  },
  {
   "cell_type": "code",
   "execution_count": 75,
   "id": "c8e0becc",
   "metadata": {},
   "outputs": [
    {
     "name": "stdout",
     "output_type": "stream",
     "text": [
      "['hoje', 'eu', 'acordei,', 'feliz!']\n"
     ]
    }
   ],
   "source": [
    "print('hoje eu acordei, feliz!'.split())"
   ]
  },
  {
   "cell_type": "markdown",
   "id": "74a85c59",
   "metadata": {},
   "source": [
    "Entao podemos usar isso para gerar a lista das palavras 'numéricas'"
   ]
  },
  {
   "cell_type": "code",
   "execution_count": 76,
   "id": "7922c2b7",
   "metadata": {},
   "outputs": [
    {
     "name": "stdout",
     "output_type": "stream",
     "text": [
      "um dois dois um tres um zero\n",
      "['um', 'dois', 'dois', 'um', 'tres', 'um', 'zero']\n"
     ]
    }
   ],
   "source": [
    "print(str1)\n",
    "lista_de_palavras = str1.split()\n",
    "print(lista_de_palavras)"
   ]
  },
  {
   "cell_type": "code",
   "execution_count": 63,
   "id": "5eff2758",
   "metadata": {},
   "outputs": [
    {
     "data": {
      "text/plain": [
       "{'zero': '0', 'um': '1', 'dois': '2', 'tres': '3'}"
      ]
     },
     "execution_count": 63,
     "metadata": {},
     "output_type": "execute_result"
    }
   ],
   "source": [
    "dig_str"
   ]
  },
  {
   "cell_type": "code",
   "execution_count": 77,
   "id": "27c1ed3c",
   "metadata": {
    "scrolled": true
   },
   "outputs": [
    {
     "name": "stdout",
     "output_type": "stream",
     "text": [
      "extraindo a palavra na posicao 0: um\n",
      "consultando o dicionário com essa palavra: 1\n"
     ]
    }
   ],
   "source": [
    "# vamos ver se funciona para a primeira palavra (0)\n",
    "pal = str1.split()[0]\n",
    "print('extraindo a palavra na posicao 0:', pal)\n",
    "print('consultando o dicionário com essa palavra:', dig_str[pal])"
   ]
  },
  {
   "cell_type": "markdown",
   "id": "382e795c",
   "metadata": {},
   "source": [
    "Agora posso, para cada palavra da lista:\n",
    "* substituir a palavra escrita (ex. um) pelo seu dígito (ex. 1)"
   ]
  },
  {
   "cell_type": "code",
   "execution_count": 94,
   "id": "4eb71784",
   "metadata": {},
   "outputs": [],
   "source": [
    "str1 = 'um dois dois um dois um zero dois zero'\n",
    "for pal in str1.split():\n",
    "    str1 = str1.replace(pal, dig_str[pal])"
   ]
  },
  {
   "cell_type": "code",
   "execution_count": 95,
   "id": "86e14fca",
   "metadata": {},
   "outputs": [],
   "source": [
    "# se eu tivesse que fazer com for:\n",
    "str2 = 'um dois dois um dois um zero dois zero'\n",
    "for pal in str2.split():\n",
    "    if pal == 'zero':\n",
    "        str2 = str2.replace(pal, '0')\n",
    "    elif pal == 'um':\n",
    "        str2 = str2.replace(pal, '1')\n",
    "    elif pal == 'dois':\n",
    "        str2 = str2.replace(pal, '2')\n",
    "    elif pal == 'tres':\n",
    "        str2 = str2.replace(pal, '2')"
   ]
  },
  {
   "cell_type": "code",
   "execution_count": 96,
   "id": "673a6915",
   "metadata": {},
   "outputs": [
    {
     "name": "stdout",
     "output_type": "stream",
     "text": [
      "1 2 2 1 2 1 0 2 0\n",
      "1 2 2 1 2 1 0 2 0\n"
     ]
    }
   ],
   "source": [
    "print(str1)\n",
    "print(str2)"
   ]
  },
  {
   "cell_type": "code",
   "execution_count": 97,
   "id": "e846dc94",
   "metadata": {},
   "outputs": [
    {
     "data": {
      "text/plain": [
       "'1 2 2 1 2 1 0 2 0'"
      ]
     },
     "execution_count": 97,
     "metadata": {},
     "output_type": "execute_result"
    }
   ],
   "source": [
    "str1"
   ]
  },
  {
   "cell_type": "code",
   "execution_count": 98,
   "id": "02bd9722",
   "metadata": {},
   "outputs": [
    {
     "name": "stdout",
     "output_type": "stream",
     "text": [
      "['1', '2', '2', '1', '2', '1', '0', '2', '0']\n"
     ]
    }
   ],
   "source": [
    "print(str1.split())"
   ]
  },
  {
   "cell_type": "code",
   "execution_count": 99,
   "id": "5d7d4151",
   "metadata": {},
   "outputs": [
    {
     "name": "stdout",
     "output_type": "stream",
     "text": [
      "[1, 2, 2, 1, 2, 1, 0, 2, 0]\n"
     ]
    }
   ],
   "source": [
    "# l_num = list()\n",
    "# converte uma lista de digitos string em inteiros\n",
    "l_num = [] \n",
    "for s in str1.split():\n",
    "    l_num = l_num + [int(s)] # concatenando elementos na lista\n",
    "    #l_num.append(int(s)) # insercao no final da lista\n",
    "\n",
    "print(l_num)"
   ]
  },
  {
   "cell_type": "markdown",
   "id": "a5517850",
   "metadata": {},
   "source": [
    "Agora, gostaria de obter os dígitos distintos (únicos) dessa lista!\n",
    "\n",
    "Estrutura `set()`\n",
    "\n",
    "Conjunto matemático\n",
    "\n",
    "- colecao de objetos: nao ordenada e sem duplicatas"
   ]
  },
  {
   "cell_type": "code",
   "execution_count": 107,
   "id": "53958735",
   "metadata": {},
   "outputs": [
    {
     "name": "stdout",
     "output_type": "stream",
     "text": [
      "<class 'set'>\n",
      "set()\n"
     ]
    }
   ],
   "source": [
    "conj_num = set()\n",
    "print(type(conj_num))\n",
    "print(conj_num)"
   ]
  },
  {
   "cell_type": "code",
   "execution_count": 108,
   "id": "025b1078",
   "metadata": {},
   "outputs": [
    {
     "name": "stdout",
     "output_type": "stream",
     "text": [
      "{1, 2, 3}\n"
     ]
    }
   ],
   "source": [
    "conj_num.add(2)\n",
    "conj_num.add(2)\n",
    "conj_num.add(3)\n",
    "conj_num.add(1)\n",
    "conj_num.add(2)\n",
    "conj_num.add(2)\n",
    "conj_num.add(1)\n",
    "conj_num.add(3)\n",
    "conj_num.add(3)\n",
    "conj_num.add(2)\n",
    "conj_num.add(3)\n",
    "print(conj_num)"
   ]
  },
  {
   "cell_type": "code",
   "execution_count": 109,
   "id": "e42995f2",
   "metadata": {},
   "outputs": [
    {
     "name": "stdout",
     "output_type": "stream",
     "text": [
      "[1, 2, 2, 1, 2, 1, 0, 2, 0]\n"
     ]
    }
   ],
   "source": [
    "print(l_num)"
   ]
  },
  {
   "cell_type": "code",
   "execution_count": 111,
   "id": "afacf56e",
   "metadata": {},
   "outputs": [
    {
     "name": "stdout",
     "output_type": "stream",
     "text": [
      "{0, 1, 2}\n"
     ]
    }
   ],
   "source": [
    "c_num = set(l_num)\n",
    "print(c_num)"
   ]
  },
  {
   "cell_type": "code",
   "execution_count": 112,
   "id": "7cbc7af2",
   "metadata": {
    "scrolled": true
   },
   "outputs": [
    {
     "name": "stdout",
     "output_type": "stream",
     "text": [
      "Foram obtidos 3 digitos distintos\n"
     ]
    }
   ],
   "source": [
    "print('Foram obtidos', len(c_num),'digitos distintos')"
   ]
  },
  {
   "cell_type": "markdown",
   "id": "998ddd65",
   "metadata": {},
   "source": [
    "## Criando funções\n",
    "\n",
    "``` \n",
    "def funcao():\n",
    "    <codigo da funcao>\n",
    "    return <o que a funcao responde/retorna>\n",
    "```"
   ]
  },
  {
   "cell_type": "code",
   "execution_count": 146,
   "id": "c9ffe9e4",
   "metadata": {},
   "outputs": [],
   "source": [
    "# substitui palavras relativas a digitos pelos digitos em si\n",
    "def sub_digitos(frase):\n",
    "    \n",
    "    # cria um dicionário\n",
    "    dig_str = {'zero':'0', 'um':'1', 'dois':'2', \n",
    "               'tres':'3', 'quatro':'4', 'cinco':'5',\n",
    "               'seis':'6'}\n",
    "    \n",
    "    # para cada palavra da frase informada\n",
    "    # substitui palavra por dígito\n",
    "    for pal in frase.split():\n",
    "        # print(pal)\n",
    "        frase = frase.replace(pal, dig_str[pal])\n",
    "    \n",
    "    return frase"
   ]
  },
  {
   "cell_type": "code",
   "execution_count": 148,
   "id": "4335eaa5",
   "metadata": {},
   "outputs": [
    {
     "name": "stdout",
     "output_type": "stream",
     "text": [
      "0 6 1 0 2 4 5 1\n"
     ]
    }
   ],
   "source": [
    "resul = sub_digitos('zero seis um zero dois quatro cinco um')\n",
    "print(resul)"
   ]
  },
  {
   "cell_type": "code",
   "execution_count": 153,
   "id": "1f0341ba",
   "metadata": {},
   "outputs": [],
   "source": [
    "# substitui palavras relativas a digitos pelos digitos em si\n",
    "def sub_digitos(frase, imprime):\n",
    "    \n",
    "    # cria um dicionário\n",
    "    dig_str = {'zero':'0', 'um':'1', 'dois':'2', \n",
    "               'tres':'3', 'quatro':'4', 'cinco':'5',\n",
    "               'seis':'6'}\n",
    "    \n",
    "    frase_original = frase \n",
    "    \n",
    "    # para cada palavra da frase informada\n",
    "    # substitui palavra por dígito\n",
    "    for pal in frase.split():\n",
    "        # print(pal)\n",
    "        frase = frase.replace(pal, dig_str[pal])\n",
    "    \n",
    "    if (imprime==True):\n",
    "        print('Frase original:', frase_original)\n",
    "        print('Após substituição:', frase)\n",
    "    \n",
    "    return frase"
   ]
  },
  {
   "cell_type": "code",
   "execution_count": 157,
   "id": "39cf06af",
   "metadata": {},
   "outputs": [
    {
     "name": "stdout",
     "output_type": "stream",
     "text": [
      "Frase original: zero seis um zero dois\n",
      "Após substituição: 0 6 1 0 2\n"
     ]
    }
   ],
   "source": [
    "r = sub_digitos('zero seis um zero dois', True)"
   ]
  },
  {
   "cell_type": "code",
   "execution_count": 158,
   "id": "a57013cf",
   "metadata": {},
   "outputs": [
    {
     "name": "stdout",
     "output_type": "stream",
     "text": [
      "Frase original: zero seis um zero dois\n",
      "Após substituição: 0 6 1 0 2\n"
     ]
    },
    {
     "data": {
      "text/plain": [
       "'0 6 1 0 2'"
      ]
     },
     "execution_count": 158,
     "metadata": {},
     "output_type": "execute_result"
    }
   ],
   "source": [
    "sub_digitos('zero seis um zero dois', True)"
   ]
  },
  {
   "cell_type": "code",
   "execution_count": 159,
   "id": "28b4e040",
   "metadata": {},
   "outputs": [
    {
     "name": "stdout",
     "output_type": "stream",
     "text": [
      "Frase original: zero seis um zero dois\n",
      "Após substituição: 0 6 1 0 2\n"
     ]
    }
   ],
   "source": [
    "_ = sub_digitos('zero seis um zero dois', True)"
   ]
  },
  {
   "cell_type": "code",
   "execution_count": null,
   "id": "6c63fdcd",
   "metadata": {},
   "outputs": [],
   "source": []
  }
 ],
 "metadata": {
  "kernelspec": {
   "display_name": "Python 3",
   "language": "python",
   "name": "python3"
  },
  "language_info": {
   "codemirror_mode": {
    "name": "ipython",
    "version": 3
   },
   "file_extension": ".py",
   "mimetype": "text/x-python",
   "name": "python",
   "nbconvert_exporter": "python",
   "pygments_lexer": "ipython3",
   "version": "3.9.5"
  }
 },
 "nbformat": 4,
 "nbformat_minor": 5
}
