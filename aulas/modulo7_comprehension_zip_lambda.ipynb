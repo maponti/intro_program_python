{
 "cells": [
  {
   "cell_type": "markdown",
   "id": "388c0738",
   "metadata": {},
   "source": [
    "## Comprehension, zip e lambda"
   ]
  },
  {
   "cell_type": "code",
   "execution_count": 1,
   "id": "b32c8186",
   "metadata": {},
   "outputs": [],
   "source": [
    "# lista, tupla, dicionário, etc."
   ]
  },
  {
   "cell_type": "code",
   "execution_count": 2,
   "id": "8a18dd69",
   "metadata": {},
   "outputs": [],
   "source": [
    "from produto import produto"
   ]
  },
  {
   "cell_type": "code",
   "execution_count": 57,
   "id": "0382f496",
   "metadata": {},
   "outputs": [],
   "source": [
    "lista_desc = ['monitor', 'laptop', 'mouse', 'teclado', 'mouse gamer']\n",
    "lista_ids = [v*100 for v in range(1, len(lista_desc)+1 )]"
   ]
  },
  {
   "cell_type": "code",
   "execution_count": 34,
   "id": "94a92061",
   "metadata": {},
   "outputs": [
    {
     "name": "stdout",
     "output_type": "stream",
     "text": [
      "[100, 200, 300, 400]\n"
     ]
    }
   ],
   "source": [
    "print(lista_ids)"
   ]
  },
  {
   "cell_type": "code",
   "execution_count": 43,
   "id": "0bc1f3a4",
   "metadata": {},
   "outputs": [
    {
     "name": "stdout",
     "output_type": "stream",
     "text": [
      "<class 'list'>\n",
      "<class 'produto.produto'>\n",
      "(100, 'laptop', 0.0)\n",
      "(400, 'teclado', 45.0)\n"
     ]
    }
   ],
   "source": [
    "#for pid in lista_ids:\n",
    "#    print(pid)\n",
    "    \n",
    "lista_produtos = []\n",
    "for pid, des in zip(lista_ids, lista_desc):\n",
    "    lista_produtos.append(produto(pid, des))\n",
    "\n",
    "print(type(lista_produtos))\n",
    "print(type(lista_produtos[3]))\n",
    "\n",
    "lista_produtos[3].set_valor(45.00)\n",
    "\n",
    "print(lista_produtos[0])\n",
    "print(lista_produtos[3])"
   ]
  },
  {
   "cell_type": "code",
   "execution_count": 58,
   "id": "3d01923a",
   "metadata": {},
   "outputs": [
    {
     "name": "stdout",
     "output_type": "stream",
     "text": [
      "(100, 'monitor', 0.0)\n",
      "(200, 'laptop', 0.0)\n",
      "(300, 'mouse', 89.0)\n",
      "(400, 'teclado', 45.0)\n",
      "(500, 'mouse gamer', 450.0)\n"
     ]
    }
   ],
   "source": [
    "#lista_produtos = []\n",
    "#for pid, des in zip(lista_ids, lista_desc):\n",
    "#    lista_produtos.append(produto(pid, des))\n",
    "  \n",
    "com_prod = [produto(pid,des) for pid,des in zip(lista_ids,lista_desc)]\n",
    "\n",
    "com_prod[2].set_valor(89.00)\n",
    "com_prod[3].set_valor(45.00)\n",
    "com_prod[4].set_valor(450.00)\n",
    "\n",
    "for p in com_prod:\n",
    "    print(p)"
   ]
  },
  {
   "cell_type": "code",
   "execution_count": 59,
   "id": "d1c69605",
   "metadata": {},
   "outputs": [],
   "source": [
    "def get_id(prod):\n",
    "    return prod.pid"
   ]
  },
  {
   "cell_type": "code",
   "execution_count": 65,
   "id": "70a392c3",
   "metadata": {},
   "outputs": [
    {
     "data": {
      "text/plain": [
       "300"
      ]
     },
     "execution_count": 65,
     "metadata": {},
     "output_type": "execute_result"
    }
   ],
   "source": [
    "get_id(com_prod[2])"
   ]
  },
  {
   "cell_type": "code",
   "execution_count": 66,
   "id": "8fa05746",
   "metadata": {},
   "outputs": [
    {
     "name": "stdout",
     "output_type": "stream",
     "text": [
      "(100, 'monitor', 0.0)\n",
      "(200, 'laptop', 0.0)\n",
      "(300, 'mouse', 89.0)\n",
      "(400, 'teclado', 45.0)\n",
      "(500, 'mouse gamer', 450.0)\n"
     ]
    }
   ],
   "source": [
    "for p in com_prod:\n",
    "    print(p)"
   ]
  },
  {
   "cell_type": "code",
   "execution_count": 70,
   "id": "91a212c3",
   "metadata": {},
   "outputs": [
    {
     "name": "stdout",
     "output_type": "stream",
     "text": [
      "(200, 'laptop', 0.0)\n",
      "(100, 'monitor', 0.0)\n",
      "(300, 'mouse', 89.0)\n",
      "(500, 'mouse gamer', 450.0)\n",
      "(400, 'teclado', 45.0)\n"
     ]
    }
   ],
   "source": [
    "for p in sorted(com_prod, key = lambda p: p.descricao):\n",
    "    print(p)"
   ]
  },
  {
   "cell_type": "code",
   "execution_count": 71,
   "id": "a9d0909b",
   "metadata": {},
   "outputs": [
    {
     "name": "stdout",
     "output_type": "stream",
     "text": [
      "(100, 'monitor', 0.0)\n",
      "(200, 'laptop', 0.0)\n",
      "(400, 'teclado', 45.0)\n",
      "(300, 'mouse', 89.0)\n",
      "(500, 'mouse gamer', 450.0)\n"
     ]
    }
   ],
   "source": [
    "for p in com_prod:\n",
    "    print(p)"
   ]
  },
  {
   "cell_type": "code",
   "execution_count": 72,
   "id": "d658ea53",
   "metadata": {},
   "outputs": [
    {
     "name": "stdout",
     "output_type": "stream",
     "text": [
      "(200, 'laptop', 0.0)\n",
      "(100, 'monitor', 0.0)\n",
      "(300, 'mouse', 89.0)\n",
      "(500, 'mouse gamer', 450.0)\n",
      "(400, 'teclado', 45.0)\n"
     ]
    }
   ],
   "source": [
    "com_prod.sort(key = lambda p: p.descricao)\n",
    "\n",
    "for p in com_prod:\n",
    "    print(p)"
   ]
  },
  {
   "cell_type": "code",
   "execution_count": 23,
   "id": "59223f53",
   "metadata": {},
   "outputs": [
    {
     "name": "stdout",
     "output_type": "stream",
     "text": [
      "[100, 200, 300, 400]\n",
      "[100, 200, 300, 400]\n"
     ]
    }
   ],
   "source": [
    "## quero criar ids sempre comecando em 100 e incrementando de 100 em 100\n",
    "## 100, 200, 300, 400, 500, .... \n",
    "tam_lista = 4\n",
    "\n",
    "lista_ids = []\n",
    "for v in range(1,tam_lista+1):\n",
    "    lista_ids.append(v*100)\n",
    "print(lista_ids)\n",
    "\n",
    "# append(v*100)   para cada v no intervalo entre [1,tam_lista+1)\n",
    "lista_ids = [v*100 for v in range(1,tam_lista+1)]\n",
    "print(lista_ids)"
   ]
  },
  {
   "cell_type": "code",
   "execution_count": null,
   "id": "25bb51c8",
   "metadata": {},
   "outputs": [],
   "source": []
  }
 ],
 "metadata": {
  "kernelspec": {
   "display_name": "Python 3",
   "language": "python",
   "name": "python3"
  },
  "language_info": {
   "codemirror_mode": {
    "name": "ipython",
    "version": 3
   },
   "file_extension": ".py",
   "mimetype": "text/x-python",
   "name": "python",
   "nbconvert_exporter": "python",
   "pygments_lexer": "ipython3",
   "version": "3.9.5"
  }
 },
 "nbformat": 4,
 "nbformat_minor": 5
}
