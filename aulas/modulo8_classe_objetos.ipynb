{
 "cells": [
  {
   "cell_type": "markdown",
   "id": "d7f75268",
   "metadata": {},
   "source": [
    "## Programação Orientada a Objetos em Python"
   ]
  },
  {
   "cell_type": "code",
   "execution_count": 4,
   "id": "2318cc51",
   "metadata": {},
   "outputs": [],
   "source": [
    "valor = 12 # estado na memória = 00001100"
   ]
  },
  {
   "cell_type": "markdown",
   "id": "f40cb9ae",
   "metadata": {},
   "source": [
    "Inteiro (sem sinal) na memória\n",
    "\n",
    "32 Bits\n",
    "\n",
    "primeiros 8 bits\n",
    "\n",
    "00000000 - 0<br> \n",
    "00000001 - 1<br>\n",
    "00000010 - 2<br>\n",
    "00000011 - 3<br>\n",
    "00000100 - 4<br>\n",
    "...<br>\n",
    "00001000 - 8<br>\n",
    "...<br>\n",
    "00001100 - 12<br>\n",
    "\n",
    "\n"
   ]
  },
  {
   "cell_type": "code",
   "execution_count": 5,
   "id": "35bef1c7",
   "metadata": {},
   "outputs": [
    {
     "name": "stdout",
     "output_type": "stream",
     "text": [
      "17\n"
     ]
    }
   ],
   "source": [
    "# objetos tem comportamento\n",
    "print(valor+5)"
   ]
  },
  {
   "cell_type": "code",
   "execution_count": 8,
   "id": "868ba87b",
   "metadata": {},
   "outputs": [
    {
     "name": "stdout",
     "output_type": "stream",
     "text": [
      "12\n",
      "[12]\n"
     ]
    }
   ],
   "source": [
    "lista_valor = [12]\n",
    "print(valor)\n",
    "print(lista_valor)"
   ]
  },
  {
   "cell_type": "code",
   "execution_count": 9,
   "id": "4eef2e68",
   "metadata": {},
   "outputs": [
    {
     "name": "stdout",
     "output_type": "stream",
     "text": [
      "[12, 5]\n"
     ]
    }
   ],
   "source": [
    "print(lista_valor+[5])"
   ]
  },
  {
   "cell_type": "code",
   "execution_count": 10,
   "id": "ef306852",
   "metadata": {},
   "outputs": [
    {
     "name": "stdout",
     "output_type": "stream",
     "text": [
      "[12, 13]\n"
     ]
    }
   ],
   "source": [
    "lista_valor.append(13)\n",
    "print(lista_valor)"
   ]
  },
  {
   "cell_type": "code",
   "execution_count": 11,
   "id": "320b260d",
   "metadata": {},
   "outputs": [
    {
     "data": {
      "text/plain": [
       "2"
      ]
     },
     "execution_count": 11,
     "metadata": {},
     "output_type": "execute_result"
    }
   ],
   "source": [
    "len(lista_valor)"
   ]
  },
  {
   "cell_type": "code",
   "execution_count": 12,
   "id": "ea664f04",
   "metadata": {},
   "outputs": [
    {
     "ename": "TypeError",
     "evalue": "object of type 'int' has no len()",
     "output_type": "error",
     "traceback": [
      "\u001b[0;31m---------------------------------------------------------------------------\u001b[0m",
      "\u001b[0;31mTypeError\u001b[0m                                 Traceback (most recent call last)",
      "\u001b[0;32m<ipython-input-12-1aa5800ed6c5>\u001b[0m in \u001b[0;36m<module>\u001b[0;34m\u001b[0m\n\u001b[0;32m----> 1\u001b[0;31m \u001b[0mlen\u001b[0m\u001b[0;34m(\u001b[0m\u001b[0mvalor\u001b[0m\u001b[0;34m)\u001b[0m\u001b[0;34m\u001b[0m\u001b[0;34m\u001b[0m\u001b[0m\n\u001b[0m",
      "\u001b[0;31mTypeError\u001b[0m: object of type 'int' has no len()"
     ]
    }
   ],
   "source": [
    "len(valor)"
   ]
  },
  {
   "cell_type": "code",
   "execution_count": 13,
   "id": "f2b78607",
   "metadata": {},
   "outputs": [
    {
     "data": {
      "text/plain": [
       "4"
      ]
     },
     "execution_count": 13,
     "metadata": {},
     "output_type": "execute_result"
    }
   ],
   "source": [
    "valor.bit_length()"
   ]
  },
  {
   "cell_type": "code",
   "execution_count": 15,
   "id": "aaf52d8c",
   "metadata": {},
   "outputs": [
    {
     "name": "stdout",
     "output_type": "stream",
     "text": [
      "5\n"
     ]
    }
   ],
   "source": [
    "# 12 = 1100\n",
    "# 13 = 1101\n",
    "# 14 = 1110\n",
    "# 15 = 1111\n",
    "# 16 =10000\n",
    "valor2 = 16\n",
    "print(valor2.bit_length())"
   ]
  },
  {
   "cell_type": "code",
   "execution_count": 18,
   "id": "30e48799",
   "metadata": {},
   "outputs": [
    {
     "name": "stdout",
     "output_type": "stream",
     "text": [
      "<class 'str'>\n",
      "1\n"
     ]
    }
   ],
   "source": [
    "string = 'u'\n",
    "print(type(string))\n",
    "print(len(string))"
   ]
  },
  {
   "cell_type": "code",
   "execution_count": 20,
   "id": "d48b4339",
   "metadata": {},
   "outputs": [
    {
     "ename": "AttributeError",
     "evalue": "'list' object has no attribute 'bit_length'",
     "output_type": "error",
     "traceback": [
      "\u001b[0;31m---------------------------------------------------------------------------\u001b[0m",
      "\u001b[0;31mAttributeError\u001b[0m                            Traceback (most recent call last)",
      "\u001b[0;32m<ipython-input-20-57533d670b3b>\u001b[0m in \u001b[0;36m<module>\u001b[0;34m\u001b[0m\n\u001b[0;32m----> 1\u001b[0;31m \u001b[0mprint\u001b[0m\u001b[0;34m(\u001b[0m\u001b[0mlista_valor\u001b[0m\u001b[0;34m.\u001b[0m\u001b[0mbit_length\u001b[0m\u001b[0;34m(\u001b[0m\u001b[0;34m)\u001b[0m\u001b[0;34m)\u001b[0m\u001b[0;34m\u001b[0m\u001b[0;34m\u001b[0m\u001b[0m\n\u001b[0m",
      "\u001b[0;31mAttributeError\u001b[0m: 'list' object has no attribute 'bit_length'"
     ]
    }
   ],
   "source": [
    "print(lista_valor.bit_length())"
   ]
  },
  {
   "cell_type": "code",
   "execution_count": 21,
   "id": "fc867587",
   "metadata": {},
   "outputs": [],
   "source": [
    "import produto"
   ]
  },
  {
   "cell_type": "code",
   "execution_count": 22,
   "id": "a9803bcf",
   "metadata": {},
   "outputs": [
    {
     "name": "stdout",
     "output_type": "stream",
     "text": [
      "Help on module produto:\n",
      "\n",
      "NAME\n",
      "    produto\n",
      "\n",
      "CLASSES\n",
      "    builtins.object\n",
      "        produto\n",
      "    \n",
      "    class produto(builtins.object)\n",
      "     |  Data descriptors defined here:\n",
      "     |  \n",
      "     |  __dict__\n",
      "     |      dictionary for instance variables (if defined)\n",
      "     |  \n",
      "     |  __weakref__\n",
      "     |      list of weak references to the object (if defined)\n",
      "     |  \n",
      "     |  ----------------------------------------------------------------------\n",
      "     |  Data and other attributes defined here:\n",
      "     |  \n",
      "     |  descricao = ''\n",
      "     |  \n",
      "     |  pid = 0\n",
      "     |  \n",
      "     |  valor = 0.0\n",
      "\n",
      "FILE\n",
      "    /home/maponti/Repos/intro_program_python/aulas/produto.py\n",
      "\n",
      "\n"
     ]
    }
   ],
   "source": [
    "help(produto)"
   ]
  },
  {
   "cell_type": "code",
   "execution_count": 23,
   "id": "b5ad09e1",
   "metadata": {},
   "outputs": [],
   "source": [
    "x = int()\n",
    "lista_vazia = list()"
   ]
  },
  {
   "cell_type": "code",
   "execution_count": 29,
   "id": "85cfcabc",
   "metadata": {},
   "outputs": [],
   "source": [
    "import produto"
   ]
  },
  {
   "cell_type": "code",
   "execution_count": 30,
   "id": "4f06608c",
   "metadata": {},
   "outputs": [],
   "source": [
    "p1 = produto.produto()"
   ]
  },
  {
   "cell_type": "code",
   "execution_count": 31,
   "id": "a7c7b015",
   "metadata": {},
   "outputs": [],
   "source": [
    "from produto import produto"
   ]
  },
  {
   "cell_type": "code",
   "execution_count": 32,
   "id": "22d8868c",
   "metadata": {},
   "outputs": [],
   "source": [
    "p2 = produto()"
   ]
  },
  {
   "cell_type": "code",
   "execution_count": 1,
   "id": "ec096c25",
   "metadata": {},
   "outputs": [],
   "source": [
    "import produto as p"
   ]
  },
  {
   "cell_type": "code",
   "execution_count": 2,
   "id": "ec129b53",
   "metadata": {},
   "outputs": [],
   "source": [
    "p3 = p.produto(1, 'laptop', -555)"
   ]
  },
  {
   "cell_type": "code",
   "execution_count": 3,
   "id": "67700132",
   "metadata": {},
   "outputs": [
    {
     "data": {
      "text/plain": [
       "1"
      ]
     },
     "execution_count": 3,
     "metadata": {},
     "output_type": "execute_result"
    }
   ],
   "source": [
    "p3.pid"
   ]
  },
  {
   "cell_type": "code",
   "execution_count": 4,
   "id": "01c779bd",
   "metadata": {},
   "outputs": [
    {
     "data": {
      "text/plain": [
       "0.0"
      ]
     },
     "execution_count": 4,
     "metadata": {},
     "output_type": "execute_result"
    }
   ],
   "source": [
    "p3.valor"
   ]
  },
  {
   "cell_type": "code",
   "execution_count": 5,
   "id": "6bc8ad54",
   "metadata": {},
   "outputs": [
    {
     "name": "stdout",
     "output_type": "stream",
     "text": [
      "0.0\n"
     ]
    }
   ],
   "source": [
    "p3.set_valor_sem_self(1999.90)\n",
    "print(p3.valor)"
   ]
  },
  {
   "cell_type": "code",
   "execution_count": 7,
   "id": "1374d608",
   "metadata": {},
   "outputs": [
    {
     "name": "stdout",
     "output_type": "stream",
     "text": [
      "1999.9\n"
     ]
    }
   ],
   "source": [
    "# set_valor(self = p3, pv = 1999.90)\n",
    "p3.set_valor(1999.90)\n",
    "print(p3.valor)"
   ]
  },
  {
   "cell_type": "code",
   "execution_count": 8,
   "id": "a6cf52a7",
   "metadata": {},
   "outputs": [
    {
     "name": "stdout",
     "output_type": "stream",
     "text": [
      "[1000]\n"
     ]
    }
   ],
   "source": [
    "lista_vazia = list()\n",
    "\n",
    "# self que recebe lista_vazia\n",
    "lista_vazia.append(1000)\n",
    "print(lista_vazia)"
   ]
  },
  {
   "cell_type": "code",
   "execution_count": 1,
   "id": "60d38a62",
   "metadata": {},
   "outputs": [],
   "source": [
    "from produto import produto"
   ]
  },
  {
   "cell_type": "code",
   "execution_count": 2,
   "id": "96fb4657",
   "metadata": {},
   "outputs": [],
   "source": [
    "p1 = produto(2, 'laptop', 1000)"
   ]
  },
  {
   "cell_type": "code",
   "execution_count": 3,
   "id": "3c534966",
   "metadata": {},
   "outputs": [
    {
     "name": "stdout",
     "output_type": "stream",
     "text": [
      "laptop\n"
     ]
    }
   ],
   "source": [
    "print(p1.descricao)"
   ]
  },
  {
   "cell_type": "code",
   "execution_count": 4,
   "id": "bcef639e",
   "metadata": {},
   "outputs": [],
   "source": [
    "p1.set_descricao(p1,'monitor')"
   ]
  },
  {
   "cell_type": "code",
   "execution_count": 5,
   "id": "7fe94ad9",
   "metadata": {},
   "outputs": [
    {
     "data": {
      "text/plain": [
       "'monitor'"
      ]
     },
     "execution_count": 5,
     "metadata": {},
     "output_type": "execute_result"
    }
   ],
   "source": [
    "p1.descricao"
   ]
  },
  {
   "cell_type": "code",
   "execution_count": 6,
   "id": "41ac7b05",
   "metadata": {},
   "outputs": [],
   "source": [
    "def altera_id(meu_self, novo_id):\n",
    "    meu_self.pid = novo_id"
   ]
  },
  {
   "cell_type": "code",
   "execution_count": 7,
   "id": "00880b2f",
   "metadata": {},
   "outputs": [
    {
     "name": "stdout",
     "output_type": "stream",
     "text": [
      "11111\n"
     ]
    }
   ],
   "source": [
    "altera_id(p1, 11111)\n",
    "print(p1.pid)"
   ]
  },
  {
   "cell_type": "code",
   "execution_count": 8,
   "id": "6b9e9aa3",
   "metadata": {},
   "outputs": [
    {
     "name": "stdout",
     "output_type": "stream",
     "text": [
      "999\n"
     ]
    }
   ],
   "source": [
    "## muito mais intuitiva e fácil\n",
    "p1.set_id(999)\n",
    "\n",
    "print(p1.pid)"
   ]
  },
  {
   "cell_type": "code",
   "execution_count": 9,
   "id": "9fd2dfa3",
   "metadata": {},
   "outputs": [],
   "source": [
    "p1.quant = 111"
   ]
  },
  {
   "cell_type": "code",
   "execution_count": 1,
   "id": "5b3d9e95",
   "metadata": {},
   "outputs": [],
   "source": [
    "from produto import produto\n",
    "\n",
    "p1 = produto(2, 'laptop', 1000)\n",
    "p2 = produto(3, 'monitor', 699)\n"
   ]
  },
  {
   "cell_type": "code",
   "execution_count": 2,
   "id": "c36c4cd3",
   "metadata": {},
   "outputs": [],
   "source": [
    "p1tupla = p1.as_tuple()"
   ]
  },
  {
   "cell_type": "code",
   "execution_count": 3,
   "id": "20682e87",
   "metadata": {},
   "outputs": [
    {
     "data": {
      "text/plain": [
       "1000"
      ]
     },
     "execution_count": 3,
     "metadata": {},
     "output_type": "execute_result"
    }
   ],
   "source": [
    "p1tupla[2]"
   ]
  },
  {
   "cell_type": "code",
   "execution_count": 4,
   "id": "1bc90d16",
   "metadata": {},
   "outputs": [
    {
     "name": "stdout",
     "output_type": "stream",
     "text": [
      "(2, 'laptop', 1000)\n"
     ]
    }
   ],
   "source": [
    "print(p1)"
   ]
  },
  {
   "cell_type": "code",
   "execution_count": 5,
   "id": "efde46b2",
   "metadata": {},
   "outputs": [
    {
     "name": "stdout",
     "output_type": "stream",
     "text": [
      "(3, 'monitor', 699)\n"
     ]
    }
   ],
   "source": [
    "print(p2)"
   ]
  },
  {
   "cell_type": "code",
   "execution_count": 6,
   "id": "b1fce456",
   "metadata": {},
   "outputs": [
    {
     "data": {
      "text/plain": [
       "10"
      ]
     },
     "execution_count": 6,
     "metadata": {},
     "output_type": "execute_result"
    }
   ],
   "source": [
    "p2.compra(10)"
   ]
  },
  {
   "cell_type": "code",
   "execution_count": 7,
   "id": "ab7bd924",
   "metadata": {},
   "outputs": [
    {
     "data": {
      "text/plain": [
       "44"
      ]
     },
     "execution_count": 7,
     "metadata": {},
     "output_type": "execute_result"
    }
   ],
   "source": [
    "p2.compra(34)"
   ]
  },
  {
   "cell_type": "code",
   "execution_count": 8,
   "id": "f43a2fc5",
   "metadata": {},
   "outputs": [
    {
     "data": {
      "text/plain": [
       "43"
      ]
     },
     "execution_count": 8,
     "metadata": {},
     "output_type": "execute_result"
    }
   ],
   "source": [
    "p2.venda()"
   ]
  },
  {
   "cell_type": "code",
   "execution_count": 9,
   "id": "2f1d63ba",
   "metadata": {},
   "outputs": [
    {
     "data": {
      "text/plain": [
       "42"
      ]
     },
     "execution_count": 9,
     "metadata": {},
     "output_type": "execute_result"
    }
   ],
   "source": [
    "p2.venda()"
   ]
  },
  {
   "cell_type": "code",
   "execution_count": 10,
   "id": "b19abc35",
   "metadata": {},
   "outputs": [
    {
     "data": {
      "text/plain": [
       "41"
      ]
     },
     "execution_count": 10,
     "metadata": {},
     "output_type": "execute_result"
    }
   ],
   "source": [
    "p2.venda()"
   ]
  },
  {
   "cell_type": "code",
   "execution_count": 11,
   "id": "7933b5d8",
   "metadata": {},
   "outputs": [
    {
     "name": "stdout",
     "output_type": "stream",
     "text": [
      "Em falta\n"
     ]
    },
    {
     "data": {
      "text/plain": [
       "-1"
      ]
     },
     "execution_count": 11,
     "metadata": {},
     "output_type": "execute_result"
    }
   ],
   "source": [
    "p1.venda()"
   ]
  },
  {
   "cell_type": "code",
   "execution_count": null,
   "id": "6c9db7ec",
   "metadata": {},
   "outputs": [],
   "source": []
  }
 ],
 "metadata": {
  "kernelspec": {
   "display_name": "Python 3",
   "language": "python",
   "name": "python3"
  },
  "language_info": {
   "codemirror_mode": {
    "name": "ipython",
    "version": 3
   },
   "file_extension": ".py",
   "mimetype": "text/x-python",
   "name": "python",
   "nbconvert_exporter": "python",
   "pygments_lexer": "ipython3",
   "version": "3.9.5"
  }
 },
 "nbformat": 4,
 "nbformat_minor": 5
}
