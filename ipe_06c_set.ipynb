{
 "cells": [
  {
   "cell_type": "markdown",
   "metadata": {},
   "source": [
    "<span style=\"color:green\">Introdução à Programação para Engenharias - scc0124</span>\n",
    "\n",
    "<span style=\"color:blue\">*Conjuntos*</span><br>\n",
    "\n",
    "*Moacir A. Ponti*<br>\n",
    "*ICMC/USP São Carlos*"
   ]
  },
  {
   "cell_type": "markdown",
   "metadata": {},
   "source": [
    "## `set` (conjunto)\n",
    "\n",
    "Implementado para possuir propriedades de um conjunto matemático.\n",
    "\n",
    "- armazena uma coleção de itens imutáveis, sem permitir duplicatas\n",
    "\n",
    "Suporta operadores de conjunto como por exemplo:\n",
    "- pertencimento\n",
    "- intersecção\n",
    "- união\n",
    "- diferença simétrica\n",
    "\n",
    "Sintaxe para um conjunto com `n` elementos:\n",
    "```\n",
    "{<item 1>, <item 2>, ... <item n>}\n",
    "```\n",
    "\n",
    "Note que a sintaxe é muito similar ao dicionário, mas aqui não temos pares `chave:valor`"
   ]
  },
  {
   "cell_type": "markdown",
   "metadata": {},
   "source": [
    "---\n",
    "\n",
    "Suponha que queiramos armazenar nomes das disciplinas de cursos"
   ]
  },
  {
   "cell_type": "code",
   "execution_count": 30,
   "metadata": {},
   "outputs": [],
   "source": [
    "eng_producao = {'Programação', 'Cálculo', 'Manufatura Discreta'}"
   ]
  },
  {
   "cell_type": "code",
   "execution_count": 31,
   "metadata": {},
   "outputs": [
    {
     "data": {
      "text/plain": [
       "set"
      ]
     },
     "execution_count": 31,
     "metadata": {},
     "output_type": "execute_result"
    }
   ],
   "source": [
    "type(eng_producao)"
   ]
  },
  {
   "cell_type": "code",
   "execution_count": 32,
   "metadata": {},
   "outputs": [
    {
     "name": "stdout",
     "output_type": "stream",
     "text": [
      "{'Programação', 'Cálculo', 'Manufatura Discreta'}\n"
     ]
    }
   ],
   "source": [
    "print(eng_producao)"
   ]
  },
  {
   "cell_type": "code",
   "execution_count": 103,
   "metadata": {},
   "outputs": [],
   "source": [
    "eng_eletrica = {'Programação', 'Cálculo', 'Isostática', 'Cálculo', 'Sinais e Sistemas'}"
   ]
  },
  {
   "cell_type": "code",
   "execution_count": 34,
   "metadata": {},
   "outputs": [
    {
     "name": "stdout",
     "output_type": "stream",
     "text": [
      "{'Programação', 'Cálculo', 'Isostática', 'Sinais e Sistemas'}\n"
     ]
    }
   ],
   "source": [
    "print(eng_eletrica)"
   ]
  },
  {
   "cell_type": "markdown",
   "metadata": {},
   "source": [
    "Mesmo atribuindo valores duplicados, o `set()` não registra a duplicidade"
   ]
  },
  {
   "cell_type": "markdown",
   "metadata": {},
   "source": [
    "---\n",
    "\n",
    "### Operadores de conjuntos\n",
    "\n",
    "#### `in`: pertencimento"
   ]
  },
  {
   "cell_type": "code",
   "execution_count": 35,
   "metadata": {},
   "outputs": [
    {
     "data": {
      "text/plain": [
       "True"
      ]
     },
     "execution_count": 35,
     "metadata": {},
     "output_type": "execute_result"
    }
   ],
   "source": [
    "'Cálculo' in eng_eletrica"
   ]
  },
  {
   "cell_type": "code",
   "execution_count": 36,
   "metadata": {},
   "outputs": [
    {
     "data": {
      "text/plain": [
       "False"
      ]
     },
     "execution_count": 36,
     "metadata": {},
     "output_type": "execute_result"
    }
   ],
   "source": [
    "'Inteligência Artificial' in eng_producao"
   ]
  },
  {
   "cell_type": "code",
   "execution_count": 37,
   "metadata": {},
   "outputs": [
    {
     "data": {
      "text/plain": [
       "True"
      ]
     },
     "execution_count": 37,
     "metadata": {},
     "output_type": "execute_result"
    }
   ],
   "source": [
    "'Manufatura Discreta' not in eng_eletrica"
   ]
  },
  {
   "cell_type": "markdown",
   "metadata": {},
   "source": [
    "#### `==` igualdade\n"
   ]
  },
  {
   "cell_type": "code",
   "execution_count": 38,
   "metadata": {},
   "outputs": [
    {
     "data": {
      "text/plain": [
       "False"
      ]
     },
     "execution_count": 38,
     "metadata": {},
     "output_type": "execute_result"
    }
   ],
   "source": [
    "eng_eletrica == eng_producao"
   ]
  },
  {
   "cell_type": "code",
   "execution_count": 52,
   "metadata": {},
   "outputs": [],
   "source": [
    "# só é verdadeiro se ambos contiverem exatamente os mesmos itens\n",
    "set1 = {1, 2, 3, 4, 5}\n",
    "set2 = {1, 2, 3, 4, 5}\n",
    "set3 = {1, 2, 3}\n",
    "set4 = {3, 4, 5}"
   ]
  },
  {
   "cell_type": "code",
   "execution_count": 53,
   "metadata": {},
   "outputs": [
    {
     "data": {
      "text/plain": [
       "True"
      ]
     },
     "execution_count": 53,
     "metadata": {},
     "output_type": "execute_result"
    }
   ],
   "source": [
    "set1 == set2"
   ]
  },
  {
   "cell_type": "markdown",
   "metadata": {},
   "source": [
    "#### `<=` está contido"
   ]
  },
  {
   "cell_type": "code",
   "execution_count": 54,
   "metadata": {},
   "outputs": [
    {
     "data": {
      "text/plain": [
       "True"
      ]
     },
     "execution_count": 54,
     "metadata": {},
     "output_type": "execute_result"
    }
   ],
   "source": [
    "set1 <= set2"
   ]
  },
  {
   "cell_type": "code",
   "execution_count": 55,
   "metadata": {},
   "outputs": [
    {
     "data": {
      "text/plain": [
       "True"
      ]
     },
     "execution_count": 55,
     "metadata": {},
     "output_type": "execute_result"
    }
   ],
   "source": [
    "set3 <= set1"
   ]
  },
  {
   "cell_type": "code",
   "execution_count": 56,
   "metadata": {},
   "outputs": [
    {
     "data": {
      "text/plain": [
       "False"
      ]
     },
     "execution_count": 56,
     "metadata": {},
     "output_type": "execute_result"
    }
   ],
   "source": [
    "set1 <= set3"
   ]
  },
  {
   "cell_type": "markdown",
   "metadata": {},
   "source": [
    "#### `|` União (operador lógico OU)"
   ]
  },
  {
   "cell_type": "code",
   "execution_count": 58,
   "metadata": {},
   "outputs": [
    {
     "name": "stdout",
     "output_type": "stream",
     "text": [
      "{1, 2, 3}\n",
      "{3, 4, 5}\n",
      "{1, 2, 3, 4, 5}\n"
     ]
    }
   ],
   "source": [
    "print(set3)\n",
    "print(set4)\n",
    "print(set3 | set4)"
   ]
  },
  {
   "cell_type": "markdown",
   "metadata": {},
   "source": [
    "####  `&` Intersecção (operador lógico E)"
   ]
  },
  {
   "cell_type": "code",
   "execution_count": 59,
   "metadata": {},
   "outputs": [
    {
     "name": "stdout",
     "output_type": "stream",
     "text": [
      "{3}\n"
     ]
    }
   ],
   "source": [
    "print(set3 & set4)"
   ]
  },
  {
   "cell_type": "markdown",
   "metadata": {},
   "source": [
    "#### `-` Diferença"
   ]
  },
  {
   "cell_type": "code",
   "execution_count": 62,
   "metadata": {},
   "outputs": [
    {
     "name": "stdout",
     "output_type": "stream",
     "text": [
      "{1, 2, 3}\n",
      "{3, 4, 5}\n"
     ]
    }
   ],
   "source": [
    "print(set3)\n",
    "print(set4)"
   ]
  },
  {
   "cell_type": "code",
   "execution_count": 60,
   "metadata": {},
   "outputs": [
    {
     "data": {
      "text/plain": [
       "{1, 2}"
      ]
     },
     "execution_count": 60,
     "metadata": {},
     "output_type": "execute_result"
    }
   ],
   "source": [
    "set3 - set4"
   ]
  },
  {
   "cell_type": "code",
   "execution_count": 61,
   "metadata": {},
   "outputs": [
    {
     "data": {
      "text/plain": [
       "{4, 5}"
      ]
     },
     "execution_count": 61,
     "metadata": {},
     "output_type": "execute_result"
    }
   ],
   "source": [
    "set4 - set3"
   ]
  },
  {
   "cell_type": "markdown",
   "metadata": {},
   "source": [
    "#### `^` Diferença simétrica"
   ]
  },
  {
   "cell_type": "code",
   "execution_count": 64,
   "metadata": {},
   "outputs": [
    {
     "data": {
      "text/plain": [
       "{1, 2, 4, 5}"
      ]
     },
     "execution_count": 64,
     "metadata": {},
     "output_type": "execute_result"
    }
   ],
   "source": [
    "set3 ^ set4"
   ]
  },
  {
   "cell_type": "code",
   "execution_count": 65,
   "metadata": {},
   "outputs": [
    {
     "data": {
      "text/plain": [
       "{1, 2, 4, 5}"
      ]
     },
     "execution_count": 65,
     "metadata": {},
     "output_type": "execute_result"
    }
   ],
   "source": [
    "set4 ^ set3"
   ]
  },
  {
   "cell_type": "markdown",
   "metadata": {},
   "source": [
    "---\n",
    "\n",
    "### Métodos de `set`\n",
    "\n",
    "* `add()` adiciona novo item\n",
    "* `remove()` remove um item\n",
    "* `clear()` remove todos os elementos\n",
    "\n"
   ]
  },
  {
   "cell_type": "code",
   "execution_count": 66,
   "metadata": {},
   "outputs": [
    {
     "name": "stdout",
     "output_type": "stream",
     "text": [
      "{'Programação', 'Cálculo', 'Manufatura Discreta'}\n"
     ]
    }
   ],
   "source": [
    "print(eng_producao)"
   ]
  },
  {
   "cell_type": "code",
   "execution_count": 70,
   "metadata": {},
   "outputs": [
    {
     "name": "stdout",
     "output_type": "stream",
     "text": [
      "{'Cálculo', 'Programação', 'Teoria dos Grafos', 'Estatística', 'Sistemas e Métodos', 'Manufatura Discreta'}\n"
     ]
    }
   ],
   "source": [
    "eng_producao.add('Sistemas e Métodos')\n",
    "eng_producao.add('Estatística')\n",
    "eng_producao.add('Cálculo')\n",
    "eng_producao.add('Teoria dos Grafos')\n",
    "print(eng_producao)"
   ]
  },
  {
   "cell_type": "code",
   "execution_count": 71,
   "metadata": {},
   "outputs": [
    {
     "name": "stdout",
     "output_type": "stream",
     "text": [
      "{'Cálculo', 'Programação', 'Estatística', 'Sistemas e Métodos', 'Manufatura Discreta'}\n"
     ]
    }
   ],
   "source": [
    "eng_producao.remove('Teoria dos Grafos')\n",
    "print(eng_producao)"
   ]
  },
  {
   "cell_type": "code",
   "execution_count": 73,
   "metadata": {},
   "outputs": [
    {
     "name": "stdout",
     "output_type": "stream",
     "text": [
      "{1, 2, 3, 4, 5}\n",
      "set()\n"
     ]
    }
   ],
   "source": [
    "print(set2)\n",
    "set2.clear()\n",
    "print(set2)"
   ]
  },
  {
   "cell_type": "markdown",
   "metadata": {},
   "source": [
    "---\n",
    "\n",
    "#### <font color=\"blue\">Exercício 6c.1 </font>\n",
    "\n",
    "Com base nos conjuntos `cien_computacao`, `eng_producao` e `eng_eletrica` criados: \n",
    "\n",
    "* Insira `Geometria analítica` nos conjuntos dos 3 cursos\n",
    "* Remova `Isostática` de `cien_computacao`\n",
    "* Compute a intersecção entre os 3 cursos\n",
    "* Compute a diferença entre `eng_producao` e `eng_eletrica`\n",
    "* Verifique em quais dos 3 cursos está contido o conjunto  `{'Cálculo', 'Programação'}`"
   ]
  },
  {
   "cell_type": "markdown",
   "metadata": {},
   "source": [
    "---\n",
    "\n",
    "### Criando conjuntos a partir do zero\n"
   ]
  },
  {
   "cell_type": "code",
   "execution_count": 78,
   "metadata": {},
   "outputs": [],
   "source": [
    "cien_computacao = {}"
   ]
  },
  {
   "cell_type": "code",
   "execution_count": 79,
   "metadata": {},
   "outputs": [
    {
     "ename": "AttributeError",
     "evalue": "'dict' object has no attribute 'add'",
     "output_type": "error",
     "traceback": [
      "\u001b[0;31m---------------------------------------------------------------------------\u001b[0m",
      "\u001b[0;31mAttributeError\u001b[0m                            Traceback (most recent call last)",
      "\u001b[0;32m<ipython-input-79-c58d39949be8>\u001b[0m in \u001b[0;36m<module>\u001b[0;34m\u001b[0m\n\u001b[0;32m----> 1\u001b[0;31m \u001b[0mcien_computacao\u001b[0m\u001b[0;34m.\u001b[0m\u001b[0madd\u001b[0m\u001b[0;34m(\u001b[0m\u001b[0;34m'Estrutura de Dados'\u001b[0m\u001b[0;34m)\u001b[0m\u001b[0;34m\u001b[0m\u001b[0;34m\u001b[0m\u001b[0m\n\u001b[0m",
      "\u001b[0;31mAttributeError\u001b[0m: 'dict' object has no attribute 'add'"
     ]
    }
   ],
   "source": [
    "cien_computacao.add('Estrutura de Dados')"
   ]
  },
  {
   "cell_type": "code",
   "execution_count": 80,
   "metadata": {},
   "outputs": [
    {
     "data": {
      "text/plain": [
       "dict"
      ]
     },
     "execution_count": 80,
     "metadata": {},
     "output_type": "execute_result"
    }
   ],
   "source": [
    "type(cien_computacao)"
   ]
  },
  {
   "cell_type": "markdown",
   "metadata": {},
   "source": [
    "Opa! Chaves são usadas para dicionários e conjuntos. Por padrão definem dicionários.\n",
    "\n",
    "Então é preciso converter para o tipo set, ou usar a função \"construtura\" `set()`"
   ]
  },
  {
   "cell_type": "code",
   "execution_count": 84,
   "metadata": {},
   "outputs": [
    {
     "data": {
      "text/plain": [
       "set"
      ]
     },
     "execution_count": 84,
     "metadata": {},
     "output_type": "execute_result"
    }
   ],
   "source": [
    "cien_computacao = set({})\n",
    "type(cien_computacao)"
   ]
  },
  {
   "cell_type": "code",
   "execution_count": 87,
   "metadata": {},
   "outputs": [
    {
     "data": {
      "text/plain": [
       "set"
      ]
     },
     "execution_count": 87,
     "metadata": {},
     "output_type": "execute_result"
    }
   ],
   "source": [
    "cien_computacao2 = set()\n",
    "type(cien_computacao2)"
   ]
  },
  {
   "cell_type": "code",
   "execution_count": 89,
   "metadata": {},
   "outputs": [],
   "source": [
    "cien_computacao.add('Cálculo')\n",
    "cien_computacao.add('Teoria dos Grafos')\n",
    "cien_computacao.add('Estrutura de Dados')\n",
    "cien_computacao.add('Isostática')"
   ]
  },
  {
   "cell_type": "markdown",
   "metadata": {},
   "source": [
    "---\n",
    "\n",
    "### Removendo duplicatas com `set()`\n",
    "\n",
    "Para remover elementos duplicados em listas, podemos utilizar a conversão para `set()`.\n",
    "\n"
   ]
  },
  {
   "cell_type": "code",
   "execution_count": 94,
   "metadata": {},
   "outputs": [
    {
     "name": "stdout",
     "output_type": "stream",
     "text": [
      "[10, 45, 5, 1, 3, 1, 1, 45, 0, 10, 5, 2, 10, 1, 2, 4, 5, 1, 2, 3]\n",
      "Quantidade de valores na lista: 20\n"
     ]
    }
   ],
   "source": [
    "numeros = [10, 45, 5, 1, 3, 1, 1, 45, 0, 10, 5, 2, 10, 1, 2, 4, 5, 1, 2, 3]\n",
    "print(numeros)\n",
    "print(\"Quantidade de valores na lista:\", len(numeros))"
   ]
  },
  {
   "cell_type": "code",
   "execution_count": 95,
   "metadata": {},
   "outputs": [
    {
     "name": "stdout",
     "output_type": "stream",
     "text": [
      "[0, 1, 2, 3, 4, 5, 10, 45]\n",
      "Quantidade de valores únicos na lista: 8\n"
     ]
    }
   ],
   "source": [
    "valores_unicos = list(set(lista))\n",
    "print(valores_unicos)\n",
    "print(\"Quantidade de valores únicos na lista:\", len(valores_unicos))"
   ]
  },
  {
   "cell_type": "markdown",
   "metadata": {},
   "source": [
    "Note, no entanto, que perdemos a ordenação original dos elementos!"
   ]
  },
  {
   "cell_type": "markdown",
   "metadata": {},
   "source": [
    "---\n",
    "\n",
    "#### <font color=\"blue\">Exercício 6c.2 </font>\n",
    "\n",
    "Seja cada disciplina de um curso de graduação definida por seu nome e número de créditos por meio de uma tupla (nome, creditos).\n",
    "\n",
    "Implemente uma função que receba por parâmetro uma lista de conjuntos de disciplinas em tuplas (ver exemplo abaixo), e que retorne a união entre as disciplinas de todos os cursos."
   ]
  },
  {
   "cell_type": "code",
   "execution_count": 102,
   "metadata": {},
   "outputs": [
    {
     "name": "stdout",
     "output_type": "stream",
     "text": [
      "[{('Programação', 4), ('Isostática', 2), ('Cálculo', 4), ('Semicondutores', 2)}, {('Programação', 4), ('Manufatura Discreta', 2), ('Cálculo', 4)}, {('Programação', 4), ('Cálculo', 6), ('Análise real', 4), ('Seminários', 1)}]\n"
     ]
    }
   ],
   "source": [
    "eng_eletrica = {('Programação', 4), ('Cálculo',4), ('Isostática',2), ('Semicondutores', 2)}\n",
    "eng_producao = {('Programação', 4), ('Cálculo',4), ('Manufatura Discreta',2)}\n",
    "mat_aplicada = {('Programação', 4), ('Cálculo',6), ('Análise real', 4), ('Seminários', 1)}\n",
    "\n",
    "lista_cursos = [eng_eletrica, eng_producao, mat_aplicada]\n",
    "print(lista_cursos)"
   ]
  },
  {
   "cell_type": "code",
   "execution_count": null,
   "metadata": {},
   "outputs": [],
   "source": []
  },
  {
   "cell_type": "markdown",
   "metadata": {},
   "source": [
    "---\n",
    "\n",
    "#### <font color=\"blue\">Exercício 6c.3 </font>\n",
    "\n",
    "Crie uma nova função com base na anterior, que receba, além da lista de cursos, um parâmetro adicional `creditos_min` que define o número de créditos mínimos para que a disciplina seja inclusa no conjunto final a ser retornado.\n",
    "\n",
    "Ex: se for passado argumento `creditos_min=2`, então disciplinas com número de créditos menor do que 2 não são inclusas no conjunto retornado."
   ]
  },
  {
   "cell_type": "code",
   "execution_count": null,
   "metadata": {},
   "outputs": [],
   "source": []
  }
 ],
 "metadata": {
  "kernelspec": {
   "display_name": "Python 3",
   "language": "python",
   "name": "python3"
  },
  "language_info": {
   "codemirror_mode": {
    "name": "ipython",
    "version": 3
   },
   "file_extension": ".py",
   "mimetype": "text/x-python",
   "name": "python",
   "nbconvert_exporter": "python",
   "pygments_lexer": "ipython3",
   "version": "3.9.5"
  },
  "toc": {
   "base_numbering": 1,
   "nav_menu": {},
   "number_sections": true,
   "sideBar": true,
   "skip_h1_title": false,
   "title_cell": "Table of Contents",
   "title_sidebar": "Contents",
   "toc_cell": false,
   "toc_position": {},
   "toc_section_display": true,
   "toc_window_display": false
  }
 },
 "nbformat": 4,
 "nbformat_minor": 2
}
