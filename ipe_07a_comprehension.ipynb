{
 "cells": [
  {
   "cell_type": "markdown",
   "metadata": {},
   "source": [
    "<span style=\"color:green\">Introdução à Programação para Engenharias - scc0124</span>\n",
    "\n",
    "<span style=\"color:blue\">*Comprehension*</span><br>\n",
    "\n",
    "*Moacir A. Ponti*<br>\n",
    "*ICMC/USP São Carlos*"
   ]
  },
  {
   "cell_type": "markdown",
   "metadata": {},
   "source": [
    "# Comprehension\n",
    " \n",
    "Recurso que permite aplicar uma operação *para cada item de uma sequência* de forma eficiente. \n",
    "\n",
    "A sintaxe de um comprehension é:\n",
    "```\n",
    "lista = [expressao for variavel_local in objeto]\n",
    "```\n",
    "O resultado é equivalente a:\n",
    "```\n",
    "lista = []\n",
    "for variavel_local in objeto:\n",
    "    lista.append(expressao)\n",
    "```\n",
    "\n",
    "Porém, comprehension é executado de forma muito mais rápida. \n",
    "\n",
    "Tipicamente se emprega *comprehension* para construir listas ou dicionários.\n",
    "\n",
    "---\n",
    "\n",
    "Exemplo: criar uma lista com os valores entre -50 e 50 ao quadrado"
   ]
  },
  {
   "cell_type": "code",
   "execution_count": 1,
   "metadata": {},
   "outputs": [],
   "source": [
    "quadr = [x**2 for x in range(-50,51)]"
   ]
  },
  {
   "cell_type": "markdown",
   "metadata": {},
   "source": [
    "* `range(-50,51)` gera um intervalo entre -50 e 50\n",
    "* comprehension eleva ao quadrado cada número `x` nesse intervalo\n",
    "* o resultado é armazenado na lista `quadr`"
   ]
  },
  {
   "cell_type": "code",
   "execution_count": 2,
   "metadata": {},
   "outputs": [
    {
     "name": "stdout",
     "output_type": "stream",
     "text": [
      "[2500, 2401, 2304, 2209, 2116, 2025, 1936, 1849, 1764, 1681, 1600, 1521, 1444, 1369, 1296, 1225, 1156, 1089, 1024, 961, 900, 841, 784, 729, 676, 625, 576, 529, 484, 441, 400, 361, 324, 289, 256, 225, 196, 169, 144, 121, 100, 81, 64, 49, 36, 25, 16, 9, 4, 1, 0, 1, 4, 9, 16, 25, 36, 49, 64, 81, 100, 121, 144, 169, 196, 225, 256, 289, 324, 361, 400, 441, 484, 529, 576, 625, 676, 729, 784, 841, 900, 961, 1024, 1089, 1156, 1225, 1296, 1369, 1444, 1521, 1600, 1681, 1764, 1849, 1936, 2025, 2116, 2209, 2304, 2401, 2500]\n"
     ]
    }
   ],
   "source": [
    "print(quadr)"
   ]
  },
  {
   "cell_type": "code",
   "execution_count": 3,
   "metadata": {},
   "outputs": [],
   "source": [
    "quadr_for = []\n",
    "for x in range(-50,51):\n",
    "    quadr_for.append(x**2)"
   ]
  },
  {
   "cell_type": "code",
   "execution_count": 4,
   "metadata": {},
   "outputs": [
    {
     "name": "stdout",
     "output_type": "stream",
     "text": [
      "[2500, 2401, 2304, 2209, 2116, 2025, 1936, 1849, 1764, 1681, 1600, 1521, 1444, 1369, 1296, 1225, 1156, 1089, 1024, 961, 900, 841, 784, 729, 676, 625, 576, 529, 484, 441, 400, 361, 324, 289, 256, 225, 196, 169, 144, 121, 100, 81, 64, 49, 36, 25, 16, 9, 4, 1, 0, 1, 4, 9, 16, 25, 36, 49, 64, 81, 100, 121, 144, 169, 196, 225, 256, 289, 324, 361, 400, 441, 484, 529, 576, 625, 676, 729, 784, 841, 900, 961, 1024, 1089, 1156, 1225, 1296, 1369, 1444, 1521, 1600, 1681, 1764, 1849, 1936, 2025, 2116, 2209, 2304, 2401, 2500]\n"
     ]
    }
   ],
   "source": [
    "print(quadr_for)"
   ]
  },
  {
   "cell_type": "markdown",
   "metadata": {},
   "source": [
    "Podemos compará-los com o comando `%%timeit`"
   ]
  },
  {
   "cell_type": "markdown",
   "metadata": {},
   "source": [
    "> É possível omitir a variável local caso essa não seja necessária."
   ]
  },
  {
   "cell_type": "code",
   "execution_count": 5,
   "metadata": {},
   "outputs": [
    {
     "name": "stdout",
     "output_type": "stream",
     "text": [
      "[78, 34, 17, 99, 53, 25, 51, 93, 79, 17, 72, 17, 32, 89, 29, 90, 69, 61, 93, 9]\n"
     ]
    }
   ],
   "source": [
    "import random as rd\n",
    "\n",
    "n = 20\n",
    "rand_num = [rd.randint(1,100) for _ in range(n)]\n",
    "print(rand_num)"
   ]
  },
  {
   "cell_type": "markdown",
   "metadata": {},
   "source": [
    "---\n",
    "\n",
    "#### <font color=\"blue\">Exercício 7a.1 </font>\n",
    "\n",
    "Codifique uma função que use comprehension para retornar uma lista com `n` valores numéricos iniciando em 0 e  com passo `p` permitindo um número float como passo. Arredonde cada número para 5 casas decimais usando a função `round(,5)`\n",
    "\n",
    "Exemplo para n=8, p=0.05\n",
    "```\n",
    "[0.0, 0.05, 0.1, 0.15, 0.2, 0.25, 0.3, 0.35, 0.4]\n",
    "```"
   ]
  },
  {
   "cell_type": "code",
   "execution_count": 6,
   "metadata": {},
   "outputs": [],
   "source": [
    "def frange(n,p):\n",
    "    lista = [round(x*p,5) for x in range(n+1)]\n",
    "    return lista"
   ]
  },
  {
   "cell_type": "code",
   "execution_count": 7,
   "metadata": {},
   "outputs": [
    {
     "name": "stdout",
     "output_type": "stream",
     "text": [
      "9\n"
     ]
    }
   ],
   "source": [
    "lista = frange(8,0.05)\n",
    "print(len(lista))"
   ]
  },
  {
   "cell_type": "code",
   "execution_count": 8,
   "metadata": {},
   "outputs": [
    {
     "name": "stdout",
     "output_type": "stream",
     "text": [
      "[0.0, 0.05, 0.1, 0.15, 0.2, 0.25, 0.3, 0.35, 0.4]\n"
     ]
    }
   ],
   "source": [
    "print(lista)"
   ]
  },
  {
   "cell_type": "markdown",
   "metadata": {},
   "source": [
    "---\n",
    "## Compreehension com filtragem\n",
    "\n",
    "Combinado com `if` permite filtrar a sequência gerada\n",
    "```python\n",
    "variavel = [expressao for variavel_local in objeto if condicao]\n",
    "```\n",
    "\n",
    "O código acima é equivalente a:\n",
    "```\n",
    "variavel=[]\n",
    "for variavel_local in objeto:\n",
    "    if condicao:\n",
    "        variavel.append(expressao)\n",
    "```"
   ]
  },
  {
   "cell_type": "markdown",
   "metadata": {},
   "source": [
    "Gerar o quadrado dos números entre -20 e 20, e montar uma lista apenas com os números ímpares resultantes"
   ]
  },
  {
   "cell_type": "code",
   "execution_count": 9,
   "metadata": {},
   "outputs": [
    {
     "name": "stdout",
     "output_type": "stream",
     "text": [
      "[361, 289, 225, 169, 121, 81, 49, 25, 9, 1, 1, 9, 25, 49, 81, 121, 169, 225, 289, 361]\n"
     ]
    }
   ],
   "source": [
    "l = [x**2 for x in range(-20,21) if x%2 != 0]\n",
    "print(l)"
   ]
  },
  {
   "cell_type": "markdown",
   "metadata": {},
   "source": [
    "Notar que ali a condição se refere à variável local `x`"
   ]
  },
  {
   "cell_type": "markdown",
   "metadata": {},
   "source": [
    "#### Iterando por coleções\n",
    "\n",
    "Na aula sobre conjuntos havia um exercício com uma função que retornasse apenas disciplinas com um certo mínimo de créditos.\n",
    "\n",
    "Vamos fazer isso usando comprehensions"
   ]
  },
  {
   "cell_type": "code",
   "execution_count": 10,
   "metadata": {},
   "outputs": [],
   "source": [
    "disciplinas = {('Programação', 4), ('Cálculo',4), ('Isostática',2), ('Semicondutores', 2),\n",
    "                ('Manufatura Discreta',2), ('Análise real', 4), ('Seminários', 1), ('Processamento de Imagens', 3)}"
   ]
  },
  {
   "cell_type": "code",
   "execution_count": 11,
   "metadata": {},
   "outputs": [
    {
     "name": "stdout",
     "output_type": "stream",
     "text": [
      "[('Programação', 4), ('Processamento de Imagens', 3), ('Cálculo', 4), ('Análise real', 4)]\n"
     ]
    }
   ],
   "source": [
    "mincred = 3\n",
    "disciplinas_mincred = [(nome,cred) for (nome,cred) in disciplinas if cred >= mincred]\n",
    "print(disciplinas_mincred)"
   ]
  },
  {
   "cell_type": "code",
   "execution_count": 12,
   "metadata": {},
   "outputs": [
    {
     "name": "stdout",
     "output_type": "stream",
     "text": [
      "[('Programação', 4), ('Processamento de Imagens', 3), ('Cálculo', 4), ('Análise real', 4)]\n"
     ]
    }
   ],
   "source": [
    "disciplinas_mincred_for = list()\n",
    "for (nome,cred) in disciplinas:\n",
    "    if (cred >= mincred):\n",
    "        disciplinas_mincred_for.append((nome,cred))\n",
    "print(disciplinas_mincred_for)        "
   ]
  },
  {
   "cell_type": "code",
   "execution_count": 13,
   "metadata": {},
   "outputs": [
    {
     "data": {
      "text/plain": [
       "True"
      ]
     },
     "execution_count": 13,
     "metadata": {},
     "output_type": "execute_result"
    }
   ],
   "source": [
    "disciplinas_mincred == disciplinas_mincred_for"
   ]
  },
  {
   "cell_type": "markdown",
   "metadata": {},
   "source": [
    "### Usando `if-else`\n",
    "\n",
    "Podemos usar `else` mas nesse caso a estrutura deve vir **antes** do `for`:\n",
    "\n",
    "```python\n",
    "variavel = [<expressao> if <condicao> else <resultado_se_falso> for <variavel_local> in <objeto>]\n",
    "```"
   ]
  },
  {
   "cell_type": "markdown",
   "metadata": {},
   "source": [
    "> É útil quando temos um valor para substituir no caso em que a condição é falsa"
   ]
  },
  {
   "cell_type": "code",
   "execution_count": 14,
   "metadata": {},
   "outputs": [
    {
     "name": "stdout",
     "output_type": "stream",
     "text": [
      "[-1, 361, -1, 289, -1, 225, -1, 169, -1, 121, -1, 81, -1, 49, -1, 25, -1, 9, -1, 1, -1, 1, -1, 9, -1, 25, -1, 49, -1, 81, -1, 121, -1, 169, -1, 225, -1, 289, -1, 361, -1]\n"
     ]
    }
   ],
   "source": [
    "# computando o quadrado dos números entre -20 e 20. Se o resultado for par, substituir por -1\n",
    "l = [x**2 if x%2 != 0 else -1 for x in range(-20,21)]\n",
    "print(l)"
   ]
  },
  {
   "cell_type": "markdown",
   "metadata": {},
   "source": [
    "---\n",
    "\n",
    "#### <font color=\"blue\">Exercício 7a.2 </font>\n",
    "\n",
    "A partir de um vetor com números inteiros aleatórios, calcular seu `log` e criar uma lista com o resultado.\n",
    "* se o número for 0 substituir o valor por `nan` (not a number) da biblioteca `math` para indicar que o resultado não é numérico"
   ]
  },
  {
   "cell_type": "code",
   "execution_count": 15,
   "metadata": {},
   "outputs": [
    {
     "name": "stdout",
     "output_type": "stream",
     "text": [
      "[10, 7, 1, 2, 10, 2, 3, 7, 9, 9, 1, 2, 7, 2, 2, 7, 9, 3, 6, 3, 6, 3, 10, 7, 9]\n"
     ]
    }
   ],
   "source": [
    "import random as rd\n",
    "\n",
    "n = 25\n",
    "rand_num = [rd.randint(0,10) for _ in range(n)]\n",
    "print(rand_num)"
   ]
  },
  {
   "cell_type": "code",
   "execution_count": null,
   "metadata": {},
   "outputs": [],
   "source": []
  },
  {
   "cell_type": "markdown",
   "metadata": {},
   "source": [
    "## Comprehensions com iteração paralela em diferentes coleções\n",
    "\n",
    "Aninhando comprehensions:\n",
    "```\n",
    "lista = [<expressao> for <var1,var2,...> in zip(<colecao1>,<colecao2>,...)]\n",
    "```\n",
    "O resultado do comando acima é equivalente a:\n",
    "```python\n",
    "lista=[]\n",
    "for <var1,var2,...> in zip(<colecao1>,<colecao2>,...)\n",
    "    lista.append(expressao)\n",
    "```"
   ]
  },
  {
   "cell_type": "markdown",
   "metadata": {},
   "source": [
    "Há várias situações em que é interessante percorrer duas coleções ou sequências\n",
    "\n",
    "Para isso podemos usar a função `zip()` em que passamos as sequencias para o zip que irá retornar um elemento de cada por vez\n",
    "\n",
    "```\n",
    "zip(seq1, seq2, ... seq2n)\n",
    "```"
   ]
  },
  {
   "cell_type": "code",
   "execution_count": 18,
   "metadata": {},
   "outputs": [
    {
     "name": "stdout",
     "output_type": "stream",
     "text": [
      "[1, 2, 3, 4, 5, 6, 7, 8, 9]\n",
      "[0, 2, 4, 6, 8, 10, 12, 14, 16, 18, 20, 22, 24]\n",
      "(10, 20, 30, 40, 50, 60, 70, 80, 90)\n",
      "\n",
      "1 0 10\n",
      "2 2 20\n",
      "3 4 30\n",
      "4 6 40\n",
      "5 8 50\n",
      "6 10 60\n",
      "7 12 70\n",
      "8 14 80\n",
      "9 16 90\n"
     ]
    }
   ],
   "source": [
    "l1 = list(range(1,10))\n",
    "l2 = list(range(0,26,2))\n",
    "t1 = tuple(range(10,100,10))\n",
    "\n",
    "print(l1)\n",
    "print(l2)\n",
    "print(t1)\n",
    "print()\n",
    "\n",
    "for i,j,t in zip(l1, l2, t1):\n",
    "    print(i,j,t)"
   ]
  },
  {
   "cell_type": "markdown",
   "metadata": {},
   "source": [
    "Note que a  `l2` possui mais elementos, nesse caso o `for` vai nivelar pela sequência de menor tamanho\n",
    "\n",
    "---\n",
    "Combinando com comprehensions, vamos usar essa idéia para percorrer duas listas e montar uma nova lista em que copiamos os elementos iguais, e atribuímos `False` nas posições em que as listas são diferentes"
   ]
  },
  {
   "cell_type": "code",
   "execution_count": 19,
   "metadata": {},
   "outputs": [
    {
     "name": "stdout",
     "output_type": "stream",
     "text": [
      "[5, 5, 5, 1, 2, False, 4, 6, False, 7]\n"
     ]
    }
   ],
   "source": [
    "vals1 = [5, 5, 5, 1, 2, 3, 4, 6, 7, 7]\n",
    "vals2 = [5, 5, 5, 1, 2, 4, 4, 6, 6, 7]\n",
    "\n",
    "equal_pos = [x if x == y else False for (x,y) in zip(vals1, vals2)]\n",
    "print(equal_pos)"
   ]
  },
  {
   "cell_type": "markdown",
   "metadata": {},
   "source": [
    "---\n",
    "\n",
    "#### <font color=\"blue\">Exercício 7a.3 </font>\n",
    "\n",
    "Codifique uma função que receba como argumento duas listas de números com o mesmo tamanho. Use comprehension para retornar uma nova lista que é a multiplicação elemento-a-elemento das duas listas.  Caso as listas não possuam o mesmo tamanho emita uma mensagem de erro e retorne a constante `math.nan` do módulo `math`.\n",
    "\n",
    "Exemplo:\n",
    "```\n",
    "l1 = [1, 2, 3, 4, 5]\n",
    "l2 = [5, 5, 5, 10, 10]\n",
    "multiplica_listas(l1,l2)\n",
    "\n",
    "  [5, 10, 15, 40, 50]\n",
    "```"
   ]
  },
  {
   "cell_type": "markdown",
   "metadata": {},
   "source": [
    "---\n",
    "\n",
    "## Comprehensions Aninhados (Nested Loops)\n",
    "\n",
    "Aninhando comprehensions:\n",
    "```\n",
    "lista = [<expressao> for <var_local1> in <objeto1> if <condicao1>\n",
    "                        for <var_local2> in <objeto2> if <condicao2>]\n",
    "```\n",
    "O resultado do comando acima é equivalente a:\n",
    "```python\n",
    "lista=[]\n",
    "for var_local1 in objeto1:\n",
    "    if condicao1:\n",
    "        for var_local2 in objeto2:\n",
    "            if condicao2:\n",
    "                lista.append(expressao)\n",
    "```\n",
    "\n",
    "Uma aplicação é gerar o *produto cartesiano* entre duas coleções, ou seja, todas as combinações possíveis das duas coleções.\n",
    "\n",
    "Mais formalmente, se $A$ e $B$ são conjuntos, o seu produto cartesiano é o conjunto de todos os pares $(a,b)$ em que $a \\in A$ e $b \\in B$."
   ]
  },
  {
   "cell_type": "code",
   "execution_count": 20,
   "metadata": {},
   "outputs": [
    {
     "name": "stdout",
     "output_type": "stream",
     "text": [
      "Com comprehension: {('a', 30), ('a', 20), ('a', 10), ('b', 30), ('b', 20), ('b', 10)}\n",
      "Com for:           {('a', 30), ('a', 20), ('a', 10), ('b', 30), ('b', 20), ('b', 10)}\n"
     ]
    }
   ],
   "source": [
    "A = ['a', 'b']\n",
    "B = [10, 20, 30]\n",
    "\n",
    "prod_cart = {(a,b) for a in A for b in B}\n",
    "print(\"Com comprehension:\", prod_cart)\n",
    "\n",
    "# com for\n",
    "prod_cart_for = set()\n",
    "for a in A:\n",
    "    for b in B:\n",
    "        prod_cart_for.add((a,b))\n",
    "\n",
    "print(\"Com for:          \", prod_cart_for)"
   ]
  },
  {
   "cell_type": "code",
   "execution_count": 21,
   "metadata": {},
   "outputs": [
    {
     "name": "stdout",
     "output_type": "stream",
     "text": [
      "{('a', 30), ('a', 20), ('a', 10), ('b', 30), ('b', 20), ('b', 10)}\n"
     ]
    }
   ],
   "source": [
    "A = ['a', 'b']\n",
    "B = [10, 20, 30, 10, 10]\n",
    "\n",
    "prod_cart = {(a,b) for a in A for b in B}\n",
    "print(prod_cart)"
   ]
  },
  {
   "cell_type": "markdown",
   "metadata": {},
   "source": [
    "#### Formando lista de listas\n",
    "\n",
    "O elemento do comprehension pode ser uma coleção por exemplo para montar uma lista usamos:"
   ]
  },
  {
   "cell_type": "code",
   "execution_count": 22,
   "metadata": {},
   "outputs": [
    {
     "name": "stdout",
     "output_type": "stream",
     "text": [
      "[1, 2, 3, 4, 5]\n"
     ]
    }
   ],
   "source": [
    "lista1 = [x for x in range(1,6)]\n",
    "print(lista1)"
   ]
  },
  {
   "cell_type": "markdown",
   "metadata": {},
   "source": [
    "Inserindo esse comprehension num outro comprehension podemos repetí-lo"
   ]
  },
  {
   "cell_type": "code",
   "execution_count": 23,
   "metadata": {},
   "outputs": [
    {
     "name": "stdout",
     "output_type": "stream",
     "text": [
      "[[1, 2, 3, 4, 5], [1, 2, 3, 4, 5], [1, 2, 3, 4, 5]]\n"
     ]
    }
   ],
   "source": [
    "lista_listas = [[x for x in range(1,6)] for _ in range(3)]\n",
    "print(lista_listas)"
   ]
  },
  {
   "cell_type": "markdown",
   "metadata": {},
   "source": [
    "Num cenário mais complexo, podemos querer formar uma lista de listas com um padrão, em que cada lista possui valores 0, exceto por um elemento igual a 1 que equivale a sua posição.\n",
    "\n",
    "\n",
    "Exemplo com 3 listas:\n",
    "```\n",
    "[[1, 0, 0],\n",
    " [0, 1, 0],\n",
    " [0, 0, 1]]\n",
    "```"
   ]
  },
  {
   "cell_type": "markdown",
   "metadata": {},
   "source": [
    "Vamos começar produzindo apenas a primeira linha"
   ]
  },
  {
   "cell_type": "code",
   "execution_count": 24,
   "metadata": {},
   "outputs": [
    {
     "name": "stdout",
     "output_type": "stream",
     "text": [
      "[1, 0, 0]\n"
     ]
    }
   ],
   "source": [
    "n = 3\n",
    "pos = 0\n",
    "linha = [1 if x == pos else 0 for x in range(n)]\n",
    "print(linha)"
   ]
  },
  {
   "cell_type": "markdown",
   "metadata": {},
   "source": [
    "Agora, como aninhar isso num outro comprehension que permita mudar a a posição?"
   ]
  },
  {
   "cell_type": "code",
   "execution_count": 25,
   "metadata": {},
   "outputs": [
    {
     "name": "stdout",
     "output_type": "stream",
     "text": [
      "[[1, 0, 0], [0, 1, 0], [0, 0, 1]]\n"
     ]
    }
   ],
   "source": [
    "n = 3\n",
    "linhas = [[1 if x == pos else 0 for x in range(n)] for pos in range(n)]\n",
    "print(linhas)"
   ]
  },
  {
   "cell_type": "markdown",
   "metadata": {},
   "source": [
    "---\n",
    "\n",
    "#### <font color=\"blue\">Exercício 7a.4 </font>\n",
    "\n",
    "Codifique uma comprehension que simule uma matriz de tamanho n x n, cujos elementos são dados por `(i+j*i)`, sendo `i` o índice da linha e `j` o índice da coluna. Para simular isso com uma lista de listas, o `i` corresponde ao índice da lista principal e o `j` aos índices das listas aninhadas.\n",
    "\n",
    "Por exemplo, seja a segunda lista (posição i=1), o seu terceiro elemento (posição j=2) seria obtido por `1+2*1 = 3`\n",
    "\n",
    "Exemplo com n = 3:\n",
    "```\n",
    "  [[0, 0, 0],\n",
    "   [1, 2, 3],\n",
    "   [2, 4, 6]] \n",
    "```"
   ]
  },
  {
   "cell_type": "markdown",
   "metadata": {},
   "source": [
    "---\n",
    "\n",
    "####  <font color=\"red\">Desafio! Exercício 7a.5 </font>\n",
    "\n",
    "Temos uma série de pontos 3D organizados numa lista e gostaríamos de computar as distâncias entre todos os pontos pareados.\n",
    "\n",
    "Calcular a distância entre dois pontos $p1 = (x_1,y_1,z_1)$ e  $p2 = (x_2,y_2,z_2)$ usando a fórmula\n",
    "\n",
    "$$d(p1,p2) = |x_1 - x_2| +|y_1 - y_2| + |z_1 - z_2|,$$\n",
    "em que $|.|$ representa o valor absoluto.\n",
    "\n",
    "Exemplo com 2 pontos organizados em listas:\n",
    "```\n",
    "[[1.0, 1.0, 1.0],\n",
    " [3.0, 3.0, 3.0]]\n",
    "```\n",
    "\n",
    "A saída deve ser:\n",
    "```\n",
    "[[0.0, 6.0],\n",
    " [6.0, 0.0]]\n",
    "```\n",
    "\n",
    "Note que a diagonal principal tem sempre valor zero já que representa a distância de um ponto para ele mesmo, e que a matriz é simétrica pois a distância entre dois pontos p1 e p2 é tal que: d(p1,p2) = d(p2,p1).\n",
    "\n",
    "Para isso utilize uma única linha contendo comprehensions aninhadas e com iteração em paralelo"
   ]
  },
  {
   "cell_type": "code",
   "execution_count": 26,
   "metadata": {},
   "outputs": [
    {
     "name": "stdout",
     "output_type": "stream",
     "text": [
      "[0.0, 3.0, 3.0, 3.0]\n",
      "[3.0, 0.0, 4.0, 4.0]\n",
      "[3.0, 4.0, 0.0, 6.0]\n",
      "[3.0, 4.0, 6.0, 0.0]\n"
     ]
    }
   ],
   "source": [
    "from math import fabs, fsum\n",
    "\n",
    "pontos3d = [ [1.0, 1.0, 1.0],\n",
    "             [0.0, 1.0, 3.0],\n",
    "             [2.0, 2.0, 2.0],\n",
    "             [0.0, 0.0, 0.0] ]\n",
    "\n",
    "dists = [[fsum([fabs(a-b) for a,b in zip(p1,p2)]) for p2 in pontos3d] for p1 in pontos3d ]\n",
    "\n",
    "for linha in dists:\n",
    "    print(linha)"
   ]
  },
  {
   "cell_type": "code",
   "execution_count": null,
   "metadata": {},
   "outputs": [],
   "source": []
  }
 ],
 "metadata": {
  "kernelspec": {
   "display_name": "Python 3",
   "language": "python",
   "name": "python3"
  },
  "language_info": {
   "codemirror_mode": {
    "name": "ipython",
    "version": 3
   },
   "file_extension": ".py",
   "mimetype": "text/x-python",
   "name": "python",
   "nbconvert_exporter": "python",
   "pygments_lexer": "ipython3",
   "version": "3.9.5"
  },
  "toc": {
   "base_numbering": 1,
   "nav_menu": {},
   "number_sections": true,
   "sideBar": true,
   "skip_h1_title": false,
   "title_cell": "Table of Contents",
   "title_sidebar": "Contents",
   "toc_cell": false,
   "toc_position": {},
   "toc_section_display": true,
   "toc_window_display": false
  }
 },
 "nbformat": 4,
 "nbformat_minor": 2
}
